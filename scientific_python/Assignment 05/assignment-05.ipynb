{
 "cells": [
  {
   "cell_type": "markdown",
   "id": "23c64500",
   "metadata": {},
   "source": [
    "# This is Assignment 05 - Michael Navarro"
   ]
  },
  {
   "cell_type": "markdown",
   "id": "af7ff18e",
   "metadata": {},
   "source": [
    "## Requirement 04"
   ]
  },
  {
   "cell_type": "code",
   "execution_count": 1,
   "id": "6e9b46a4",
   "metadata": {},
   "outputs": [
    {
     "name": "stdout",
     "output_type": "stream",
     "text": [
      "      Addition: 2 + 2 = 4\n",
      "   Subtraction: 2 - 2 = 0\n",
      "Multiplication: 2 * 2 = 4\n",
      " True Division: 4 / 2 = 2.0\n",
      "Floor Division: 10 // 3 = 3\n",
      "Exponentiation: 2**2 = 4\n"
     ]
    }
   ],
   "source": [
    "# Demonstrate arithmetic operations\n",
    "\n",
    "# Addition\n",
    "add = 2 + 2\n",
    "print(f'{\"Addition:\":>15s} 2 + 2 = {add}')\n",
    "# Subtraction\n",
    "sub = 2 - 2\n",
    "print(f'{\"Subtraction:\":>15s} 2 - 2 = {sub}')\n",
    "# Multiplication\n",
    "multi = 2 * 2\n",
    "print(f'{\"Multiplication:\":>15s} 2 * 2 = {multi}')\n",
    "# True Division\n",
    "true_div = 4 / 2\n",
    "print(f'{\"True Division:\":>15s} 4 / 2 = {true_div}')\n",
    "# Floor Division\n",
    "flr_div = 10 // 3\n",
    "print(f'{\"Floor Division:\":>15s} 10 // 3 = {flr_div}')\n",
    "# Exponentiation\n",
    "exp = 2**2\n",
    "print(f'{\"Exponentiation:\":>15s} 2**2 = {exp}')"
   ]
  },
  {
   "cell_type": "markdown",
   "id": "b207e10c",
   "metadata": {},
   "source": [
    "## Requirement 05"
   ]
  },
  {
   "cell_type": "code",
   "execution_count": 2,
   "id": "d09fd104",
   "metadata": {},
   "outputs": [
    {
     "name": "stdout",
     "output_type": "stream",
     "text": [
      "    Equality (==): True = 2 == 2\n",
      "Not Equal to (!=): True = 2 != 3\n",
      "    Less than (<): True = 2 < 3\n",
      " Greater than (>): True = 5 > 3\n",
      "   Less than (<=): True = 3 <= 3\n",
      "Greater than (>=): True = 4 >= 4\n"
     ]
    }
   ],
   "source": [
    "# Demonstrate comparison operations\n",
    "\n",
    "# Equality\n",
    "eq = 2 == 2\n",
    "print(f'{\"Equality (==):\":>18s} {eq} = 2 == 2')\n",
    "# Not equal to\n",
    "not_eq = 2 != 3\n",
    "print(f'{\"Not Equal to (!=):\":>18s} {not_eq} = 2 != 3')\n",
    "# Less than\n",
    "less = 2 < 3\n",
    "print(f'{\"Less than (<):\":>18s} {less} = 2 < 3')\n",
    "# Greater than\n",
    "greater = 5 > 3\n",
    "print(f'{\"Greater than (>):\":>18s} {greater} = 5 > 3')\n",
    "# Less than or equal to\n",
    "less_eq = 3 <= 3\n",
    "print(f'{\"Less than (<=):\":>18s} {less_eq} = 3 <= 3')\n",
    "# Greater than or equal to\n",
    "greater_eq = 4 >= 4\n",
    "print(f'{\"Greater than (>=):\":>18s} {greater_eq} = 4 >= 4')"
   ]
  },
  {
   "cell_type": "markdown",
   "id": "63c1fdf4",
   "metadata": {},
   "source": [
    "## Requiremnt 06"
   ]
  },
  {
   "cell_type": "code",
   "execution_count": 3,
   "id": "7bf17f9c",
   "metadata": {},
   "outputs": [
    {
     "name": "stdout",
     "output_type": "stream",
     "text": [
      "Demonstrate arithmetic operations\n",
      "--------------------------------------------------\n",
      "      Addition: 3 + 3 = 6\n",
      "   Subtraction: 3 - 3 = 0\n",
      "Multiplication: 3 * 3 = 9\n",
      " True Division: 4 / 3 = 3.3333333333333335\n",
      "Floor Division: 10 // 3 = 3\n",
      "Exponentiation: 4**4 = 256\n",
      "\n",
      "Demonstrate comparison operations\n",
      "--------------------------------------------------\n",
      "    Equality (==): True = 3 == 3\n",
      "Not Equal to (!=): True = 3 != 4\n",
      "    Less than (<): True = 3 < 4\n",
      " Greater than (>): True = 5 > 1\n",
      "   Less than (<=): True = 9 <= 9\n",
      "Greater than (>=): True = 18 >= 18\n"
     ]
    }
   ],
   "source": [
    "!python operators.py"
   ]
  },
  {
   "cell_type": "markdown",
   "id": "7508325c",
   "metadata": {},
   "source": [
    "## Requirement 07"
   ]
  },
  {
   "cell_type": "code",
   "execution_count": 4,
   "id": "c42505fd",
   "metadata": {},
   "outputs": [
    {
     "name": "stdout",
     "output_type": "stream",
     "text": [
      "Empty lists initialized.\n",
      "List 1: []\n",
      "List 2: []\n",
      "\n",
      "Lists populated.\n",
      "List 1: [10, 20, 24, 29, 34, 60, 79, 88, 94, 98]\n",
      "List 2: [2, 23, 34, 35, 80, 84, 84, 87, 97, 97]\n",
      "\n",
      "Lists filtered\n",
      "Evens: [2, 10, 20, 24, 34, 34, 60, 80, 84, 84, 88, 94, 98]\n",
      " Odds: [23, 29, 35, 79, 87, 97, 97]\n"
     ]
    }
   ],
   "source": [
    "import random\n",
    "\n",
    "#========================= Start Helper Functions =========================#\n",
    "def popList():\n",
    "    pop_list = list()   # return variable\n",
    "    rand_num = int()    \n",
    "\n",
    "    for num in range(0, 10):\n",
    "        # Populate list\n",
    "        rand_num = random.randint(0, 100)\n",
    "        pop_list.append(rand_num)\n",
    "    # end for\n",
    "\n",
    "    pop_list.sort()\n",
    "\n",
    "    return pop_list\n",
    "# end popList()\n",
    "\n",
    "def filterEvens(list_1, list_2):\n",
    "    evens = list()  # return variable\n",
    "    all_nums = [*list_1, *list_2]\n",
    "\n",
    "    for num in all_nums:\n",
    "        if (num % 2 == 0):\n",
    "            evens.append(num)\n",
    "        # end if\n",
    "    # end for\n",
    "\n",
    "    evens.sort()\n",
    "\n",
    "    return evens\n",
    "# end filterEvens\n",
    "\n",
    "def filterOdds(list_1, list_2):\n",
    "    odds = list()   # return variable\n",
    "    all_nums = [*list_1, *list_2]\n",
    "\n",
    "    for num in all_nums:\n",
    "        if (num % 2 != 0):\n",
    "            odds.append(num)\n",
    "        # end if\n",
    "    # end for\n",
    "\n",
    "    odds.sort()\n",
    "\n",
    "    return odds\n",
    "# end filterOdds\n",
    "\n",
    "#========================= Core Logic =========================#\n",
    "# Req. 07 variables\n",
    "list_1 = list()\n",
    "list_2 = list()\n",
    "\n",
    "list_even = list()\n",
    "list_odd = list()\n",
    "\n",
    "print('Empty lists initialized.')\n",
    "print(f'List 1: {list_1}')\n",
    "print(f'List 2: {list_2}')\n",
    "\n",
    "list_1 = popList()\n",
    "list_2 = popList()\n",
    "\n",
    "print('\\nLists populated.')\n",
    "print(f'List 1: {list_1}')\n",
    "print(f'List 2: {list_2}')\n",
    "\n",
    "list_even = filterEvens(list_1, list_2)\n",
    "list_odd = filterOdds(list_1, list_2)\n",
    "\n",
    "print('\\nLists filtered')\n",
    "print(f'{\"Evens:\":>6s} {list_even}')\n",
    "print(f'{\"Odds:\":>6s} {list_odd}')"
   ]
  },
  {
   "cell_type": "markdown",
   "id": "bcee0816",
   "metadata": {},
   "source": [
    "## Requirement 08"
   ]
  },
  {
   "cell_type": "code",
   "execution_count": 5,
   "id": "951e4a6c",
   "metadata": {},
   "outputs": [
    {
     "name": "stdout",
     "output_type": "stream",
     "text": [
      "5.0 is an integer? True\n",
      "Quotient of 10/3 is an integer? False\n"
     ]
    }
   ],
   "source": [
    "# Demonstrate the use of the method is_integer()\n",
    "\n",
    "# Integer\n",
    "is_int = (5.0).is_integer()\n",
    "print(f'5.0 is an integer? {is_int}')\n",
    "# Not Integer\n",
    "is_not_int = (10 / 3.0).is_integer()\n",
    "print(f'Quotient of 10/3 is an integer? {is_not_int}')"
   ]
  },
  {
   "cell_type": "markdown",
   "id": "47cb141d",
   "metadata": {},
   "source": [
    "## Requirement 09"
   ]
  },
  {
   "cell_type": "code",
   "execution_count": 6,
   "id": "b5dfc5c4",
   "metadata": {},
   "outputs": [
    {
     "name": "stdout",
     "output_type": "stream",
     "text": [
      "Boolean Operations\n",
      "==================================================\n",
      "True AND False => False\n",
      "True OR False => True\n",
      "NOT True => False\n",
      "True IS NOT False => True\n",
      "\n",
      "Identity Operations\n",
      "==================================================\n",
      "----- Immutable Test -----\n",
      "test_str1 = \"This is a string\"\n",
      "ID of test_str1: 2296530599008\n",
      "\n",
      "Changing value of test_str1...\n",
      "\n",
      "test_str1 = \"New test string\"\n",
      "ID of test_str1: 2296530580720\n",
      "\n",
      "----- Mutable Test -----\n",
      "mutable_var = [10]\n",
      "mutable_var ID: 2296530576512\n",
      "\n",
      "Changing value of mutable_var...\n",
      "\n",
      "mutable_var = [10, 11]\n",
      "mutable_var ID: 2296530576512\n",
      "\n",
      "Membership Operations\n",
      "==================================================\n",
      "'four' IN ['one', 'two', 'three']? => False\n",
      "'four' NOT IN ['one', 'two', 'three']? => True\n"
     ]
    }
   ],
   "source": [
    "# Demonstrate Boolean, Identity, and Membership operations\n",
    "\n",
    "#===================================================================\n",
    "#                        Boolean Operations \n",
    "#===================================================================\n",
    "print('Boolean Operations')\n",
    "print('=' * 50)\n",
    "b_true = True\n",
    "b_false = False\n",
    "\n",
    "b_and = b_true and b_false\n",
    "b_or = b_true or b_false\n",
    "b_not = not b_true\n",
    "b_is = b_true is b_false\n",
    "b_is_not = b_true is not b_false\n",
    "\n",
    "print(f'{b_true} AND {b_false} => {b_and}')\n",
    "print(f'{b_true} OR {b_false} => {b_or}')\n",
    "print(f'NOT {b_true} => {b_not}')\n",
    "print(f'{b_true} IS NOT {b_false} => {b_is_not}')\n",
    "\n",
    "print('')\n",
    "\n",
    "#===================================================================\n",
    "#                        Identity Operations \n",
    "#===================================================================\n",
    "print('Identity Operations')\n",
    "print('=' * 50)\n",
    "\n",
    "test_str1 = 'This is a string'\n",
    "test_str1_id = id(test_str1)\n",
    "\n",
    "#========== ID of mutable type test ==========#\n",
    "print('----- Immutable Test -----')\n",
    "print(f'test_str1 = \"{test_str1}\"')\n",
    "print(f'ID of test_str1: {test_str1_id}')\n",
    "\n",
    "print('\\nChanging value of test_str1...\\n')\n",
    "test_str1 = 'New test string'\n",
    "test_str1_id = id(test_str1)\n",
    "\n",
    "print(f'test_str1 = \"{test_str1}\"')\n",
    "print(f'ID of test_str1: {test_str1_id}')\n",
    "\n",
    "print('')\n",
    "\n",
    "#========== ID of immutable type test ==========#\n",
    "mutable_var = [10]\n",
    "mutable_var_id = id(mutable_var)\n",
    "\n",
    "print('----- Mutable Test -----')\n",
    "print(f'mutable_var = {mutable_var}')\n",
    "print(f'mutable_var ID: {mutable_var_id}')\n",
    "\n",
    "print('\\nChanging value of mutable_var...\\n')\n",
    "mutable_var.append(11)\n",
    "mutable_var_id = id(mutable_var)\n",
    "\n",
    "print(f'mutable_var = {mutable_var}')\n",
    "print(f'mutable_var ID: {mutable_var_id}')\n",
    "\n",
    "print('')\n",
    "\n",
    "#===================================================================\n",
    "#                        Membership Operations \n",
    "#===================================================================\n",
    "print('Membership Operations')\n",
    "print('=' * 50)\n",
    "\n",
    "test_list = ['one', 'two', 'three']\n",
    "test_str2 = 'four'\n",
    "b_in = test_str2 in test_list\n",
    "b_not_in = test_str2 not in test_list\n",
    "\n",
    "print(f\"'{test_str2}' IN {test_list}? => {b_in}\")\n",
    "print(f\"'{test_str2}' NOT IN {test_list}? => {b_not_in}\")"
   ]
  },
  {
   "cell_type": "markdown",
   "id": "79e1f49d",
   "metadata": {},
   "source": [
    "## Requirement 10"
   ]
  },
  {
   "cell_type": "code",
   "execution_count": 7,
   "id": "5a819e9f",
   "metadata": {},
   "outputs": [
    {
     "name": "stdout",
     "output_type": "stream",
     "text": [
      "Variable Precision Integer: 784637716923335095479473677900958302012794430558004314112\n"
     ]
    }
   ],
   "source": [
    "# Demonstrate variable precision\n",
    "\n",
    "vp_int = 2**189\n",
    "print(f'Variable Precision Integer: {vp_int}')"
   ]
  },
  {
   "cell_type": "markdown",
   "id": "74e402b9",
   "metadata": {},
   "source": [
    "## Requirement 11"
   ]
  },
  {
   "cell_type": "code",
   "execution_count": 8,
   "id": "24c36c45",
   "metadata": {},
   "outputs": [
    {
     "name": "stdout",
     "output_type": "stream",
     "text": [
      "Original String: This is the last test string in the this assignment.\n",
      "\n",
      "Length of test_str3: 52\n",
      "Uppercased test_str3: THIS IS THE LAST TEST STRING IN THE THIS ASSIGNMENT.\n",
      "Capitalized test_str3: This is the last test string in the this assignment.\n",
      "Concatinated test_str3: This is the last test string in the this assignment. Oh, nevermind.\n",
      "Example of multi-concatination (\"*\" * 100): ****************************************************************************************************\n",
      "First character of test_str3: T\n"
     ]
    }
   ],
   "source": [
    "# Demonstrate string operations\n",
    "\n",
    "test_str3 = 'This is the last test string in the this assignment.'\n",
    "test_str3_len = len(test_str3)\n",
    "test_str3_up = test_str3.upper()\n",
    "test_str3_cap = test_str3.capitalize()\n",
    "test_str4 = test_str3 + ' Oh, nevermind.'\n",
    "multi_concat = '*' * 100\n",
    "first_char = test_str3[0]\n",
    "\n",
    "\n",
    "print(f'Original String: {test_str3}\\n')\n",
    "print(f'Length of test_str3: {test_str3_len}')\n",
    "print(f'Uppercased test_str3: {test_str3_up}')\n",
    "print(f'Capitalized test_str3: {test_str3_cap}')\n",
    "print(f'Concatinated test_str3: {test_str4}')\n",
    "print(f'Example of multi-concatination (\"*\" * 100): {multi_concat}')\n",
    "print(f'First character of test_str3: {first_char}')"
   ]
  },
  {
   "cell_type": "markdown",
   "id": "cefaae6e",
   "metadata": {},
   "source": [
    "## Requirement 12"
   ]
  },
  {
   "cell_type": "markdown",
   "id": "810102a8",
   "metadata": {},
   "source": [
    "This was a pretty fun assignment as I finally learned how to use the Jupiter Notebook format.\n",
    "I am extremely excited about this since I want to go into Machine Learning and AI and Jupter Notebooks are commonly used in those fields. It also served as a nice refresher over the fundamentals of Python, or at least some of them. One should review the fundamentals every once in a while to make sure they are not forgotten."
   ]
  }
 ],
 "metadata": {
  "interpreter": {
   "hash": "dcc8b1093f866ea1902415b07aa2a9712d139ab7d241e7a16103ea8da33d0f73"
  },
  "kernelspec": {
   "display_name": "Python 3",
   "language": "python",
   "name": "python3"
  },
  "language_info": {
   "codemirror_mode": {
    "name": "ipython",
    "version": 3
   },
   "file_extension": ".py",
   "mimetype": "text/x-python",
   "name": "python",
   "nbconvert_exporter": "python",
   "pygments_lexer": "ipython3",
   "version": "3.8.8"
  }
 },
 "nbformat": 4,
 "nbformat_minor": 5
}
