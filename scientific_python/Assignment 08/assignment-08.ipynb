{
 "cells": [
  {
   "cell_type": "markdown",
   "metadata": {},
   "source": [
    "# This is Assignment 08 - Michael Navarro"
   ]
  },
  {
   "cell_type": "markdown",
   "metadata": {},
   "source": [
    "## Requirement 04"
   ]
  },
  {
   "cell_type": "markdown",
   "metadata": {},
   "source": [
    "1 -  Data Robot: https://www.datarobot.com/wiki/data-science/\n",
    "\n",
    "\"Data science is the field of study that combines domain expertise, programming skills, and knowledge of mathematics and statistics to extract meaningful insights from data. Data science practitioners apply machine learning algorithms to numbers, text, images, video, audio, and more to produce artificial intelligence (AI) systems to perform tasks that ordinarily require human intelligence. In turn, these systems generate insights which analysts and business users can translate into tangible business value.\"\n",
    "\n",
    "2 - IBM: https://www.ibm.com/cloud/learn/data-science-introduction\n",
    "\n",
    "\"Data science combines the scientific method, math and statistics, specialized programming, advanced analytics, AI, and even storytelling to uncover and explain the business insights buried in data.\"\n",
    "\n",
    "3 - Oracle: https://www.oracle.com/data-science/what-is-data-science/\n",
    "\n",
    "\"Data science combines multiple fields, including statistics, scientific methods, artificial intelligence (AI), and data analysis, to extract value from data. Those who practice data science are called data scientists, and they combine a range of skills to analyze data collected from the web, smartphones, customers, sensors, and other sources to derive actionable insights.\n",
    "\n",
    "Data science encompasses preparing data for analysis, including cleansing, aggregating, and manipulating the data to perform advanced data analysis. Analytic applications and data scientists can then review the results to uncover patterns and enable business leaders to draw informed insights.\""
   ]
  },
  {
   "cell_type": "markdown",
   "metadata": {},
   "source": [
    "## Requirement 05"
   ]
  },
  {
   "cell_type": "code",
   "execution_count": 1,
   "metadata": {},
   "outputs": [
    {
     "name": "stdout",
     "output_type": "stream",
     "text": [
      "--------------------------------------------------\n",
      "Topic 1: Join Function\n",
      "--------------------------------------------------\n",
      "Help on built-in function join:\n",
      "\n",
      "join(iterable, /) method of builtins.str instance\n",
      "    Concatenate any number of strings.\n",
      "    \n",
      "    The string whose method is called is inserted in between each given string.\n",
      "    The result is returned as a new string.\n",
      "    \n",
      "    Example: '.'.join(['ab', 'pq', 'rs']) -> 'ab.pq.rs'\n",
      "\n",
      "--------------------------------------------------\n",
      "Topic 2: Input Function\n",
      "--------------------------------------------------\n",
      "Help on method raw_input in module ipykernel.kernelbase:\n",
      "\n",
      "raw_input(prompt='') method of ipykernel.ipkernel.IPythonKernel instance\n",
      "    Forward raw_input to frontends\n",
      "    \n",
      "    Raises\n",
      "    ------\n",
      "    StdinNotImplementedError if active frontend doesn't support stdin.\n",
      "\n",
      "--------------------------------------------------\n",
      "Topic 3: Upper Function\n",
      "--------------------------------------------------\n",
      "Due to how the interpreter organizes output, this will be at the bottom of the following output.\n",
      "--------------------------------------------------\n",
      "Topic 4: Abs Function\n",
      "--------------------------------------------------\n",
      "Help on built-in function abs in module builtins:\n",
      "\n",
      "abs(x, /)\n",
      "    Return the absolute value of the argument.\n",
      "\n",
      "--------------------------------------------------\n",
      "Topic 5: Enumerate Function\n",
      "--------------------------------------------------\n",
      "Help on class enumerate in module builtins:\n",
      "\n",
      "class enumerate(object)\n",
      " |  enumerate(iterable, start=0)\n",
      " |  \n",
      " |  Return an enumerate object.\n",
      " |  \n",
      " |    iterable\n",
      " |      an object supporting iteration\n",
      " |  \n",
      " |  The enumerate object yields pairs containing a count (from start, which\n",
      " |  defaults to zero) and a value yielded by the iterable argument.\n",
      " |  \n",
      " |  enumerate is useful for obtaining an indexed list:\n",
      " |      (0, seq[0]), (1, seq[1]), (2, seq[2]), ...\n",
      " |  \n",
      " |  Methods defined here:\n",
      " |  \n",
      " |  __getattribute__(self, name, /)\n",
      " |      Return getattr(self, name).\n",
      " |  \n",
      " |  __iter__(self, /)\n",
      " |      Implement iter(self).\n",
      " |  \n",
      " |  __next__(self, /)\n",
      " |      Implement next(self).\n",
      " |  \n",
      " |  __reduce__(...)\n",
      " |      Return state information for pickling.\n",
      " |  \n",
      " |  ----------------------------------------------------------------------\n",
      " |  Class methods defined here:\n",
      " |  \n",
      " |  __class_getitem__(...) from builtins.type\n",
      " |      See PEP 585\n",
      " |  \n",
      " |  ----------------------------------------------------------------------\n",
      " |  Static methods defined here:\n",
      " |  \n",
      " |  __new__(*args, **kwargs) from builtins.type\n",
      " |      Create and return a new object.  See help(type) for accurate signature.\n",
      "\n"
     ]
    },
    {
     "name": "stdout",
     "output_type": "stream",
     "text": [
      "\u001b[1;31mSignature:\u001b[0m \u001b[0mhelp_str\u001b[0m\u001b[1;33m.\u001b[0m\u001b[0mupper\u001b[0m\u001b[1;33m(\u001b[0m\u001b[1;33m)\u001b[0m\u001b[1;33m\u001b[0m\u001b[1;33m\u001b[0m\u001b[0m\n",
      "\u001b[1;31mDocstring:\u001b[0m Return a copy of the string converted to uppercase.\n",
      "\u001b[1;31mType:\u001b[0m      builtin_function_or_method\n"
     ]
    }
   ],
   "source": [
    "# Demonstrate accessing the help function for five different topics\n",
    "print('-' * 50)\n",
    "print('Topic 1: Join Function')\n",
    "print('-' * 50)\n",
    "help(''.join)\n",
    "\n",
    "print('-' * 50)\n",
    "print('Topic 2: Input Function')\n",
    "print('-' * 50)\n",
    "help(input)\n",
    "\n",
    "print('-' * 50)\n",
    "print('Topic 3: Upper Function')\n",
    "print('-' * 50)\n",
    "print('Due to how the interpreter organizes output, this will be at the bottom of the following output.')\n",
    "help_str = 'Hello'\n",
    "help_str.upper?\n",
    "\n",
    "print('-' * 50)\n",
    "print('Topic 4: Abs Function')\n",
    "print('-' * 50)\n",
    "help(abs)\n",
    "\n",
    "print('-' * 50)\n",
    "print('Topic 5: Enumerate Function')\n",
    "print('-' * 50)\n",
    "help(enumerate)\n"
   ]
  },
  {
   "cell_type": "markdown",
   "metadata": {},
   "source": [
    "## Requirement 06"
   ]
  },
  {
   "cell_type": "code",
   "execution_count": 2,
   "metadata": {},
   "outputs": [
    {
     "name": "stdout",
     "output_type": "stream",
     "text": [
      "The cube of 3 is: 27\n"
     ]
    }
   ],
   "source": [
    "# Write a function called cube with the following criteria\n",
    "# 1. Takes in an argument and raises it to the third power\n",
    "# 2. Include a doctsring \n",
    "# 3. Include a call to cube()\n",
    "\n",
    "def cube(num):\n",
    "    '''Return the cube of num'''\n",
    "    num_cubed = num ** 3\n",
    "    return num_cubed\n",
    "# end cube()\n",
    "\n",
    "print(f'The cube of 3 is: {cube(3)}')"
   ]
  },
  {
   "cell_type": "markdown",
   "metadata": {},
   "source": [
    "## Requirement 07"
   ]
  },
  {
   "cell_type": "code",
   "execution_count": 3,
   "metadata": {},
   "outputs": [
    {
     "name": "stdout",
     "output_type": "stream",
     "text": [
      "\u001b[1;31mSignature:\u001b[0m \u001b[0mcube\u001b[0m\u001b[1;33m(\u001b[0m\u001b[0mnum\u001b[0m\u001b[1;33m)\u001b[0m\u001b[1;33m\u001b[0m\u001b[1;33m\u001b[0m\u001b[0m\n",
      "\u001b[1;31mDocstring:\u001b[0m Return the cube of num\n",
      "\u001b[1;31mFile:\u001b[0m      c:\\users\\angel\\appdata\\local\\temp\\ipykernel_8732\\2578092930.py\n",
      "\u001b[1;31mType:\u001b[0m      function\n"
     ]
    }
   ],
   "source": [
    "# Display the docstring and source code of cube()\n",
    "cube?"
   ]
  },
  {
   "cell_type": "code",
   "execution_count": 4,
   "metadata": {},
   "outputs": [
    {
     "name": "stdout",
     "output_type": "stream",
     "text": [
      "\u001b[1;31mSignature:\u001b[0m \u001b[0mcube\u001b[0m\u001b[1;33m(\u001b[0m\u001b[0mnum\u001b[0m\u001b[1;33m)\u001b[0m\u001b[1;33m\u001b[0m\u001b[1;33m\u001b[0m\u001b[0m\n",
      "\u001b[1;31mSource:\u001b[0m   \n",
      "\u001b[1;32mdef\u001b[0m \u001b[0mcube\u001b[0m\u001b[1;33m(\u001b[0m\u001b[0mnum\u001b[0m\u001b[1;33m)\u001b[0m\u001b[1;33m:\u001b[0m\u001b[1;33m\n",
      "\u001b[0m    \u001b[1;34m'''Return the cube of num'''\u001b[0m\u001b[1;33m\n",
      "\u001b[0m    \u001b[0mnum_cubed\u001b[0m \u001b[1;33m=\u001b[0m \u001b[0mnum\u001b[0m \u001b[1;33m**\u001b[0m \u001b[1;36m3\u001b[0m\u001b[1;33m\n",
      "\u001b[0m    \u001b[1;32mreturn\u001b[0m \u001b[0mnum_cubed\u001b[0m\u001b[1;33m\u001b[0m\u001b[1;33m\u001b[0m\u001b[0m\n",
      "\u001b[1;31mFile:\u001b[0m      c:\\users\\angel\\appdata\\local\\temp\\ipykernel_8732\\2578092930.py\n",
      "\u001b[1;31mType:\u001b[0m      function\n"
     ]
    }
   ],
   "source": [
    "cube??"
   ]
  },
  {
   "cell_type": "markdown",
   "metadata": {},
   "source": [
    "## Requirement 08"
   ]
  },
  {
   "cell_type": "code",
   "execution_count": 5,
   "metadata": {},
   "outputs": [],
   "source": [
    "# Define a list with the following criteria\n",
    "# 1. Name: L\n",
    "# 2. Include L. in a code cell below and press <tab>\n",
    "\n",
    "L = [1, 2, 3]"
   ]
  },
  {
   "cell_type": "code",
   "execution_count": 6,
   "metadata": {},
   "outputs": [],
   "source": [
    "# This cell will be commented out as the tab completetion does not produce output and partial code creates errors\n",
    "# L."
   ]
  },
  {
   "cell_type": "markdown",
   "metadata": {},
   "source": [
    "![](Requirement08.png)"
   ]
  },
  {
   "cell_type": "markdown",
   "metadata": {},
   "source": [
    "## Requirement 09"
   ]
  },
  {
   "cell_type": "code",
   "execution_count": 7,
   "metadata": {},
   "outputs": [],
   "source": [
    "# This cell will be commented out as the tab completion does not produce output and partial code creates errors\n",
    "# from os import pa"
   ]
  },
  {
   "cell_type": "markdown",
   "metadata": {},
   "source": [
    "![](Requirement09.png)"
   ]
  },
  {
   "cell_type": "markdown",
   "metadata": {},
   "source": [
    "## Requirement 10"
   ]
  },
  {
   "cell_type": "code",
   "execution_count": 8,
   "metadata": {},
   "outputs": [
    {
     "name": "stdout",
     "output_type": "stream",
     "text": [
      "KeyboardInterrupt"
     ]
    }
   ],
   "source": [
    "# Demonstrate the use of wildcard matching\n",
    "*Interrupt?"
   ]
  },
  {
   "cell_type": "markdown",
   "metadata": {},
   "source": [
    "## Requirement 11"
   ]
  },
  {
   "cell_type": "code",
   "execution_count": 9,
   "metadata": {},
   "outputs": [
    {
     "name": "stdout",
     "output_type": "stream",
     "text": [
      "The cube of 1 is : 1\n",
      "The cube of 2 is : 8\n",
      "The cube of 3 is : 27\n",
      "The cube of 4 is : 64\n"
     ]
    }
   ],
   "source": [
    "# Create myscript.py file with the following criteria\n",
    "# 1. Copy of cube() definition\n",
    "# 2. For loop calling cube() multiple times\n",
    "# 3. Use a magic command to run myscript.py from a code cell\n",
    "\n",
    "%run myscript.py"
   ]
  },
  {
   "cell_type": "markdown",
   "metadata": {},
   "source": [
    "## Requirement 12"
   ]
  },
  {
   "cell_type": "code",
   "execution_count": 10,
   "metadata": {},
   "outputs": [
    {
     "name": "stdout",
     "output_type": "stream",
     "text": [
      "19.1 µs ± 47.4 ns per loop (mean ± std. dev. of 7 runs, 100000 loops each)\n"
     ]
    }
   ],
   "source": [
    "# Use a magic command to time an operatio\n",
    "\n",
    "%timeit timed_loop = [num ** 3 for num in range(1, 100)]"
   ]
  },
  {
   "cell_type": "markdown",
   "metadata": {},
   "source": [
    "## Requirement 13"
   ]
  },
  {
   "cell_type": "code",
   "execution_count": 11,
   "metadata": {},
   "outputs": [],
   "source": [
    "# Demonstrate silently displaying output\n",
    "\n",
    "'Hidden Message';"
   ]
  },
  {
   "cell_type": "markdown",
   "metadata": {},
   "source": [
    "## Requirement 14"
   ]
  },
  {
   "cell_type": "code",
   "execution_count": 12,
   "metadata": {},
   "outputs": [
    {
     "name": "stdout",
     "output_type": "stream",
     "text": [
      "--------------------------------------------------\n",
      "Console Command: Dir\n",
      "--------------------------------------------------\n",
      " Volume in drive C has no label.\n",
      " Volume Serial Number is 2E71-D75C\n",
      "\n",
      " Directory of c:\\Users\\Angel\\Desktop\\Courses\\ACC.F21 - ITSE-1302-001 Comp Program - Sci Python\\Assignment 08\n",
      "\n",
      "10/24/2021  04:55 PM    <DIR>          .\n",
      "10/16/2021  09:02 PM    <DIR>          ..\n",
      "10/24/2021  04:56 PM            36,473 assignment-08.ipynb\n",
      "10/24/2021  03:55 PM    <DIR>          images\n",
      "10/24/2021  02:51 PM           219,304 itse1302-assignment-08.pdf\n",
      "10/24/2021  03:14 PM               198 myscript.py\n",
      "10/24/2021  03:06 PM            13,784 Requirement08.png\n",
      "10/24/2021  03:06 PM            57,560 Requirement09.png\n",
      "10/24/2021  04:55 PM                14 temp.txt\n",
      "               6 File(s)        327,333 bytes\n",
      "               3 Dir(s)  182,854,893,568 bytes free\n",
      "--------------------------------------------------\n",
      "Console Command: Hostname\n",
      "--------------------------------------------------\n",
      "DESKTOP-05M85I4\n",
      "--------------------------------------------------\n",
      "Console Command: Tree\n",
      "--------------------------------------------------\n",
      "Folder PATH listing\n",
      "Volume serial number is 2E71-D75C\n",
      "C:.\n",
      "+---images\n",
      "--------------------------------------------------\n",
      "Console Command: Ping\n",
      "--------------------------------------------------\n",
      "\n",
      "Pinging google.com [142.250.68.142] with 32 bytes of data:\n",
      "Reply from 142.250.68.142: bytes=32 time=14ms TTL=118\n",
      "Reply from 142.250.68.142: bytes=32 time=14ms TTL=118\n",
      "Reply from 142.250.68.142: bytes=32 time=14ms TTL=118\n",
      "Reply from 142.250.68.142: bytes=32 time=14ms TTL=118\n",
      "\n",
      "Ping statistics for 142.250.68.142:\n",
      "    Packets: Sent = 4, Received = 4, Lost = 0 (0% loss),\n",
      "Approximate round trip times in milli-seconds:\n",
      "    Minimum = 14ms, Maximum = 14ms, Average = 14ms\n",
      "--------------------------------------------------\n",
      "Console Command: Echo\n",
      "--------------------------------------------------\n",
      "Yay, this works!\n"
     ]
    }
   ],
   "source": [
    "# Demonstrate five different command console shell commands\n",
    "\n",
    "print('-' * 50)\n",
    "print('Console Command: Dir')\n",
    "print('-' * 50)\n",
    "!dir\n",
    "\n",
    "print('-' * 50)\n",
    "print('Console Command: Hostname')\n",
    "print('-' * 50)\n",
    "!hostname\n",
    "\n",
    "print('-' * 50)\n",
    "print('Console Command: Tree')\n",
    "print('-' * 50)\n",
    "!tree\n",
    "\n",
    "print('-' * 50)\n",
    "print('Console Command: Ping')\n",
    "print('-' * 50)\n",
    "!ping google.com\n",
    "\n",
    "print('-' * 50)\n",
    "print('Console Command: Echo')\n",
    "print('-' * 50)\n",
    "!echo Yay, this works!\n"
   ]
  },
  {
   "cell_type": "markdown",
   "metadata": {},
   "source": [
    "## Requirement 15"
   ]
  },
  {
   "cell_type": "code",
   "execution_count": 13,
   "metadata": {},
   "outputs": [
    {
     "name": "stdout",
     "output_type": "stream",
     "text": [
      "Turning automagic off...\n",
      "\n",
      "Automagic is OFF, % prefix IS needed for line magics.\n",
      "\n",
      "--------------------------------------------------\n",
      "Magic Command: Make Directory\n",
      "--------------------------------------------------\n",
      "Making \"test\" directory in current working directory...\n",
      "--------------------------------------------------\n",
      "Magic Command: Change Directory\n",
      "--------------------------------------------------\n",
      "Changing into the new \"test\" directory\n",
      "c:\\Users\\Angel\\Desktop\\Courses\\ACC.F21 - ITSE-1302-001 Comp Program - Sci Python\\Assignment 08\\test\n",
      "--------------------------------------------------\n",
      "Magic Command: Path to Working Directory\n",
      "--------------------------------------------------\n"
     ]
    },
    {
     "data": {
      "text/plain": [
       "'c:\\\\Users\\\\Angel\\\\Desktop\\\\Courses\\\\ACC.F21 - ITSE-1302-001 Comp Program - Sci Python\\\\Assignment 08\\\\test'"
      ]
     },
     "execution_count": 13,
     "metadata": {},
     "output_type": "execute_result"
    }
   ],
   "source": [
    "# With automagic set to off, demonstrate five different shell-related magic commands\n",
    "print('Turning automagic off...')\n",
    "%automagic 0\n",
    "print()\n",
    "\n",
    "print('-' * 50)\n",
    "print('Magic Command: Make Directory')\n",
    "print('-' * 50)\n",
    "print('Making \"test\" directory in current working directory...')\n",
    "%mkdir test\n",
    "\n",
    "print('-' * 50)\n",
    "print('Magic Command: Change Directory')\n",
    "print('-' * 50)\n",
    "print('Changing into the new \"test\" directory')\n",
    "%cd test/\n",
    "\n",
    "print('-' * 50)\n",
    "print('Magic Command: Path to Working Directory')\n",
    "print('-' * 50)\n",
    "%pwd\n",
    "\n"
   ]
  },
  {
   "cell_type": "code",
   "execution_count": 14,
   "metadata": {},
   "outputs": [
    {
     "name": "stdout",
     "output_type": "stream",
     "text": [
      "--------------------------------------------------\n",
      "Magic Command: Rename\n",
      "--------------------------------------------------\n",
      "Changing back to parent directory and renaming \"test\" to \"delete\"\n",
      "c:\\Users\\Angel\\Desktop\\Courses\\ACC.F21 - ITSE-1302-001 Comp Program - Sci Python\\Assignment 08\n",
      "--------------------------------------------------\n",
      "Magic Command: Remove Directory\n",
      "--------------------------------------------------\n",
      "Removing \"delete\" directory\n"
     ]
    }
   ],
   "source": [
    "# Needed to split cells due to output not displaying\n",
    "\n",
    "print('-' * 50)\n",
    "print('Magic Command: Rename')\n",
    "print('-' * 50)\n",
    "print('Changing back to parent directory and renaming \"test\" to \"delete\"')\n",
    "%cd ..\n",
    "%ren test delete\n",
    "\n",
    "print('-' * 50)\n",
    "print('Magic Command: Remove Directory')\n",
    "print('-' * 50)\n",
    "print('Removing \"delete\" directory')\n",
    "%rmdir delete"
   ]
  },
  {
   "cell_type": "markdown",
   "metadata": {},
   "source": [
    "## Requirement 16"
   ]
  },
  {
   "cell_type": "code",
   "execution_count": 15,
   "metadata": {},
   "outputs": [
    {
     "name": "stdout",
     "output_type": "stream",
     "text": [
      "Turning automagic on...\n",
      "\n",
      "Automagic is ON, % prefix IS NOT needed for line magics.\n",
      "\n"
     ]
    }
   ],
   "source": [
    "# With autopmagic on, demonstrate five different shell related magic commands\n",
    "\n",
    "print('Turning automagic on...')\n",
    "%automagic 1\n",
    "print()"
   ]
  },
  {
   "cell_type": "code",
   "execution_count": 16,
   "metadata": {},
   "outputs": [
    {
     "name": "stdout",
     "output_type": "stream",
     "text": [
      "--------------------------------------------------\n",
      "Magic Command: Create a text file\n",
      "--------------------------------------------------\n"
     ]
    }
   ],
   "source": [
    "print('-' * 50)\n",
    "print('Magic Command: Create a text file')\n",
    "print('-' * 50)"
   ]
  },
  {
   "cell_type": "code",
   "execution_count": 17,
   "metadata": {},
   "outputs": [],
   "source": [
    "echo Sample Text > temp.txt"
   ]
  },
  {
   "cell_type": "code",
   "execution_count": 18,
   "metadata": {},
   "outputs": [
    {
     "name": "stdout",
     "output_type": "stream",
     "text": [
      "--------------------------------------------------\n",
      "Magic Command: Read temp.txt\n",
      "--------------------------------------------------\n"
     ]
    }
   ],
   "source": [
    "print('-' * 50)\n",
    "print('Magic Command: Read temp.txt')\n",
    "print('-' * 50)"
   ]
  },
  {
   "cell_type": "code",
   "execution_count": 19,
   "metadata": {},
   "outputs": [
    {
     "name": "stdout",
     "output_type": "stream",
     "text": [
      "Sample Text \n"
     ]
    }
   ],
   "source": [
    "more temp.txt"
   ]
  },
  {
   "cell_type": "code",
   "execution_count": 20,
   "metadata": {},
   "outputs": [
    {
     "name": "stdout",
     "output_type": "stream",
     "text": [
      "--------------------------------------------------\n",
      "Magic Command: Directory History\n",
      "--------------------------------------------------\n"
     ]
    }
   ],
   "source": [
    "print('-' * 50)\n",
    "print('Magic Command: Directory History')\n",
    "print('-' * 50)"
   ]
  },
  {
   "cell_type": "code",
   "execution_count": 21,
   "metadata": {},
   "outputs": [
    {
     "name": "stdout",
     "output_type": "stream",
     "text": [
      "Directory history (kept in _dh)\n",
      "0: c:\\Users\\Angel\\Desktop\\Courses\\ACC.F21 - ITSE-1302-001 Comp Program - Sci Python\\Assignment 08\n",
      "1: c:\\Users\\Angel\\Desktop\\Courses\\ACC.F21 - ITSE-1302-001 Comp Program - Sci Python\\Assignment 08\\test\n",
      "2: c:\\Users\\Angel\\Desktop\\Courses\\ACC.F21 - ITSE-1302-001 Comp Program - Sci Python\\Assignment 08\n"
     ]
    }
   ],
   "source": [
    "dhist"
   ]
  },
  {
   "cell_type": "code",
   "execution_count": 22,
   "metadata": {},
   "outputs": [
    {
     "name": "stdout",
     "output_type": "stream",
     "text": [
      "--------------------------------------------------\n",
      "Magic Command: Environment\n",
      "--------------------------------------------------\n"
     ]
    }
   ],
   "source": [
    "print('-' * 50)\n",
    "print('Magic Command: Environment')\n",
    "print('-' * 50)"
   ]
  },
  {
   "cell_type": "code",
   "execution_count": 23,
   "metadata": {},
   "outputs": [
    {
     "data": {
      "text/plain": [
       "'C:\\\\WINDOWS'"
      ]
     },
     "execution_count": 23,
     "metadata": {},
     "output_type": "execute_result"
    }
   ],
   "source": [
    "env windir"
   ]
  },
  {
   "cell_type": "code",
   "execution_count": 24,
   "metadata": {},
   "outputs": [
    {
     "name": "stdout",
     "output_type": "stream",
     "text": [
      "--------------------------------------------------\n",
      "Magic Command: List Magic Funtions\n",
      "--------------------------------------------------\n"
     ]
    }
   ],
   "source": [
    "print('-' * 50)\n",
    "print('Magic Command: List Magic Funtions')\n",
    "print('-' * 50)"
   ]
  },
  {
   "cell_type": "code",
   "execution_count": 25,
   "metadata": {},
   "outputs": [
    {
     "data": {
      "application/json": {
       "cell": {
        "!": "OSMagics",
        "HTML": "Other",
        "SVG": "Other",
        "bash": "Other",
        "capture": "ExecutionMagics",
        "cmd": "Other",
        "debug": "ExecutionMagics",
        "file": "Other",
        "html": "DisplayMagics",
        "javascript": "DisplayMagics",
        "js": "DisplayMagics",
        "latex": "DisplayMagics",
        "markdown": "DisplayMagics",
        "perl": "Other",
        "prun": "ExecutionMagics",
        "pypy": "Other",
        "python": "Other",
        "python2": "Other",
        "python3": "Other",
        "ruby": "Other",
        "script": "ScriptMagics",
        "sh": "Other",
        "svg": "DisplayMagics",
        "sx": "OSMagics",
        "system": "OSMagics",
        "time": "ExecutionMagics",
        "timeit": "ExecutionMagics",
        "writefile": "OSMagics"
       },
       "line": {
        "alias": "OSMagics",
        "alias_magic": "BasicMagics",
        "autoawait": "AsyncMagics",
        "autocall": "AutoMagics",
        "automagic": "AutoMagics",
        "autosave": "KernelMagics",
        "bookmark": "OSMagics",
        "cd": "OSMagics",
        "clear": "KernelMagics",
        "cls": "KernelMagics",
        "colors": "BasicMagics",
        "conda": "PackagingMagics",
        "config": "ConfigMagics",
        "connect_info": "KernelMagics",
        "copy": "Other",
        "ddir": "Other",
        "debug": "ExecutionMagics",
        "dhist": "OSMagics",
        "dirs": "OSMagics",
        "doctest_mode": "BasicMagics",
        "echo": "Other",
        "ed": "Other",
        "edit": "KernelMagics",
        "env": "OSMagics",
        "gui": "BasicMagics",
        "hist": "Other",
        "history": "HistoryMagics",
        "killbgscripts": "ScriptMagics",
        "ldir": "Other",
        "less": "KernelMagics",
        "load": "CodeMagics",
        "load_ext": "ExtensionMagics",
        "loadpy": "CodeMagics",
        "logoff": "LoggingMagics",
        "logon": "LoggingMagics",
        "logstart": "LoggingMagics",
        "logstate": "LoggingMagics",
        "logstop": "LoggingMagics",
        "ls": "Other",
        "lsmagic": "BasicMagics",
        "macro": "ExecutionMagics",
        "magic": "BasicMagics",
        "matplotlib": "PylabMagics",
        "mkdir": "Other",
        "more": "KernelMagics",
        "notebook": "BasicMagics",
        "page": "BasicMagics",
        "pastebin": "CodeMagics",
        "pdb": "ExecutionMagics",
        "pdef": "NamespaceMagics",
        "pdoc": "NamespaceMagics",
        "pfile": "NamespaceMagics",
        "pinfo": "NamespaceMagics",
        "pinfo2": "NamespaceMagics",
        "pip": "PackagingMagics",
        "popd": "OSMagics",
        "pprint": "BasicMagics",
        "precision": "BasicMagics",
        "prun": "ExecutionMagics",
        "psearch": "NamespaceMagics",
        "psource": "NamespaceMagics",
        "pushd": "OSMagics",
        "pwd": "OSMagics",
        "pycat": "OSMagics",
        "pylab": "PylabMagics",
        "qtconsole": "KernelMagics",
        "quickref": "BasicMagics",
        "recall": "HistoryMagics",
        "rehashx": "OSMagics",
        "reload_ext": "ExtensionMagics",
        "ren": "Other",
        "rep": "Other",
        "rerun": "HistoryMagics",
        "reset": "NamespaceMagics",
        "reset_selective": "NamespaceMagics",
        "rmdir": "Other",
        "run": "ExecutionMagics",
        "save": "CodeMagics",
        "sc": "OSMagics",
        "set_env": "OSMagics",
        "store": "StoreMagics",
        "sx": "OSMagics",
        "system": "OSMagics",
        "tb": "ExecutionMagics",
        "time": "ExecutionMagics",
        "timeit": "ExecutionMagics",
        "unalias": "OSMagics",
        "unload_ext": "ExtensionMagics",
        "who": "NamespaceMagics",
        "who_ls": "NamespaceMagics",
        "whos": "NamespaceMagics",
        "xdel": "NamespaceMagics",
        "xmode": "BasicMagics"
       }
      },
      "text/plain": [
       "Available line magics:\n",
       "%alias  %alias_magic  %autoawait  %autocall  %automagic  %autosave  %bookmark  %cd  %clear  %cls  %colors  %conda  %config  %connect_info  %copy  %ddir  %debug  %dhist  %dirs  %doctest_mode  %echo  %ed  %edit  %env  %gui  %hist  %history  %killbgscripts  %ldir  %less  %load  %load_ext  %loadpy  %logoff  %logon  %logstart  %logstate  %logstop  %ls  %lsmagic  %macro  %magic  %matplotlib  %mkdir  %more  %notebook  %page  %pastebin  %pdb  %pdef  %pdoc  %pfile  %pinfo  %pinfo2  %pip  %popd  %pprint  %precision  %prun  %psearch  %psource  %pushd  %pwd  %pycat  %pylab  %qtconsole  %quickref  %recall  %rehashx  %reload_ext  %ren  %rep  %rerun  %reset  %reset_selective  %rmdir  %run  %save  %sc  %set_env  %store  %sx  %system  %tb  %time  %timeit  %unalias  %unload_ext  %who  %who_ls  %whos  %xdel  %xmode\n",
       "\n",
       "Available cell magics:\n",
       "%%!  %%HTML  %%SVG  %%bash  %%capture  %%cmd  %%debug  %%file  %%html  %%javascript  %%js  %%latex  %%markdown  %%perl  %%prun  %%pypy  %%python  %%python2  %%python3  %%ruby  %%script  %%sh  %%svg  %%sx  %%system  %%time  %%timeit  %%writefile\n",
       "\n",
       "Automagic is ON, % prefix IS NOT needed for line magics."
      ]
     },
     "execution_count": 25,
     "metadata": {},
     "output_type": "execute_result"
    }
   ],
   "source": [
    "lsmagic"
   ]
  },
  {
   "cell_type": "markdown",
   "metadata": {},
   "source": [
    "## Requirement 17"
   ]
  },
  {
   "cell_type": "code",
   "execution_count": 26,
   "metadata": {},
   "outputs": [
    {
     "name": "stdout",
     "output_type": "stream",
     "text": [
      "Exception reporting mode: Plain\n"
     ]
    },
    {
     "ename": "NameError",
     "evalue": "name 'fake_func' is not defined",
     "output_type": "error",
     "traceback": [
      "Traceback \u001b[1;36m(most recent call last)\u001b[0m:\n",
      "\u001b[1;36m  File \u001b[1;32m\"C:\\Users\\Angel\\AppData\\Local\\Temp/ipykernel_8732/2309230988.py\"\u001b[1;36m, line \u001b[1;32m4\u001b[1;36m, in \u001b[1;35m<module>\u001b[1;36m\u001b[0m\n\u001b[1;33m    fake_func(2)\u001b[0m\n",
      "\u001b[1;31mNameError\u001b[0m\u001b[1;31m:\u001b[0m name 'fake_func' is not defined\n"
     ]
    }
   ],
   "source": [
    "# Demonstrate the use of %xmode magic function\n",
    "\n",
    "%xmode Plain\n",
    "fake_func(2)"
   ]
  },
  {
   "cell_type": "markdown",
   "metadata": {},
   "source": [
    "## Requirement 18"
   ]
  },
  {
   "cell_type": "code",
   "execution_count": 27,
   "metadata": {},
   "outputs": [
    {
     "name": "stdout",
     "output_type": "stream",
     "text": [
      "ArithmeticError\n",
      "AssertionError\n",
      "AttributeError\n",
      "BlockingIOError\n",
      "BrokenPipeError\n",
      "BufferError\n",
      "ChildProcessError\n",
      "ConnectionAbortedError\n",
      "ConnectionError\n",
      "ConnectionRefusedError\n",
      "ConnectionResetError\n",
      "EOFError\n",
      "EnvironmentError\n",
      "FileExistsError\n",
      "FileNotFoundError\n",
      "FloatingPointError\n",
      "IOError\n",
      "ImportError\n",
      "IndentationError\n",
      "IndexError\n",
      "InterruptedError\n",
      "IsADirectoryError\n",
      "KeyError\n",
      "LookupError\n",
      "MemoryError\n",
      "ModuleNotFoundError\n",
      "NameError\n",
      "NotADirectoryError\n",
      "NotImplementedError\n",
      "OSError\n",
      "OverflowError\n",
      "PermissionError\n",
      "ProcessLookupError\n",
      "RecursionError\n",
      "ReferenceError\n",
      "RuntimeError\n",
      "SyntaxError\n",
      "SystemError\n",
      "TabError\n",
      "TimeoutError\n",
      "TypeError\n",
      "UnboundLocalError\n",
      "UnicodeDecodeError\n",
      "UnicodeEncodeError\n",
      "UnicodeError\n",
      "UnicodeTranslateError\n",
      "ValueError\n",
      "WindowsError\n",
      "ZeroDivisionError"
     ]
    }
   ],
   "source": [
    "# Use *Error? to show Python Exceptions. Demonstrate throwing three of the exceptions\n",
    "\n",
    "*Error?"
   ]
  },
  {
   "cell_type": "code",
   "execution_count": 28,
   "metadata": {},
   "outputs": [
    {
     "name": "stdout",
     "output_type": "stream",
     "text": [
      "--------------------------------------------------\n",
      "Type Error\n",
      "--------------------------------------------------\n"
     ]
    },
    {
     "ename": "TypeError",
     "evalue": "can only concatenate str (not \"int\") to str",
     "output_type": "error",
     "traceback": [
      "Traceback \u001b[1;36m(most recent call last)\u001b[0m:\n",
      "\u001b[1;36m  File \u001b[1;32m\"C:\\Users\\Angel\\AppData\\Local\\Temp/ipykernel_8732/2320755121.py\"\u001b[1;36m, line \u001b[1;32m5\u001b[1;36m, in \u001b[1;35m<module>\u001b[1;36m\u001b[0m\n\u001b[1;33m    '1' + 3\u001b[0m\n",
      "\u001b[1;31mTypeError\u001b[0m\u001b[1;31m:\u001b[0m can only concatenate str (not \"int\") to str\n"
     ]
    }
   ],
   "source": [
    "print('-' * 50)\n",
    "print('Type Error')\n",
    "print('-' * 50)\n",
    "\n",
    "'1' + 3"
   ]
  },
  {
   "cell_type": "code",
   "execution_count": 29,
   "metadata": {},
   "outputs": [
    {
     "ename": "SyntaxError",
     "evalue": "invalid syntax (Temp/ipykernel_8732/1661440672.py, line 5)",
     "output_type": "error",
     "traceback": [
      "\u001b[1;36m  File \u001b[1;32m\"C:\\Users\\Angel\\AppData\\Local\\Temp/ipykernel_8732/1661440672.py\"\u001b[1;36m, line \u001b[1;32m5\u001b[0m\n\u001b[1;33m    print'Hello World'\u001b[0m\n\u001b[1;37m         ^\u001b[0m\n\u001b[1;31mSyntaxError\u001b[0m\u001b[1;31m:\u001b[0m invalid syntax\n"
     ]
    }
   ],
   "source": [
    "print('-' * 50)\n",
    "print('Syntax Error')\n",
    "print('-' * 50)\n",
    "\n",
    "print'Hello World'"
   ]
  },
  {
   "cell_type": "code",
   "execution_count": 30,
   "metadata": {},
   "outputs": [
    {
     "name": "stdout",
     "output_type": "stream",
     "text": [
      "--------------------------------------------------\n",
      "Module Not Found Error\n",
      "--------------------------------------------------\n"
     ]
    },
    {
     "ename": "ModuleNotFoundError",
     "evalue": "No module named 'fake_module'",
     "output_type": "error",
     "traceback": [
      "Traceback \u001b[1;36m(most recent call last)\u001b[0m:\n",
      "\u001b[1;36m  File \u001b[1;32m\"C:\\Users\\Angel\\AppData\\Local\\Temp/ipykernel_8732/2755607609.py\"\u001b[1;36m, line \u001b[1;32m5\u001b[1;36m, in \u001b[1;35m<module>\u001b[1;36m\u001b[0m\n\u001b[1;33m    import fake_module\u001b[0m\n",
      "\u001b[1;31mModuleNotFoundError\u001b[0m\u001b[1;31m:\u001b[0m No module named 'fake_module'\n"
     ]
    }
   ],
   "source": [
    "print('-' * 50)\n",
    "print('Module Not Found Error')\n",
    "print('-' * 50)\n",
    "\n",
    "import fake_module"
   ]
  },
  {
   "cell_type": "markdown",
   "metadata": {},
   "source": [
    "## Requirement 19"
   ]
  },
  {
   "cell_type": "code",
   "execution_count": 39,
   "metadata": {},
   "outputs": [
    {
     "name": "stdout",
     "output_type": "stream",
     "text": [
      "Exception reporting mode: Plain\n",
      "Automatic pdb calling has been turned ON\n"
     ]
    },
    {
     "ename": "TypeError",
     "evalue": "can only concatenate str (not \"int\") to str",
     "output_type": "error",
     "traceback": [
      "Traceback \u001b[1;36m(most recent call last)\u001b[0m:\n",
      "\u001b[1;36m  File \u001b[1;32m\"C:\\Users\\Angel\\AppData\\Local\\Temp/ipykernel_8732/3010185069.py\"\u001b[1;36m, line \u001b[1;32m4\u001b[1;36m, in \u001b[1;35m<module>\u001b[1;36m\u001b[0m\n\u001b[1;33m    '1' + 3\u001b[0m\n",
      "\u001b[1;31mTypeError\u001b[0m\u001b[1;31m:\u001b[0m can only concatenate str (not \"int\") to str\n"
     ]
    },
    {
     "name": "stdout",
     "output_type": "stream",
     "text": [
      "> \u001b[1;32mc:\\users\\angel\\appdata\\local\\temp\\ipykernel_8732\\3010185069.py\u001b[0m(4)\u001b[0;36m<module>\u001b[1;34m()\u001b[0m\n",
      "\n",
      "<class 'str'>\n",
      "<class 'int'>\n"
     ]
    }
   ],
   "source": [
    "# Demonstrate the use of the debugger\n",
    "%xmode Plain\n",
    "%pdb on\n",
    "'1' + 3"
   ]
  },
  {
   "cell_type": "code",
   "execution_count": 40,
   "metadata": {},
   "outputs": [
    {
     "ename": "SyntaxError",
     "evalue": "invalid syntax (Temp/ipykernel_8732/497901890.py, line 3)",
     "output_type": "error",
     "traceback": [
      "\u001b[1;36m  File \u001b[1;32m\"C:\\Users\\Angel\\AppData\\Local\\Temp/ipykernel_8732/497901890.py\"\u001b[1;36m, line \u001b[1;32m3\u001b[0m\n\u001b[1;33m    print'Hello World'\u001b[0m\n\u001b[1;37m         ^\u001b[0m\n\u001b[1;31mSyntaxError\u001b[0m\u001b[1;31m:\u001b[0m invalid syntax\n"
     ]
    }
   ],
   "source": [
    "%xmode Plain\n",
    "%pdb on\n",
    "print'Hello World'"
   ]
  },
  {
   "cell_type": "markdown",
   "metadata": {},
   "source": [
    "The above cell does not offer interactive debugging."
   ]
  },
  {
   "cell_type": "code",
   "execution_count": 42,
   "metadata": {},
   "outputs": [
    {
     "name": "stdout",
     "output_type": "stream",
     "text": [
      "Exception reporting mode: Plain\n",
      "Automatic pdb calling has been turned ON\n"
     ]
    },
    {
     "ename": "ModuleNotFoundError",
     "evalue": "No module named 'fake_module'",
     "output_type": "error",
     "traceback": [
      "Traceback \u001b[1;36m(most recent call last)\u001b[0m:\n",
      "\u001b[1;36m  File \u001b[1;32m\"C:\\Users\\Angel\\AppData\\Local\\Temp/ipykernel_8732/1311280611.py\"\u001b[1;36m, line \u001b[1;32m3\u001b[1;36m, in \u001b[1;35m<module>\u001b[1;36m\u001b[0m\n\u001b[1;33m    import fake_module\u001b[0m\n",
      "\u001b[1;31mModuleNotFoundError\u001b[0m\u001b[1;31m:\u001b[0m No module named 'fake_module'\n"
     ]
    },
    {
     "name": "stdout",
     "output_type": "stream",
     "text": [
      "> \u001b[1;32mc:\\users\\angel\\appdata\\local\\temp\\ipykernel_8732\\1311280611.py\u001b[0m(3)\u001b[0;36m<module>\u001b[1;34m()\u001b[0m\n",
      "\n",
      "\n",
      "Documented commands (type help <topic>):\n",
      "========================================\n",
      "EOF    commands   enable    ll        pp       s                until \n",
      "a      condition  exit      longlist  psource  skip_hidden      up    \n",
      "alias  cont       h         n         q        skip_predicates  w     \n",
      "args   context    help      next      quit     source           whatis\n",
      "b      continue   ignore    p         r        step             where \n",
      "break  d          interact  pdef      restart  tbreak         \n",
      "bt     debug      j         pdoc      return   u              \n",
      "c      disable    jump      pfile     retval   unalias        \n",
      "cl     display    l         pinfo     run      undisplay      \n",
      "clear  down       list      pinfo2    rv       unt            \n",
      "\n",
      "Miscellaneous help topics:\n",
      "==========================\n",
      "exec  pdb\n",
      "\n",
      "*** SyntaxError: unexpected EOF while parsing\n"
     ]
    }
   ],
   "source": [
    "%xmode Plain\n",
    "%pdb on\n",
    "import fake_module"
   ]
  },
  {
   "cell_type": "markdown",
   "metadata": {},
   "source": [
    "## Requirement 20"
   ]
  },
  {
   "cell_type": "code",
   "execution_count": 10,
   "metadata": {},
   "outputs": [],
   "source": [
    "# Use four magic commands to tima a function(s) that you have written\n",
    "import random\n",
    "\n",
    "def gen_rand_num_list():\n",
    "    result = [random.randint(1, 100) for i in range(100)]\n",
    "\n",
    "    return result\n",
    "# end gen_rand_num_list()"
   ]
  },
  {
   "cell_type": "code",
   "execution_count": 47,
   "metadata": {},
   "outputs": [
    {
     "name": "stdout",
     "output_type": "stream",
     "text": [
      "Wall time: 496 µs\n"
     ]
    }
   ],
   "source": [
    "%time rand_num_list = gen_rand_num_list()"
   ]
  },
  {
   "cell_type": "code",
   "execution_count": 48,
   "metadata": {},
   "outputs": [
    {
     "name": "stdout",
     "output_type": "stream",
     "text": [
      "62.6 µs ± 285 ns per loop (mean ± std. dev. of 7 runs, 10000 loops each)\n"
     ]
    }
   ],
   "source": [
    "%timeit rand_num_list = gen_rand_num_list()"
   ]
  },
  {
   "cell_type": "code",
   "execution_count": 50,
   "metadata": {},
   "outputs": [
    {
     "name": "stdout",
     "output_type": "stream",
     "text": [
      " "
     ]
    },
    {
     "name": "stdout",
     "output_type": "stream",
     "text": [
      "         539 function calls in 0.000 seconds\n",
      "\n",
      "   Ordered by: internal time\n",
      "\n",
      "   ncalls  tottime  percall  cumtime  percall filename:lineno(function)\n",
      "      100    0.000    0.000    0.000    0.000 random.py:291(randrange)\n",
      "      100    0.000    0.000    0.000    0.000 random.py:238(_randbelow_with_getrandbits)\n",
      "      100    0.000    0.000    0.000    0.000 random.py:335(randint)\n",
      "        1    0.000    0.000    0.000    0.000 1610777406.py:5(<listcomp>)\n",
      "        1    0.000    0.000    0.000    0.000 {built-in method builtins.exec}\n",
      "      134    0.000    0.000    0.000    0.000 {method 'getrandbits' of '_random.Random' objects}\n",
      "      100    0.000    0.000    0.000    0.000 {method 'bit_length' of 'int' objects}\n",
      "        1    0.000    0.000    0.000    0.000 1610777406.py:4(gen_rand_num_list)\n",
      "        1    0.000    0.000    0.000    0.000 <string>:1(<module>)\n",
      "        1    0.000    0.000    0.000    0.000 {method 'disable' of '_lsprof.Profiler' objects}"
     ]
    }
   ],
   "source": [
    "%prun rand_num_list = gen_rand_num_list()"
   ]
  },
  {
   "cell_type": "code",
   "execution_count": 7,
   "metadata": {},
   "outputs": [
    {
     "name": "stdout",
     "output_type": "stream",
     "text": [
      "The memory_profiler extension is already loaded. To reload it, use:\n",
      "  %reload_ext memory_profiler\n"
     ]
    }
   ],
   "source": [
    "%load_ext memory_profiler\n"
   ]
  },
  {
   "cell_type": "code",
   "execution_count": 11,
   "metadata": {},
   "outputs": [
    {
     "name": "stdout",
     "output_type": "stream",
     "text": [
      "peak memory: 89.81 MiB, increment: 0.00 MiB\n"
     ]
    }
   ],
   "source": [
    "%memit gen_rand_num_list()"
   ]
  },
  {
   "cell_type": "markdown",
   "metadata": {},
   "source": [
    "## Requirement 21"
   ]
  },
  {
   "cell_type": "markdown",
   "metadata": {},
   "source": [
    "This was a very interesting assignment and pretty much everything was new to me. I think the most difficult thing was getting my environment setup correctly. I tend to stray away from Anaconda as it tends to break my Python installations and Pathing, but I could not get pip to install the required modules such as Pandas. I really enjoyed the timing profilers at the end of the assignment and can think of many diffrent personal projects I can incorporate them in so I can optimize them."
   ]
  }
 ],
 "metadata": {
  "interpreter": {
   "hash": "9066c0a3eb76f092da25a941f0bb3289f7f87123e4b697e83143deb8c842e396"
  },
  "kernelspec": {
   "display_name": "Python 3.9.5 64-bit ('base': conda)",
   "name": "python3"
  },
  "language_info": {
   "codemirror_mode": {
    "name": "ipython",
    "version": 3
   },
   "file_extension": ".py",
   "mimetype": "text/x-python",
   "name": "python",
   "nbconvert_exporter": "python",
   "pygments_lexer": "ipython3",
   "version": "3.9.5"
  }
 },
 "nbformat": 4,
 "nbformat_minor": 2
}
