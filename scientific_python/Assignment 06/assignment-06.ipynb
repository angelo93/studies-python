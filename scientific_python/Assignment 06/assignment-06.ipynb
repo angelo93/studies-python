{
 "cells": [
  {
   "cell_type": "markdown",
   "metadata": {},
   "source": [
    "# This is Assignment 06 - Michael Navarro"
   ]
  },
  {
   "cell_type": "markdown",
   "metadata": {},
   "source": [
    "## Reaquirement 04"
   ]
  },
  {
   "cell_type": "code",
   "execution_count": 19,
   "metadata": {},
   "outputs": [
    {
     "name": "stdout",
     "output_type": "stream",
     "text": [
      "Length of list_1: 20\n"
     ]
    }
   ],
   "source": [
    "import random\n",
    "\n",
    "# Declare list variable\n",
    "list_1 = list()\n",
    "audit_msgs = True  # Set to true to view the list change throughout the steps\n",
    "\n",
    "# Populate with 20 arbitrary numers b/w 0 - 99\n",
    "for num in range(0, 20):\n",
    "    rand_num = random.randint(0, 99)\n",
    "    list_1.append(rand_num)\n",
    "# end for\n",
    "\n",
    "if audit_msgs : print(f'Populated list: {list_1}')\n",
    "\n",
    "# Print length of list\n",
    "print(f'Length of list_1: {len(list_1)}')\n",
    "\n",
    "# Append 3 numbers\n",
    "list_1.append(random.randint(0, 99))\n",
    "list_1.append(random.randint(0, 99))\n",
    "list_1.append(random.randint(0, 99))\n",
    "if audit_msgs : print(f'List after three appends: {list_1}')\n",
    "\n",
    "# Append literal list\n",
    "list_1 = list_1 + [random.randint(0, 99) for num in range(0, 7)]\n",
    "if audit_msgs : print(f'List with appended literal list: {list_1}')\n",
    "\n",
    "# Sort list\n",
    "list_1.sort()\n",
    "if audit_msgs : print(f'Sorted list: {list_1}')"
   ]
  },
  {
   "cell_type": "markdown",
   "metadata": {},
   "source": [
    "## Requirement 05"
   ]
  },
  {
   "cell_type": "code",
   "execution_count": 2,
   "metadata": {},
   "outputs": [
    {
     "name": "stdout",
     "output_type": "stream",
     "text": [
      "4th element: 13\n",
      "15th element: 34\n",
      "3rd element from the end: 91\n",
      "7th element from the end: 69\n",
      "First 4 elements: [5, 6, 8, 13]\n",
      "Last 5 elements: [84, 86, 91, 94, 98]\n",
      "Reverse order: [98, 94, 91, 86, 84, 80, 69, 63, 53, 49, 48, 47, 42, 41, 37, 34, 34, 32, 32, 32, 30, 26, 24, 16, 15, 15, 13, 8, 6, 5]\n",
      "14th element = -99\n",
      "Every other element: [5, 8, 15, 16, 26, 32, 32, 34, 41, 47, 49, 63, 80, 86, 94]\n",
      "Elements 9-15: [-77, -77, -77, -77, -77, -77, -77]\n"
     ]
    }
   ],
   "source": [
    "# Print 4th element\n",
    "print(f'4th element: {list_1[3]}')\n",
    "\n",
    "# Print 15th element\n",
    "print(f'15th element: {list_1[14]}')\n",
    "\n",
    "# Print 3rd element from end\n",
    "print(f'3rd element from the end: {list_1[-3]}')\n",
    "\n",
    "# Print 7th element from end\n",
    "print(f'7th element from the end: {list_1[-7]}')\n",
    "\n",
    "# Print first 4 elements\n",
    "print(f'First 4 elements: {list_1[:4]}')\n",
    "\n",
    "# Print last 5 elements\n",
    "print(f'Last 5 elements: {list_1[-5:]}')\n",
    "\n",
    "# Print in reverse order\n",
    "print(f'Reverse order: {list_1[::-1]}')\n",
    "\n",
    "# Set 14th element = -99\n",
    "list_1[13] = -99\n",
    "print(f'14th element = {list_1[13]}')\n",
    "\n",
    "# Print every other element\n",
    "print(f'Every other element: {list_1[::2]}')\n",
    "\n",
    "# Set elements 9-15 = -77\n",
    "idx = 8 # 9th element\n",
    "\n",
    "while idx <= 14:\n",
    "    list_1[idx] = -77\n",
    "    idx += 1\n",
    "# end while\n",
    "\n",
    "print(f'Elements 9-15: {list_1[8:15]}')"
   ]
  },
  {
   "cell_type": "markdown",
   "metadata": {},
   "source": [
    "## Requirement 06"
   ]
  },
  {
   "cell_type": "code",
   "execution_count": 3,
   "metadata": {},
   "outputs": [
    {
     "name": "stdout",
     "output_type": "stream",
     "text": [
      "Current tuple entries: (44, 8, 34, 17, 63, 38, 83)\n"
     ]
    }
   ],
   "source": [
    "# Create a tuple with 7 random numbers\n",
    "tuple_1 = tuple([random.randint(0, 99) for num in range(0, 7)])\n",
    "print(f'Current tuple entries: {tuple_1}')\n",
    "\n",
    "# Attempt to set 3rd value = -33\n",
    "# tuple_1[2] = -33\n",
    "\n",
    "# Attempt to append -22\n",
    "# tuple_1.append(-22)\n",
    "# tuple_1 + -22"
   ]
  },
  {
   "cell_type": "markdown",
   "metadata": {},
   "source": [
    "## Requirement 07"
   ]
  },
  {
   "cell_type": "code",
   "execution_count": 4,
   "metadata": {},
   "outputs": [
    {
     "name": "stdout",
     "output_type": "stream",
     "text": [
      "Name: Gandalf the Grey\n",
      "Position: Goalkeeper\n",
      "Name: Merry\n",
      "Position: Full-back\n",
      "Name: Pippin\n",
      "Position: Wing-back\n",
      "Name: Legolas\n",
      "Position: Centre midfielder\n",
      "Name: Gimli\n",
      "Position: Defensive midfielder\n",
      "Name: Boromir\n",
      "Position: Attacking midfielder\n",
      "Name: Aragorn\n",
      "Position: Centre Forward\n",
      "Name: Frodo\n",
      "Position: Striker\n",
      "Name: Sam\n",
      "Position: Winger\n",
      "\n",
      "New Attacking Midfielder (RIP Boromir): Faramir\n",
      "Coach: Gandalf the White\n"
     ]
    }
   ],
   "source": [
    "# Create sport dictionary, with keys as position and players as values\n",
    "# Include at least 9 key value pairs\n",
    "named_players_soccer = {\n",
    "    'Goalkeeper' : 'Gandalf the Grey',\n",
    "    'Full-back' : 'Merry',\n",
    "    'Wing-back' : 'Pippin',\n",
    "    'Centre midfielder' : 'Legolas',\n",
    "    'Defensive midfielder' : 'Gimli',\n",
    "    'Attacking midfielder' : 'Boromir',\n",
    "    'Centre Forward' : 'Aragorn',\n",
    "    'Striker' : 'Frodo',\n",
    "    'Winger' : 'Sam',\n",
    "}\n",
    "\n",
    "for position, name in named_players_soccer.items():\n",
    "    print(f'Name: {name}')\n",
    "    print(f'Position: {position}')\n",
    "# end for\n",
    "\n",
    "# Change a key value pair\n",
    "named_players_soccer['Attacking midfielder'] = 'Faramir'\n",
    "print(f'\\nNew Attacking Midfielder (RIP Boromir): {named_players_soccer[\"Attacking midfielder\"]}')\n",
    "\n",
    "# Add a new key value pair\n",
    "named_players_soccer['Coach'] = 'Gandalf the White'\n",
    "print(f'Coach: {named_players_soccer[\"Coach\"]}')"
   ]
  },
  {
   "cell_type": "markdown",
   "metadata": {},
   "source": [
    "## Requirement 08"
   ]
  },
  {
   "cell_type": "code",
   "execution_count": 5,
   "metadata": {},
   "outputs": [
    {
     "name": "stdout",
     "output_type": "stream",
     "text": [
      "Union: {'Peach', 'Luigi', 'Crash', 'Jennifer', 'Jerry', 'Adam', 'Kelly', 'Mario', 'Clank', 'Sly', 'John', 'Fox', 'Tom', 'Ratchet', 'Wario'}\n",
      "Intersection: {'John', 'Jennifer', 'Jerry', 'Tom', 'Kelly'}\n",
      "Difference: {'Clank', 'Sly', 'Crash', 'Adam', 'Ratchet'}\n",
      "Symmetric Difference: {'Clank', 'Peach', 'Mario', 'Luigi', 'Wario', 'Sly', 'Crash', 'Fox', 'Adam', 'Ratchet'}\n"
     ]
    }
   ],
   "source": [
    "# Create two subsets\n",
    "hatfields = {'John','Adam', 'Kelly', 'Jennifer', 'Tom', \n",
    "'Jerry', 'Sly', 'Ratchet', 'Clank', 'Crash'}\n",
    "\n",
    "mccoys = {'John','Fox', 'Kelly', 'Jennifer', 'Tom', \n",
    "'Jerry', 'Wario', 'Peach', 'Mario', 'Luigi'}\n",
    "\n",
    "# Union\n",
    "print(f'Union: {hatfields | mccoys}')\n",
    "\n",
    "# Intersection\n",
    "print(f'Intersection: {hatfields & mccoys}')\n",
    "\n",
    "# Difference\n",
    "print(f'Difference: {hatfields - mccoys}')\n",
    "\n",
    "# Symmetric Difference\n",
    "print(f'Symmetric Difference: {hatfields ^ mccoys}')"
   ]
  },
  {
   "cell_type": "markdown",
   "metadata": {},
   "source": [
    "## Requirement 09"
   ]
  },
  {
   "cell_type": "code",
   "execution_count": 6,
   "metadata": {},
   "outputs": [
    {
     "name": "stdout",
     "output_type": "stream",
     "text": [
      "Wow, it is such weather outside! ʕ•́ᴥ•̀ʔっ\n"
     ]
    }
   ],
   "source": [
    "# Demonstrate if, elif and else based on weather conditions\n",
    "weather = 'rainy'\n",
    "\n",
    "if (weather == 'sunny'):\n",
    "    print('It sure is bright outside today.')\n",
    "elif (weather == 'cloudy'):\n",
    "    print('Looks like it might rain today.')\n",
    "elif (weather == 'snowy'):\n",
    "    print('Perfect hot chocolate weather.')\n",
    "else:\n",
    "    print('Wow, it is such weather outside! ʕ•́ᴥ•̀ʔっ')\n",
    "#end if"
   ]
  },
  {
   "cell_type": "markdown",
   "metadata": {},
   "source": [
    "## Requirement 10"
   ]
  },
  {
   "cell_type": "code",
   "execution_count": 7,
   "metadata": {},
   "outputs": [
    {
     "name": "stdout",
     "output_type": "stream",
     "text": [
      "Current number is: 0\n",
      "Current number is: 1\n",
      "Current number is: 2\n",
      "Current number is: 3\n",
      "Current number is: 4\n",
      "\n",
      "Current item: item1\n",
      "Current item: item2\n",
      "Current item: item3\n",
      "Current item: item4\n",
      "Current item: item5\n"
     ]
    }
   ],
   "source": [
    "# Demonstrate a for loop with a range\n",
    "for num in range(0, 5):\n",
    "    print(f'Current number is: {num}')\n",
    "# end for\n",
    "\n",
    "print()\n",
    "# Demonstrate a for loop with list contents\n",
    "items = ['item1', 'item2', 'item3', 'item4', 'item5']\n",
    "\n",
    "for item in items:\n",
    "    print(f'Current item: {item}')\n",
    "# end for"
   ]
  },
  {
   "cell_type": "markdown",
   "metadata": {},
   "source": [
    "## Requirement 11"
   ]
  },
  {
   "cell_type": "code",
   "execution_count": 8,
   "metadata": {},
   "outputs": [
    {
     "name": "stdout",
     "output_type": "stream",
     "text": [
      "Starting loop at count 0\n",
      "Current iteration is: 0\n",
      "Current iteration is: 1\n",
      "Current iteration is: 2\n",
      "Current iteration is: 3\n",
      "Current iteration is: 4\n",
      "Current iteration is: 5\n",
      "Current iteration is: 6\n",
      "\n",
      "Starting loop at count 1\n",
      "Current iteration is: 1\n",
      "Current iteration is: 2\n",
      "Current iteration is: 3\n",
      "Current iteration is: 4\n",
      "Current iteration is: 5\n",
      "Current iteration is: 6\n",
      "Current iteration is: 7\n"
     ]
    }
   ],
   "source": [
    "# Demonstrate while loop 0 - 7\n",
    "print('Starting loop at count 0')\n",
    "count = 0\n",
    "while count < 7:\n",
    "    print(f'Current iteration is: {count}')\n",
    "    count += 1\n",
    "# end while\n",
    "\n",
    "print()\n",
    "# Demonstrate while loop 1 - 7, inclusive\n",
    "print('Starting loop at count 1')\n",
    "count = 1\n",
    "while count <= 7:\n",
    "    print(f'Current iteration is: {count}')\n",
    "    count += 1"
   ]
  },
  {
   "cell_type": "markdown",
   "metadata": {},
   "source": [
    "## Requirement 12"
   ]
  },
  {
   "cell_type": "code",
   "execution_count": 9,
   "metadata": {},
   "outputs": [
    {
     "name": "stdout",
     "output_type": "stream",
     "text": [
      "Factorial of 5: 120\n"
     ]
    }
   ],
   "source": [
    "# Define a factorial function\n",
    "def factorial(num):\n",
    "    result = int()\n",
    "\n",
    "    if (num == 0 or num == 1):\n",
    "        return 1\n",
    "    else:\n",
    "        result = num * factorial(num - 1)\n",
    "    \n",
    "    return result\n",
    "# end factorial()\n",
    "\n",
    "# Display factorial of 5\n",
    "num = 5\n",
    "print(f'Factorial of {num}: {factorial(num)}')"
   ]
  },
  {
   "cell_type": "markdown",
   "metadata": {},
   "source": [
    "## Requirement 13"
   ]
  },
  {
   "cell_type": "code",
   "execution_count": 10,
   "metadata": {},
   "outputs": [
    {
     "name": "stdout",
     "output_type": "stream",
     "text": [
      "Veggie Count: {'Lettuce': 1, 'Cabbage': 5, 'Celery': 6, 'Eggplant': 7, 'Bokchoy': 8}\n"
     ]
    }
   ],
   "source": [
    "#Define a vegetables function\n",
    "def vegetables(*num_veggies, **veggie_names):\n",
    "    '''\n",
    "    NOTE: Length of both params must match\n",
    "    '''\n",
    "    count = 0\n",
    "    for name in veggie_names.keys():\n",
    "        veggie_names[name] = num_veggies[count]\n",
    "        count += 1\n",
    "    # end for\n",
    "\n",
    "    print(f'Veggie Count: {veggie_names}')\n",
    "# end def\n",
    "\n",
    "vegetables(1, 5, 6, 7, 8, \n",
    "Lettuce=0, Cabbage=0, Celery=0, Eggplant=0, Bokchoy=0)"
   ]
  },
  {
   "cell_type": "markdown",
   "metadata": {},
   "source": [
    "## Requirement 14"
   ]
  },
  {
   "cell_type": "code",
   "execution_count": 11,
   "metadata": {},
   "outputs": [
    {
     "name": "stdout",
     "output_type": "stream",
     "text": [
      "Cars sorted by Name:\n",
      "[{'Name': 'Diablo', 'Make': 'Lamborghini', 'Year': '2007'}, {'Name': 'S40', 'Make': 'Nissan', 'Year': '1984'}, {'Name': 'Supra MK III', 'Make': 'Toyota', 'Year': '1988'}]\n",
      "Cars sorted by Year\n",
      "[{'Name': 'S40', 'Make': 'Nissan', 'Year': '1984'}, {'Name': 'Supra MK III', 'Make': 'Toyota', 'Year': '1988'}, {'Name': 'Diablo', 'Make': 'Lamborghini', 'Year': '2007'}]\n"
     ]
    }
   ],
   "source": [
    "# Create a list of 3 dictionary of car attributes\n",
    "cars = [\n",
    "    {\n",
    "    'Name' : 'Supra MK III',\n",
    "    'Make' : 'Toyota',\n",
    "    'Year' : '1988',\n",
    "    }, \n",
    "    {\n",
    "    'Name' : 'S40',\n",
    "    'Make' : 'Nissan',\n",
    "    'Year' : '1984',\n",
    "    }, \n",
    "    {\n",
    "    'Name' : 'Diablo',\n",
    "    'Make' : 'Lamborghini',\n",
    "    'Year' : '2007',\n",
    "    }\n",
    "]\n",
    "\n",
    "print('Cars sorted by Name:')\n",
    "print(sorted(cars, key=lambda item: item['Name']))\n",
    "\n",
    "print('Cars sorted by Year')\n",
    "print(sorted(cars, key=lambda item: item['Year']))"
   ]
  },
  {
   "cell_type": "markdown",
   "metadata": {},
   "source": [
    "## Requirement 15"
   ]
  },
  {
   "cell_type": "code",
   "execution_count": 12,
   "metadata": {},
   "outputs": [
    {
     "name": "stdout",
     "output_type": "stream",
     "text": [
      "Import Error: test_modules.py not found.\n"
     ]
    }
   ],
   "source": [
    "# Demonstrate a simple try except\n",
    "try:\n",
    "    import test_modules\n",
    "except:\n",
    "    print(\"Import Error: test_modules.py not found.\")"
   ]
  },
  {
   "cell_type": "markdown",
   "metadata": {},
   "source": [
    "## Requirement 16"
   ]
  },
  {
   "cell_type": "code",
   "execution_count": 13,
   "metadata": {},
   "outputs": [
    {
     "name": "stdout",
     "output_type": "stream",
     "text": [
      "Succesfully imported the OS module\n",
      "The OS module is extremely helpful for scripting file management\n"
     ]
    }
   ],
   "source": [
    "# Demonstrate try, except, else, finally\n",
    "try:\n",
    "    import os\n",
    "except:\n",
    "    print('OS module not found')\n",
    "else:\n",
    "    print('Succesfully imported the OS module')\n",
    "finally:\n",
    "    print('The OS module is extremely helpful for scripting file management')"
   ]
  },
  {
   "cell_type": "markdown",
   "metadata": {},
   "source": [
    "## Requirement 17"
   ]
  },
  {
   "cell_type": "markdown",
   "metadata": {},
   "source": [
    "Iterator indirection allows us Python to treat objects that are not lists as lists. This in turn, gives the user and Python access to new functions that work with lists.\n",
    "Another benefit is that the entirety of a list is not created. Instead, it seems like the individual items gain a pointer to the \"next\" item in the list. In a sense, \n",
    "a linked list is created. So when range is created, the entire list is not created at once, but rather, a new node is created every iteration and linked to the previous node."
   ]
  },
  {
   "cell_type": "markdown",
   "metadata": {},
   "source": [
    "## Requirement 18"
   ]
  },
  {
   "cell_type": "code",
   "execution_count": 14,
   "metadata": {},
   "outputs": [
    {
     "name": "stdout",
     "output_type": "stream",
     "text": [
      "0. African forest elephant\n",
      "1. Amur Leopard\n",
      "2. Black Rhino\n",
      "3. Bornean Orangutan\n",
      "4. Cross River Gorilla\n",
      "5. Eastern Lowland Gorilla\n",
      "6. Hawksbill Turtle\n",
      "7. Javan Rhino\n",
      "8. Saola\n",
      "9. Sumatran Elephant \n"
     ]
    }
   ],
   "source": [
    "# Create a list of 10 animal speciea\n",
    "animals = ['African forest elephant', 'Amur Leopard', 'Black Rhino', 'Bornean Orangutan', 'Cross River Gorilla', \n",
    "'Eastern Lowland Gorilla', 'Hawksbill Turtle', 'Javan Rhino', 'Saola', 'Sumatran Elephant ']\n",
    "\n",
    "for idx in range(len(animals)):\n",
    "    print(f'{idx}. {animals[idx]}')\n",
    "# end for"
   ]
  },
  {
   "cell_type": "markdown",
   "metadata": {},
   "source": [
    "## Requirement 19"
   ]
  },
  {
   "cell_type": "code",
   "execution_count": 15,
   "metadata": {},
   "outputs": [
    {
     "name": "stdout",
     "output_type": "stream",
     "text": [
      "0. African forest elephant\n",
      "1. Amur Leopard\n",
      "2. Black Rhino\n",
      "3. Bornean Orangutan\n",
      "4. Cross River Gorilla\n",
      "5. Eastern Lowland Gorilla\n",
      "6. Hawksbill Turtle\n",
      "7. Javan Rhino\n",
      "8. Saola\n",
      "9. Sumatran Elephant \n"
     ]
    }
   ],
   "source": [
    "# Create a list of 10 animal species\n",
    "animals = ['African forest elephant', 'Amur Leopard', 'Black Rhino', 'Bornean Orangutan', 'Cross River Gorilla', \n",
    "'Eastern Lowland Gorilla', 'Hawksbill Turtle', 'Javan Rhino', 'Saola', 'Sumatran Elephant ']\n",
    "\n",
    "for idx, animal in enumerate(animals):\n",
    "    print(f'{idx}. {animal}')\n",
    "# end for"
   ]
  },
  {
   "cell_type": "markdown",
   "metadata": {},
   "source": [
    "## Requirement 20"
   ]
  },
  {
   "cell_type": "code",
   "execution_count": 16,
   "metadata": {},
   "outputs": [
    {
     "name": "stdout",
     "output_type": "stream",
     "text": [
      "Color: red.    Animal Species: African forest elephant\n",
      "Color: blue.   Animal Species: Amur Leopard\n",
      "Color: green.  Animal Species: Black Rhino\n",
      "Color: black.  Animal Species: Bornean Orangutan\n",
      "Color: white.  Animal Species: Cross River Gorilla\n",
      "Color: pink.   Animal Species: Eastern Lowland Gorilla\n",
      "Color: purple. Animal Species: Hawksbill Turtle\n",
      "Color: gold.   Animal Species: Javan Rhino\n",
      "Color: silver. Animal Species: Saola\n",
      "Color: orange. Animal Species: Sumatran Elephant \n"
     ]
    }
   ],
   "source": [
    "# Animal species\n",
    "animals = ['African forest elephant', 'Amur Leopard', 'Black Rhino', 'Bornean Orangutan', 'Cross River Gorilla', \n",
    "'Eastern Lowland Gorilla', 'Hawksbill Turtle', 'Javan Rhino', 'Saola', 'Sumatran Elephant ']\n",
    "\n",
    "# Create list of 10 colors\n",
    "colors_list = ['red', 'blue', 'green', 'black', 'white', 'pink', 'purple', 'gold', 'silver', 'orange']\n",
    "\n",
    "for color, animal in zip(colors_list, animals):\n",
    "    print(f'Color: {color + \".\":7s} Animal Species: {animal}')"
   ]
  },
  {
   "cell_type": "markdown",
   "metadata": {},
   "source": [
    "## Requirement 21"
   ]
  },
  {
   "cell_type": "code",
   "execution_count": 17,
   "metadata": {},
   "outputs": [
    {
     "name": "stdout",
     "output_type": "stream",
     "text": [
      "Product of 0 * 10: 0\n",
      "Product of 1 * 10: 10\n",
      "Product of 2 * 10: 20\n",
      "Product of 3 * 10: 30\n",
      "Product of 4 * 10: 40\n",
      "Product of 5 * 10: 50\n",
      "Product of 6 * 10: 60\n",
      "Product of 7 * 10: 70\n",
      "Product of 8 * 10: 80\n",
      "Product of 9 * 10: 90\n"
     ]
    }
   ],
   "source": [
    "# Create and save lambda that mulitplies a variable b y10\n",
    "times_ten = lambda x: x * 10\n",
    "\n",
    "count = 0\n",
    "for product in map(times_ten, range(10)):\n",
    "    print(f'Product of {count} * 10: {product}')\n",
    "    count += 1\n",
    "# end for"
   ]
  },
  {
   "cell_type": "markdown",
   "metadata": {},
   "source": [
    "## Requirement 22"
   ]
  },
  {
   "cell_type": "code",
   "execution_count": 18,
   "metadata": {},
   "outputs": [
    {
     "name": "stdout",
     "output_type": "stream",
     "text": [
      "The number  0 is evenly divisable by 3\n",
      "The number  3 is evenly divisable by 3\n",
      "The number  6 is evenly divisable by 3\n",
      "The number  9 is evenly divisable by 3\n",
      "The number 12 is evenly divisable by 3\n",
      "The number 15 is evenly divisable by 3\n",
      "The number 18 is evenly divisable by 3\n",
      "The number 21 is evenly divisable by 3\n",
      "The number 24 is evenly divisable by 3\n",
      "The number 27 is evenly divisable by 3\n"
     ]
    }
   ],
   "source": [
    "# Create a lamda that returns true if x is a multiple of 3\n",
    "by_three = lambda x: True if x % 3 == 0 else False\n",
    "\n",
    "for num in filter(by_three, range(30)):\n",
    "    print(f'The number {str(num):>2s} is evenly divisable by 3')\n",
    "# end for"
   ]
  },
  {
   "cell_type": "markdown",
   "metadata": {},
   "source": [
    "## Requirement 23"
   ]
  },
  {
   "cell_type": "markdown",
   "metadata": {},
   "source": [
    "This assignment was very intensive in that it required a lot of steps. I only had to look at the book for a couple of the requirements, but only because I have a lot of\n",
    "experience with the fundamentals of Python. It served as a nice refreshser of things though. I wasn't too sure if I was supposed to print out the state of certain variables in\n",
    "some requirements, so I made a little audit flag. Overall, I had fun doing this assignment. It was a tad long considering my workload, but it's not as long as my 3 hour long assignments for my Unix class."
   ]
  }
 ],
 "metadata": {
  "interpreter": {
   "hash": "dcc8b1093f866ea1902415b07aa2a9712d139ab7d241e7a16103ea8da33d0f73"
  },
  "kernelspec": {
   "display_name": "Python 3.9.7 64-bit",
   "name": "python3"
  },
  "language_info": {
   "codemirror_mode": {
    "name": "ipython",
    "version": 3
   },
   "file_extension": ".py",
   "mimetype": "text/x-python",
   "name": "python",
   "nbconvert_exporter": "python",
   "pygments_lexer": "ipython3",
   "version": "3.9.7"
  },
  "orig_nbformat": 4
 },
 "nbformat": 4,
 "nbformat_minor": 2
}
