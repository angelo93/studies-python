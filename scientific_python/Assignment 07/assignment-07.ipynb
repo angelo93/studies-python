{
 "cells": [
  {
   "cell_type": "markdown",
   "metadata": {},
   "source": [
    "# This is Assignment 07 - Michael Navarro"
   ]
  },
  {
   "cell_type": "markdown",
   "metadata": {},
   "source": [
    "## Requirement 04"
   ]
  },
  {
   "cell_type": "code",
   "execution_count": 1,
   "metadata": {},
   "outputs": [
    {
     "name": "stdout",
     "output_type": "stream",
     "text": [
      "Printing numbers range 0-30 that are not multiples of 3 and are not equal to 13 or 17\n",
      "[1, 2, 4, 5, 7, 8, 10, 11, 14, 16, 19, 20, 22, 23, 25, 26, 28, 29]\n"
     ]
    }
   ],
   "source": [
    "# Use list comprehension to output a list with the following conditions\n",
    "# Range(30)\n",
    "# !multiples of 3\n",
    "# != 13 && != 17\n",
    "nums = [num for num in range(30) if ((num % 3 != 0) and (num != 13) and (num != 17))]\n",
    "\n",
    "print('Printing numbers range 0-30 that are not multiples of 3 and are not equal to 13 or 17')\n",
    "print(nums)"
   ]
  },
  {
   "cell_type": "markdown",
   "metadata": {},
   "source": [
    "## Requirement 05"
   ]
  },
  {
   "cell_type": "code",
   "execution_count": 2,
   "metadata": {},
   "outputs": [
    {
     "name": "stdout",
     "output_type": "stream",
     "text": [
      "Printing numbers range 0-30 that are not multiples of 3 and are not equal to 13 or 17\n",
      "[1, 2, 4, 5, 7, 8, 10, 11, 14, 16, 19, 20, 22, 23, 25, 26, 28, 29]\n"
     ]
    }
   ],
   "source": [
    "# Use loop syntax to output a list with the following conditions\n",
    "# Range(30)\n",
    "# !multiples of 3\n",
    "# != 13 && != 17\n",
    "nums = list()\n",
    "\n",
    "for num in range(30):\n",
    "    if ((num % 3 != 0) and (num != 13) and (num != 17)):\n",
    "            nums.append(num)\n",
    "        # end if\n",
    "# end for\n",
    "\n",
    "print('Printing numbers range 0-30 that are not multiples of 3 and are not equal to 13 or 17')\n",
    "print(nums)"
   ]
  },
  {
   "cell_type": "markdown",
   "metadata": {},
   "source": [
    "## Requirement 06"
   ]
  },
  {
   "cell_type": "code",
   "execution_count": 3,
   "metadata": {},
   "outputs": [
    {
     "name": "stdout",
     "output_type": "stream",
     "text": [
      "Printing numbers in range 0-30 where evens are positive and odds are negative\n",
      "[0, -1, 2, -3, 4, -5, 6, -7, 8, -9, 10, -11, 12, -13, 14, -15, 16, -17, 18, -19, 20, -21, 22, -23, 24, -25, 26, -27, 28, -29]\n"
     ]
    }
   ],
   "source": [
    "# Use list comprehension to output a list with the following conditions\n",
    "# Range(30)\n",
    "# evens are positive\n",
    "# odds are negative\n",
    "nums = [-num if num % 2 else num\n",
    "        for num in range(30)]\n",
    "\n",
    "print('Printing numbers in range 0-30 where evens are positive and odds are negative')\n",
    "print(nums)"
   ]
  },
  {
   "cell_type": "markdown",
   "metadata": {},
   "source": [
    "## Requirement 07"
   ]
  },
  {
   "cell_type": "code",
   "execution_count": 4,
   "metadata": {},
   "outputs": [
    {
     "name": "stdout",
     "output_type": "stream",
     "text": [
      "Printing numbers in range 0-1000 that are evenly divisible by 5\n",
      "{0, 1, 2, 3, 4}\n"
     ]
    }
   ],
   "source": [
    "# Use set comprehension to output a set of numbers with the following conditions\n",
    "# range(1000)\n",
    "# Evenely divisible by 5 (num % 5 == 0)\n",
    "nums = {num % 5 for num in range(1000)}\n",
    "\n",
    "print('Printing numbers in range 0-1000 that are evenly divisible by 5')\n",
    "print(nums)"
   ]
  },
  {
   "cell_type": "markdown",
   "metadata": {},
   "source": [
    "## Requirement 08"
   ]
  },
  {
   "cell_type": "code",
   "execution_count": 5,
   "metadata": {},
   "outputs": [
    {
     "name": "stdout",
     "output_type": "stream",
     "text": [
      "Printing a dictionary where the key is a number in range 0-20\n",
      "where the key is the number and the value is the number's cube\n",
      "{0: 0, 1: 1, 2: 8, 3: 27, 4: 64, 5: 125, 6: 216, 7: 343, 8: 512, 9: 729, 10: 1000, 11: 1331, 12: 1728, 13: 2197, 14: 2744, 15: 3375, 16: 4096, 17: 4913, 18: 5832, 19: 6859}\n"
     ]
    }
   ],
   "source": [
    "# Use dictionary comprehension to output a dictionary with the following conditions\n",
    "# range(20)\n",
    "# key = n\n",
    "# value = n^3\n",
    "nums = {num:num**3 for num in range(20)}\n",
    "\n",
    "print(\"Printing a dictionary where the key is a number in range 0-20\\nwhere the key is the number and the value is the number's cube\")\n",
    "print(nums)"
   ]
  },
  {
   "cell_type": "markdown",
   "metadata": {},
   "source": [
    "## Requirement 09"
   ]
  },
  {
   "cell_type": "code",
   "execution_count": 6,
   "metadata": {},
   "outputs": [
    {
     "name": "stdout",
     "output_type": "stream",
     "text": [
      "Type of generator G: <class 'generator'>\n",
      "Contents of generator G: [0, 2, 4, 6, 8, 10, 12, 14, 16, 18, 20, 22, 24, 26, 28, 30, 32, 34, 36, 38, 40, 42, 44, 46, 48]\n"
     ]
    }
   ],
   "source": [
    "# Use generator function to create a generator with the following conditions\n",
    "# range(50)\n",
    "# Named G\n",
    "# Even numbers\n",
    "# print type and contents of G\n",
    "G = (num for num in range(50) if (num % 2 == 0))\n",
    "\n",
    "print(f'Type of generator G: {type(G)}')\n",
    "print(f'Contents of generator G: {list(G)}')"
   ]
  },
  {
   "cell_type": "markdown",
   "metadata": {},
   "source": [
    "## Requirement 10"
   ]
  },
  {
   "cell_type": "code",
   "execution_count": 7,
   "metadata": {},
   "outputs": [
    {
     "name": "stdout",
     "output_type": "stream",
     "text": [
      "Printing contents of G1\n",
      "0.0 0.5 1.0 1.5 2.0 2.5 3.0 3.5 4.0 4.5 5.0 5.5 6.0 6.5 7.0\n",
      "\n",
      "Printing contents of G2\n",
      "0.0 0.5 1.0 1.5 2.0 2.5 3.0 3.5 4.0 4.5 5.0 5.5 6.0 6.5 7.0\n"
     ]
    }
   ],
   "source": [
    "# Use a generator in two ways with the following conditions\n",
    "# range (15)\n",
    "# arithmetic: n/2\n",
    "# G1 in the form G1 = (...)\n",
    "# G2 in the form G2 = gen_divby2()\n",
    "\n",
    "def gen_divby2():\n",
    "    for num in range(15):\n",
    "        yield num / 2\n",
    "    # end for\n",
    "# end gen_divby2()\n",
    "\n",
    "G1 = (num / 2 for num in range(15))\n",
    "G2 = gen_divby2()\n",
    "\n",
    "print('Printing contents of G1')\n",
    "print(*G1)\n",
    "print('\\nPrinting contents of G2')\n",
    "print(*G2)"
   ]
  },
  {
   "cell_type": "markdown",
   "metadata": {},
   "source": [
    "## Requirement 11"
   ]
  },
  {
   "cell_type": "code",
   "execution_count": 8,
   "metadata": {},
   "outputs": [
    {
     "name": "stdout",
     "output_type": "stream",
     "text": [
      "Printing prime numbers less than 100\n",
      "2 3 5 7 11 13 17 19 23 29 31 37 41 43 47 53 59 61 67 71 73 79 83 89 97\n"
     ]
    }
   ],
   "source": [
    "# Use a generator with the following conditions\n",
    "# output: primes < 100\n",
    "\n",
    "def gen_primes(upper_limit):\n",
    "    prime_nums = set()\n",
    "    \n",
    "    # Start at 2, it is first prime number\n",
    "    for num in range(2, upper_limit):\n",
    "        if all(num % prime_num > 0 for prime_num in prime_nums):\n",
    "            prime_nums.add(num)\n",
    "            yield num\n",
    "        # end if\n",
    "    #  end for\n",
    "# end gen_primes()\n",
    "\n",
    "prime_genny = gen_primes(100)\n",
    "\n",
    "print('Printing prime numbers less than 100')\n",
    "print(*prime_genny)"
   ]
  },
  {
   "cell_type": "markdown",
   "metadata": {},
   "source": [
    "## Requirement 12"
   ]
  },
  {
   "cell_type": "code",
   "execution_count": 9,
   "metadata": {},
   "outputs": [
    {
     "name": "stdout",
     "output_type": "stream",
     "text": [
      "=======================================\n",
      "OS Module Example: Current Working Directory\n",
      "=======================================\n",
      "c:\\Users\\Angel\\Desktop\\Courses\\ACC.F21 - ITSE-1302-001 Comp Program - Sci Python\\Assignment 07\n",
      "\n",
      "=======================================\n",
      "Sys Module Example: PC Platform\n",
      "=======================================\n",
      "win32\n",
      "\n",
      "=======================================\n",
      "Math Module Example: Factorial of N\n",
      "=======================================\n",
      "Factorial of 7: 5040\n",
      "\n",
      "=======================================\n",
      "CMath Module Example: Log x to to base N\n",
      "=======================================\n",
      "Log of 3 with base 13: (0.42831734103139474+0j)\n",
      "\n",
      "=======================================\n",
      "Itertools Module Example: Combinations\n",
      "=======================================\n",
      "Printing combinational pairs of Fire, Water, Earth, and Air:\n",
      "[('Fire', 'Water'), ('Fire', 'Earth'), ('Fire', 'Air'), ('Water', 'Earth'), ('Water', 'Air'), ('Earth', 'Air')]\n",
      "\n",
      "=======================================\n",
      "Functools Module Example: Reduce; Sum of list of numbers: [123, 42, 532, 1, 453, 5, 6, 23, 54]\n",
      "=======================================\n",
      "Printing sum of number list: 1239\n",
      "\n",
      "=======================================\n",
      "Random Module Example: Output a random integer between 1-100:\n",
      "=======================================\n",
      "Random Integer: 30\n",
      "\n",
      "=======================================\n",
      "Pickle Module Example: Pickling and Unpickling a list of names: ['John', 'Tom', 'Neil', 'Jenny', 'Kelly']\n",
      "=======================================\n",
      "Pickled Names: b'\\x80\\x04\\x95)\\x00\\x00\\x00\\x00\\x00\\x00\\x00]\\x94(\\x8c\\x04John\\x94\\x8c\\x03Tom\\x94\\x8c\\x04Neil\\x94\\x8c\\x05Jenny\\x94\\x8c\\x05Kelly\\x94e.'\n",
      "Unpickled Names: ['John', 'Tom', 'Neil', 'Jenny', 'Kelly']\n",
      "\n",
      "=======================================\n",
      "JSON Module Example: Output JSON formatted dictionary with sorted keys.\n",
      "=======================================\n",
      "Python Dictionary: {'client2': {'name': 'Jack', 'age': 21, 'occupation': 'Denstist'}, 'client1': {'name': 'Amy', 'age': 28, 'occupation': 'Anthropologist'}}\n",
      "JSON Formatted:\n",
      "{\n",
      "    \"client1\": {\n",
      "        \"age\": 28,\n",
      "        \"name\": \"Amy\",\n",
      "        \"occupation\": \"Anthropologist\"\n",
      "    },\n",
      "    \"client2\": {\n",
      "        \"age\": 21,\n",
      "        \"name\": \"Jack\",\n",
      "        \"occupation\": \"Denstist\"\n",
      "    }\n",
      "}\n",
      "\n",
      "=======================================\n",
      "CSV Module Example: Read a CSV File:\n",
      "=======================================\n",
      "['name', 'birthday', 'hometown']\n",
      "['Mark', ' January 12 1988', ' Austin']\n",
      "['Jaime', ' June 13 1990', ' San Francisco']\n",
      "\n",
      "=======================================\n",
      "URLLib Module Example: Read URL\n",
      "=======================================\n",
      "HTTP Error 403: Forbidden\n"
     ]
    }
   ],
   "source": [
    "import os, sys, math, cmath, itertools, functools, random, pickle, json, csv, urllib\n",
    "\n",
    "# Demonstrate a minor example for each imported module\n",
    "\n",
    "#------------------------ OS Module ------------------------\n",
    "print('=======================================')\n",
    "print('OS Module Example: Current Working Directory')\n",
    "print('=======================================')\n",
    "\n",
    "print(f'{os.getcwd()}')\n",
    "\n",
    "#------------------------ Sys Module ------------------------\n",
    "print('\\n=======================================')\n",
    "print('Sys Module Example: PC Platform')\n",
    "print('=======================================')\n",
    "\n",
    "print(f'{sys.platform}')\n",
    "\n",
    "#------------------------ Math Module ------------------------\n",
    "print('\\n=======================================')\n",
    "print('Math Module Example: Factorial of N')\n",
    "print('=======================================')\n",
    "\n",
    "print(f'Factorial of 7: {math.factorial(7)}')\n",
    "\n",
    "#------------------------ CMath Module ------------------------\n",
    "print('\\n=======================================')\n",
    "print('CMath Module Example: Log x to to base N')\n",
    "print('=======================================')\n",
    "\n",
    "print(f'Log of 3 with base 13: {cmath.log(3, 13)}')\n",
    "\n",
    "#------------------------ Itertools Module ------------------------\n",
    "combos = itertools.combinations(['Fire', 'Water', 'Earth', 'Air'], 2)\n",
    "\n",
    "print('\\n=======================================')\n",
    "print('Itertools Module Example: Combinations')\n",
    "print('=======================================')\n",
    "\n",
    "print(f'Printing combinational pairs of Fire, Water, Earth, and Air:')\n",
    "print(f'{list(combos)}')\n",
    "\n",
    "#------------------------ Functools Module ------------------------\n",
    "nums = [123, 42, 532, 1, 453, 5, 6, 23, 54]\n",
    "sum_of_nums = functools.reduce(lambda x, y : x + y, nums)\n",
    "print('\\n=======================================')\n",
    "print(f'Functools Module Example: Reduce; Sum of list of numbers: {nums}')\n",
    "print('=======================================')\n",
    "\n",
    "print(f'Printing sum of number list: {sum_of_nums}')\n",
    "\n",
    "#------------------------ Random Module ------------------------\n",
    "print('\\n=======================================')\n",
    "print('Random Module Example: Output a random integer between 1-100:')\n",
    "print('=======================================')\n",
    "\n",
    "print(f'Random Integer: {random.randint(1, 100)}')\n",
    "\n",
    "#------------------------ Pickle Module ------------------------\n",
    "names = ['John', 'Tom', 'Neil', 'Jenny', 'Kelly']\n",
    "pickled_names = pickle.dumps(names)\n",
    "unpickled_names = pickle.loads(pickled_names)\n",
    "\n",
    "print('\\n=======================================')\n",
    "print(f'Pickle Module Example: Pickling and Unpickling a list of names: {names}')\n",
    "print('=======================================')\n",
    "print(f'Pickled Names: {pickled_names}')\n",
    "print(f'Unpickled Names: {unpickled_names}')\n",
    "\n",
    "#------------------------ JSON Module ------------------------\n",
    "json_ex = {\n",
    "    'client2' : {'name' : 'Jack', 'age' : 21, 'occupation' : 'Denstist'},\n",
    "    'client1' : {'name' : 'Amy', 'age' : 28, 'occupation' : 'Anthropologist'}\n",
    "}\n",
    "print('\\n=======================================')\n",
    "print('JSON Module Example: Output JSON formatted dictionary with sorted keys.')\n",
    "print('=======================================')\n",
    "\n",
    "print(f'Python Dictionary: {json_ex}')\n",
    "print(f'JSON Formatted:\\n{json.dumps(json_ex, sort_keys=True, indent=4)}')\n",
    "\n",
    "#------------------------ CSV Module ------------------------\n",
    "print('\\n=======================================')\n",
    "print('CSV Module Example: Read a CSV File:')\n",
    "print('=======================================')\n",
    "\n",
    "with open('test.csv', newline='', encoding='utf-8') as csv_file:\n",
    "    reader = csv.reader(csv_file)\n",
    "\n",
    "    for row in reader:\n",
    "        print(row)\n",
    "    # end for\n",
    "# end with\n",
    "\n",
    "#------------------------ URLLib Module ------------------------\n",
    "print('\\n=======================================')\n",
    "print('URLLib Module Example: Read URL')\n",
    "print('=======================================')\n",
    "\n",
    "try:\n",
    "    test_url = urllib.request.urlopen('https://videocardz.com/')\n",
    "    print(test_url.read())\n",
    "except Exception as e:\n",
    "    print(str(e))\n",
    "# end try\n"
   ]
  },
  {
   "cell_type": "markdown",
   "metadata": {},
   "source": [
    "## Requirement 13"
   ]
  },
  {
   "cell_type": "code",
   "execution_count": 10,
   "metadata": {},
   "outputs": [
    {
     "name": "stdout",
     "output_type": "stream",
     "text": [
      "\"Hello\" to upper-case: HELLO\n",
      "\"Hello\" to lower-case: hello\n",
      "\n",
      "Convert \"this is the title of my latest novel\" to title-case:\n",
      "\t This Is The Title Of My Latest Novel\n",
      "\n",
      "Remove leading and trailing space from \"  Hello World  \": Hello World\n",
      "\n",
      "Remove leading zeros from 00013: 13\n",
      "\n",
      "Go forth on your path, as it exists only through your walking.\n",
      "Index of substring \"exists\"\": 29\n",
      "\n",
      "Go forth on your path, as it exists only through your walking.\n",
      "Does string begin with \"Go\"? True\n",
      "Does string end with \"exists\"? False\n",
      "\n",
      "Replace substring\n",
      "Go forth on your path, as it exists only through your walking.\n",
      "Go forth on your path, as it exists only through your courage.\n",
      "\n",
      "Split a string of words into a list of words\n",
      "Go forth on your path, as it exists only through your walking.\n",
      "['Go', 'forth', 'on', 'your', 'path', 'as', 'it', 'exists', 'only', 'through', 'your', 'walking']\n",
      "\n",
      "Join a list of words into a string using ** as separators\n",
      "['Go', 'forth', 'on', 'your', 'path', 'as', 'it', 'exists', 'only', 'through', 'your', 'walking']\n",
      "Go**forth**on**your**path**as**it**exists**only**through**your**walking\n",
      "\n",
      "Print list elemenest each on its own line using join()\n",
      "['Go', 'forth', 'on', 'your', 'path', 'as', 'it', 'exists', 'only', 'through', 'your', 'walking']\n",
      "Go\n",
      "forth\n",
      "on\n",
      "your\n",
      "path\n",
      "as\n",
      "it\n",
      "exists\n",
      "only\n",
      "through\n",
      "your\n",
      "walking\n",
      "\n",
      "PI 3.14159265359, rounded to 7 decimal places: 3.1415927\n"
     ]
    }
   ],
   "source": [
    "# Demonstrate to upper-case & to lower-case\n",
    "print(f'\"Hello\" to upper-case: {\"Hello\".upper()}')\n",
    "print(f'\"Hello\" to lower-case: {\"Hello\".lower()}')\n",
    "\n",
    "# Convert string to title-case\n",
    "print(f'\\nConvert \"this is the title of my latest novel\" to title-case:\\\n",
    "\\n\\t {\"this is the title of my latest novel\".title()}')\n",
    "\n",
    "# Remove leading and trailing spaces\n",
    "print(f'\\nRemove leading and trailing space from \"  Hello World  \":\\\n",
    " {\"  Hello World  \".strip()}')\n",
    "\n",
    "#  Remove leading zeros\n",
    "num = '00013'\n",
    "print(f'\\nRemove leading zeros from {num}: {num.strip(\"0\")}')\n",
    "\n",
    "# Return index of substring\n",
    "test_str = 'Go forth on your path, as it exists only through your walking.'\n",
    "substr = 'exists'\n",
    "\n",
    "print()\n",
    "print(test_str)\n",
    "print(f'Index of substring \"{substr}\"\": {test_str.index(substr)}')\n",
    "\n",
    "# Determine if a string ends with and begins with a substring\n",
    "print()\n",
    "print(test_str)\n",
    "print(f'Does string begin with \"Go\"? {test_str.startswith(\"Go\")}')\n",
    "print(f'Does string end with \"exists\"? {test_str.endswith(\"exists\")}')\n",
    "\n",
    "# Replace a substring with another substring\n",
    "print('\\nReplace substring')\n",
    "print(test_str)\n",
    "print(f'{test_str.replace(\"walking\", \"courage\")}')\n",
    "\n",
    "# Split a string of words into a list of individual words\n",
    "print('\\nSplit a string of words into a list of words')\n",
    "print(test_str)\n",
    "print(test_str.replace('.', '').replace(',', '').split(' '))\n",
    "\n",
    "# Join a list into a string using ** as seperators\n",
    "print('\\nJoin a list of words into a string using ** as separators')\n",
    "print(test_str.replace('.', '').replace(',', '').split(' '))\n",
    "print('**'.join(test_str.replace('.', '').replace(',', '').split(' ')))\n",
    "\n",
    "# Print list elemenest each on its own line using join()\n",
    "print('\\nPrint list elemenest each on its own line using join()')\n",
    "print(test_str.replace('.', '').replace(',', '').split(' '))\n",
    "print('\\n'.join(test_str.replace('.', '').replace(',', '').split(' ')))\n",
    "\n",
    "\n",
    "# Define pi = 3.14159265359 and use format to print pi to 7 decimal places\n",
    "pi = 3.14159265359\n",
    "formatted_pi = '{0:.7f}'.format(pi)\n",
    "print()\n",
    "print(f'PI {pi}, rounded to 7 decimal places: {formatted_pi}')\n"
   ]
  },
  {
   "cell_type": "markdown",
   "metadata": {},
   "source": [
    "## Requirement 14"
   ]
  },
  {
   "cell_type": "code",
   "execution_count": 11,
   "metadata": {},
   "outputs": [
    {
     "name": "stdout",
     "output_type": "stream",
     "text": [
      "Valid Email: johndoe@gmail.com\n",
      "Valid Email: bookworm@library.lib\n",
      "Valid Email: best_student@acc.edu\n",
      "Invalid Email: another email@someplace.place\n",
      "Invalid Email: not_an_email@@not_a_domain.no\n",
      "Invalid Email: almost_valid@valid..val\n"
     ]
    }
   ],
   "source": [
    "import re\n",
    "\n",
    "# Use regular expression to accomplish the following\n",
    "# create an email matcher\n",
    "# demonstrate with 3 valid and 3 invalid emails\n",
    "\n",
    "def validate_email(regex, email):\n",
    "    if(re.search(regex, email)):   \n",
    "        print(f\"Valid Email: {email}\")   \n",
    "    else:   \n",
    "        print(f\"Invalid Email: {email}\") \n",
    "    # end if\n",
    "# end validate_email\n",
    "\n",
    "email_regex = re.compile('^[a-z0-9]+[\\._]?[a-z0-9]+[@]\\w+[.]\\w{2,3}$')\n",
    "\n",
    "validate_email(email_regex, 'johndoe@gmail.com')\n",
    "validate_email(email_regex, 'bookworm@library.lib')\n",
    "validate_email(email_regex, 'best_student@acc.edu')\n",
    "validate_email(email_regex, 'another email@someplace.place')\n",
    "validate_email(email_regex, 'not_an_email@@not_a_domain.no')\n",
    "validate_email(email_regex, 'almost_valid@valid..val')\n",
    "\n"
   ]
  },
  {
   "cell_type": "markdown",
   "metadata": {},
   "source": [
    "## Requirement 15"
   ]
  },
  {
   "cell_type": "markdown",
   "metadata": {},
   "source": [
    "This was a really fun assignment as it had me use functionalities of Python that I tend to not use a lot such as list comprehensions. I know from a Pythonic point of view, list comprehensions are touted around as the best thing ever. However, I often see people insert overtly complex procedures into list comprehensions and it makes it unreadable. I strive to make my code as readable as possible so I tend to stray away from list comprehensions unless they are short and concise. Additionally, I really need to practice with Regular Expressions as that is one of my weakest points, so this assignment was a nice surface level look into them again."
   ]
  }
 ],
 "metadata": {
  "interpreter": {
   "hash": "dcc8b1093f866ea1902415b07aa2a9712d139ab7d241e7a16103ea8da33d0f73"
  },
  "kernelspec": {
   "display_name": "Python 3.9.7 64-bit",
   "name": "python3"
  },
  "language_info": {
   "codemirror_mode": {
    "name": "ipython",
    "version": 3
   },
   "file_extension": ".py",
   "mimetype": "text/x-python",
   "name": "python",
   "nbconvert_exporter": "python",
   "pygments_lexer": "ipython3",
   "version": "3.9.7"
  },
  "orig_nbformat": 4
 },
 "nbformat": 4,
 "nbformat_minor": 2
}
