{
 "cells": [
  {
   "cell_type": "markdown",
   "metadata": {},
   "source": [
    "# This is Assignment 10 - Michael Navarro"
   ]
  },
  {
   "cell_type": "markdown",
   "metadata": {},
   "source": [
    "## Requirement 03"
   ]
  },
  {
   "cell_type": "code",
   "execution_count": 1,
   "metadata": {},
   "outputs": [
    {
     "name": "stdout",
     "output_type": "stream",
     "text": [
      "Original Array: [2 9 3 6 4 4 9 3 3 5 5 5 8 7 9 7 4 6 6 6]\n",
      "\n",
      "Values less than 6: [ True False  True False  True  True False  True  True  True  True  True\n",
      " False False False False  True False False False]\n",
      "\n",
      "Values greater than 6: [False  True False False False False  True False False False False False\n",
      "  True  True  True  True False False False False]\n",
      "\n",
      "Values less than or equal to 6: [ True False  True  True  True  True False  True  True  True  True  True\n",
      " False False False False  True  True  True  True]\n",
      "\n",
      "Values greater than or equal to 6: [False  True False  True False False  True False False False False False\n",
      "  True  True  True  True False  True  True  True]\n",
      "\n",
      "Values not equal to 6: [ True  True  True False  True  True  True  True  True  True  True  True\n",
      "  True  True  True  True  True False False False]\n",
      "\n",
      "Values equal to 6: [False False False  True False False False False False False False False\n",
      " False False False False False  True  True  True]\n"
     ]
    }
   ],
   "source": [
    "# Create a one-dimensional NumPy arrary with the following criteria\n",
    "# 1. name: one_d_array\n",
    "# 2. contents: 20 random numbers between 1-10\n",
    "# 3. Demonstrate: <,>,<=,>=,!=, and ==\n",
    "\n",
    "import numpy as np\n",
    "import pandas as pd\n",
    "\n",
    "one_d_array = np.random.randint(1, 10, size=(20))\n",
    "\n",
    "print(f'Original Array: {one_d_array}')\n",
    "print(f'\\nValues less than 6: {one_d_array < 6}')\n",
    "print(f'\\nValues greater than 6: {one_d_array > 6}')\n",
    "print(f'\\nValues less than or equal to 6: {one_d_array <= 6}')\n",
    "print(f'\\nValues greater than or equal to 6: {one_d_array >= 6}')\n",
    "print(f'\\nValues not equal to 6: {one_d_array != 6}')\n",
    "print(f'\\nValues equal to 6: {one_d_array == 6}')\n"
   ]
  },
  {
   "cell_type": "markdown",
   "metadata": {},
   "source": [
    "## Requirement 04"
   ]
  },
  {
   "cell_type": "code",
   "execution_count": 2,
   "metadata": {},
   "outputs": [
    {
     "name": "stdout",
     "output_type": "stream",
     "text": [
      "Original Array:\n",
      "[[33 25 29 24 24]\n",
      " [21 33 19 12 31]\n",
      " [24 25 16 26 22]\n",
      " [23 18 13 28 32]]\n",
      "\n",
      "Values less than 16:\n",
      "[[False False False False False]\n",
      " [False False False  True False]\n",
      " [False False False False False]\n",
      " [False False  True False False]]\n",
      "\n",
      "Values greater than 16:\n",
      "[[ True  True  True  True  True]\n",
      " [ True  True  True False  True]\n",
      " [ True  True False  True  True]\n",
      " [ True  True False  True  True]]\n",
      "\n",
      "Values less than or equal to 16:\n",
      "[[False False False False False]\n",
      " [False False False  True False]\n",
      " [False False  True False False]\n",
      " [False False  True False False]]\n",
      "\n",
      "Values greater than or equal to 16:\n",
      "[[ True  True  True  True  True]\n",
      " [ True  True  True False  True]\n",
      " [ True  True  True  True  True]\n",
      " [ True  True False  True  True]]\n",
      "\n",
      "Values not equal to 16:\n",
      "[[ True  True  True  True  True]\n",
      " [ True  True  True  True  True]\n",
      " [ True  True False  True  True]\n",
      " [ True  True  True  True  True]]\n",
      "\n",
      "Values equal to 16:\n",
      "[[False False False False False]\n",
      " [False False False False False]\n",
      " [False False  True False False]\n",
      " [False False False False False]]\n",
      "\n",
      "Original Array:\n",
      "[[33 25 29 24 24]\n",
      " [21 33 19 12 31]\n",
      " [24 25 16 26 22]\n",
      " [23 18 13 28 32]]\n",
      "\n",
      "Number of values greater than 15: 18\n",
      "Sum of values greater than 20: 15\n",
      "Number of values greater than or equal to 19 in each row: [5 4 4 3]\n",
      "Any values less than 12 exist: False\n",
      "All values are greater than 12: False\n",
      "All values in each column > 14: [ True False  True False]\n"
     ]
    }
   ],
   "source": [
    "# Create a two-dimensional arrary with the following criteria\n",
    "# 1. name: two_d_array\n",
    "# 2. size: (4,5)\n",
    "# 3. contents: 11-34\n",
    "# 4. Demonstrate:   <,>,<=,>=,!=, and ==\n",
    "#                   count values < 15\n",
    "#                   sum values > 20\n",
    "#                   count values >= 19 in each row\n",
    "#                   determine if any values < 12\n",
    "#                   determine if all values > 12\n",
    "#                   determine if all values in each column > 14\n",
    "\n",
    "two_d_array = np.random.randint(11, 34, size=(4,5))\n",
    "\n",
    "print(f'Original Array:\\n{two_d_array}')\n",
    "print(f'\\nValues less than 16:\\n{two_d_array < 16}')\n",
    "print(f'\\nValues greater than 16:\\n{two_d_array > 16}')\n",
    "print(f'\\nValues less than or equal to 16:\\n{two_d_array <= 16}')\n",
    "print(f'\\nValues greater than or equal to 16:\\n{two_d_array >= 16}')\n",
    "print(f'\\nValues not equal to 16:\\n{two_d_array != 16}')\n",
    "print(f'\\nValues equal to 16:\\n{two_d_array == 16}')\n",
    "print(f'\\nOriginal Array:\\n{two_d_array}')\n",
    "print(f'\\nNumber of values greater than 15: {np.count_nonzero(two_d_array > 15)}')\n",
    "print(f'Sum of values greater than 20: {np.sum(two_d_array > 20)}')\n",
    "print(f'Number of values greater than or equal to 19 in each row: {np.sum(two_d_array >= 19, axis=1)}')\n",
    "print(f'Any values less than 12 exist: {np.any(two_d_array < 12)}')\n",
    "print(f'All values are greater than 12: {np.all(two_d_array > 12)}')\n",
    "print(f'All values in each column > 14: {np.all(two_d_array > 14, axis=1)}')\n"
   ]
  },
  {
   "cell_type": "markdown",
   "metadata": {},
   "source": [
    "## Requirement 05"
   ]
  },
  {
   "cell_type": "code",
   "execution_count": 3,
   "metadata": {},
   "outputs": [
    {
     "name": "stdout",
     "output_type": "stream",
     "text": [
      "Number of days with rainfall between .15 inches & 1.15 inches: 83\n",
      "Number of days with rainfall between .15 inches & 1.15 inches: 83\n"
     ]
    }
   ],
   "source": [
    "# Use the inches arrary from chapter 02.06 to determine\n",
    "# 1. 0.15 <= value <= 1.15 \n",
    "# 2. Use ~ and | to return the same number as above\n",
    "\n",
    "rainfall = pd.read_csv('Seattle2014.csv')['PRCP'].values\n",
    "inches = rainfall / 254.0  # 1/10mm -> inches\n",
    "\n",
    "print(f'Number of days with rainfall between .15 inches & 1.15 inches: {np.sum((inches >= 0.15) & (inches <= 1.15))}')\n",
    "print(f'Number of days with rainfall between .15 inches & 1.15 inches: {np.sum(~( (inches >= 1.15) | (inches <= 0.15) ))}')"
   ]
  },
  {
   "cell_type": "markdown",
   "metadata": {},
   "source": [
    "## Requirement 06"
   ]
  },
  {
   "cell_type": "code",
   "execution_count": 4,
   "metadata": {},
   "outputs": [
    {
     "name": "stdout",
     "output_type": "stream",
     "text": [
      "                 Number of days without rain: 215\n",
      "                    Number of days with rain: 150\n",
      "Number of days with more than 1 inch of rain: 150\n"
     ]
    }
   ],
   "source": [
    "# Using the inches arrary from chapter 02.06, show the following:\n",
    "# 1. Number of days without rain\n",
    "# 2. Number of days with rain\n",
    "# 3. Days with >= 1 inch of rain\n",
    "\n",
    "print(f'{\"Number of days without rain:\":>45} {np.sum(inches == 0)}')\n",
    "print(f'{\"Number of days with rain:\":>45} {np.sum(inches != 0)}')\n",
    "print(f'{\"Number of days with more than 1 inch of rain:\":>45} {np.sum(inches != 0)}')"
   ]
  },
  {
   "cell_type": "markdown",
   "metadata": {},
   "source": [
    "## Requirement 07"
   ]
  },
  {
   "cell_type": "code",
   "execution_count": 5,
   "metadata": {},
   "outputs": [
    {
     "name": "stdout",
     "output_type": "stream",
     "text": [
      "Original Array:\n",
      "[[33 25 29 24 24]\n",
      " [21 33 19 12 31]\n",
      " [24 25 16 26 22]\n",
      " [23 18 13 28 32]]\n",
      "\n",
      "Boolean Array where value < 15:\n",
      "[[False False False False False]\n",
      " [False False False  True False]\n",
      " [False False False False False]\n",
      " [False False  True False False]]\n",
      "\n",
      "Numerical Array of values < 15:\n",
      "[12 13]\n"
     ]
    }
   ],
   "source": [
    "# Use boolean masking on two_d_arrary to:\n",
    "# 1. return a Boolean array where values < 15\n",
    "# 2. return an array of values < 15\n",
    "\n",
    "print(f'Original Array:\\n{two_d_array}')\n",
    "print(f'\\nBoolean Array where value < 15:\\n{two_d_array < 15}')\n",
    "print(f'\\nNumerical Array of values < 15:\\n{two_d_array[two_d_array < 15]}')"
   ]
  },
  {
   "cell_type": "markdown",
   "metadata": {},
   "source": [
    "## Requirement 08"
   ]
  },
  {
   "cell_type": "code",
   "execution_count": 6,
   "metadata": {},
   "outputs": [
    {
     "name": "stdout",
     "output_type": "stream",
     "text": [
      "           Median precip on pouring days in 2014 (inches): 0.7283464566929134\n",
      "            Median precip on summer days in 2014 (inches): 0.0\n",
      "           Maximum precip on summer days in 2014 (inches): 0.8503937007874016\n",
      "Median precip on non-summer pouring days in 2014 (inches): 0.7204724409448819\n"
     ]
    }
   ],
   "source": [
    "# Using the inches rain data, output the following data with the following constraint:\n",
    "# 1. (pouring = (inches > 0.5))\n",
    "# 2. Median precip on pouring days in 2014 (inches):\n",
    "# 3. Median precip on summer days in 2014 (inches):\n",
    "# 4. Maximum precip on summer days in 2014 (inches):\n",
    "# 5. Median precip on non-summer pouring days in 2014 (inches):\n",
    "\n",
    "pouring = (inches > 0.5)\n",
    "days = np.arange(365)\n",
    "summer = (days > 172) & (days < 262)\n",
    "\n",
    "print(f'{\"Median precip on pouring days in 2014 (inches):\":>58} {np.median(inches[pouring])}')\n",
    "print(f'{\"Median precip on summer days in 2014 (inches):\":>58} {np.median(inches[summer])}')\n",
    "print(f'{\"Maximum precip on summer days in 2014 (inches):\":>58} {np.max(inches[summer])}')\n",
    "print(f'{\"Median precip on non-summer pouring days in 2014 (inches):\":>58} {np.median(inches[pouring & ~summer])}')"
   ]
  },
  {
   "cell_type": "markdown",
   "metadata": {},
   "source": [
    "## Requirement 09"
   ]
  },
  {
   "cell_type": "markdown",
   "metadata": {},
   "source": [
    "The main difference between the key words \"and\"/\"or\" and \"&\"/\"|\" is the level at which they operate on an object. You can think of the keywords \"and\"/\"or\" as a high level comparison that looks at the entiretiy of an object and some rules of simplification. For example any number that is not 0 is true. On the other hand the keywords \"&\"/\"|\" operate on a lower level and look at the bits composing an object. They essenetially work by creating a truth map of the bits of each object. In this case, it would look compare 0000 and 0101 instead of the numbers 0 and 5."
   ]
  },
  {
   "cell_type": "markdown",
   "metadata": {},
   "source": [
    "## Requirement 10"
   ]
  },
  {
   "cell_type": "code",
   "execution_count": 7,
   "metadata": {},
   "outputs": [
    {
     "name": "stdout",
     "output_type": "stream",
     "text": [
      "One Dimensional Array: [2 9 3 6 4 4 9 3 3 5 5 5 8 7 9 7 4 6 6 6]\n",
      "Values for index 3, 5, & 7: [6 4 3]\n",
      "Two Dimensional Array:\n",
      "[[33 25 29 24 24]\n",
      " [21 33 19 12 31]\n",
      " [24 25 16 26 22]\n",
      " [23 18 13 28 32]]\n",
      "Values for index (row, col) - (0,0), (1,2), and (3,4):\n",
      "[33 19 32]\n"
     ]
    }
   ],
   "source": [
    "# Demonstrate fancing indexing with\n",
    "# 1. one_d_array\n",
    "# 2. two_d_array\n",
    "\n",
    "one_d_idxs = [3, 5, 7]\n",
    "print(f'One Dimensional Array: {one_d_array}')\n",
    "print(f'Values for index 3, 5, & 7: {one_d_array[one_d_idxs]}')\n",
    "\n",
    "two_d_row = np.array([0, 1, 3])\n",
    "two_d_col = np.array([0, 2, 4])\n",
    "print(f'Two Dimensional Array:\\n{two_d_array}')\n",
    "print(f'Values for index (row, col) - (0,0), (1,2), and (3,4):\\n{two_d_array[two_d_row, two_d_col]}')"
   ]
  },
  {
   "cell_type": "markdown",
   "metadata": {},
   "source": [
    "## Requirtement 11"
   ]
  },
  {
   "cell_type": "code",
   "execution_count": 8,
   "metadata": {},
   "outputs": [
    {
     "name": "stdout",
     "output_type": "stream",
     "text": [
      "Two Dimensional Array:\n",
      "[[33 25 29 24 24]\n",
      " [21 33 19 12 31]\n",
      " [24 25 16 26 22]\n",
      " [23 18 13 28 32]]\n",
      "Combined indexing with slicing:\n",
      "[[24 16 22]\n",
      " [23 13 32]]\n",
      "Combined indexing with masking:\n",
      "[[33 29 24]\n",
      " [21 19 31]\n",
      " [23 13 32]]\n"
     ]
    }
   ],
   "source": [
    "# Demonstrate combined indexing with\n",
    "# 1. two_d_array and slicing\n",
    "# 2. two_d_array and masking\n",
    "\n",
    "print(f'Two Dimensional Array:\\n{two_d_array}')\n",
    "print(f'Combined indexing with slicing:\\n{two_d_array[2:, [0, 2, 4]]}')\n",
    "\n",
    "mask = np.array([1, 0, 1, 0, 1], dtype=bool)\n",
    "two_d_row = np.array([0, 1, 3])\n",
    "print(f'Combined indexing with masking:\\n{two_d_array[two_d_row[:, np.newaxis], mask]}')\n"
   ]
  },
  {
   "cell_type": "markdown",
   "metadata": {},
   "source": [
    "## Requirement 12"
   ]
  },
  {
   "cell_type": "code",
   "execution_count": 9,
   "metadata": {},
   "outputs": [
    {
     "name": "stdout",
     "output_type": "stream",
     "text": [
      "Two Dimensional Array:\n",
      "[[33 25 29 24 24]\n",
      " [21 33 19 12 31]\n",
      " [24 25 16 26 22]\n",
      " [23 18 13 28 32]]\n",
      "Two Dimensional Array Rows Sorted:\n",
      "[[24 24 25 29 33]\n",
      " [12 19 21 31 33]\n",
      " [16 22 24 25 26]\n",
      " [13 18 23 28 32]]\n",
      "Two Dimensional Array Coloumns Sorted:\n",
      "[[21 18 13 12 22]\n",
      " [23 25 16 24 24]\n",
      " [24 25 19 26 31]\n",
      " [33 33 29 28 32]]\n",
      "Two Dimensional Array Partitioned Sort:\n",
      "[[21 18 16 12 22]\n",
      " [23 25 13 24 24]\n",
      " [24 25 19 26 31]\n",
      " [33 33 29 28 32]]\n"
     ]
    }
   ],
   "source": [
    "# Demonstrate the following using two_d_array\n",
    "# 1. Sort each row\n",
    "# 2. Sort each column\n",
    "# 3. partition the array such that the first three values in each column are\n",
    "#    the lowest values in that column\n",
    "\n",
    "print(f'Two Dimensional Array:\\n{two_d_array}')\n",
    "print(f'Two Dimensional Array Rows Sorted:\\n{np.sort(two_d_array, axis=1)}')\n",
    "print(f'Two Dimensional Array Coloumns Sorted:\\n{np.sort(two_d_array, axis=0)}')\n",
    "print(f'Two Dimensional Array Partitioned Sort:\\n{np.partition(two_d_array, 3, axis=0)}')"
   ]
  },
  {
   "cell_type": "markdown",
   "metadata": {},
   "source": [
    "## Requirement 13"
   ]
  },
  {
   "cell_type": "code",
   "execution_count": 10,
   "metadata": {},
   "outputs": [
    {
     "data": {
      "image/png": "[encoded data removed]",
      "text/plain": [
       "<Figure size 432x288 with 1 Axes>"
      ]
     },
     "metadata": {},
     "output_type": "display_data"
    }
   ],
   "source": [
    "# Produce a k-nearest neighbor plot using:\n",
    "# 1. a 25 X 2 array\n",
    "# 2. K = 3\n",
    "\n",
    "%matplotlib inline\n",
    "import matplotlib.pyplot as plt\n",
    "import seaborn; seaborn.set() # Plot styling\n",
    "\n",
    "rand = np.random.RandomState(42)\n",
    "\n",
    "X = rand.rand(25, 2)    # Arrary 25 x 2\n",
    "K = 3                   # Number of neighbors\n",
    "\n",
    "dist_sq = np.sum((X[:, np.newaxis, :] - X[np.newaxis, :, :]) ** 2, axis=-1)\n",
    "nearest = np.argsort(dist_sq, axis=1)\n",
    "nearest_partition = np.argpartition(dist_sq, K + 1, axis=1)\n",
    "\n",
    "# Plot points\n",
    "plt.scatter(X[:, 0], X[:, 1], s=100)\n",
    "\n",
    "# Connect points\n",
    "for i in range(X.shape[0]):\n",
    "    for j in nearest_partition[i, :K+1]:\n",
    "        # plot a line from X[i] to X[j]\n",
    "        plt.plot(*zip(X[j], X[i]), color='black')\n",
    "    # end for\n",
    "# end for"
   ]
  },
  {
   "cell_type": "markdown",
   "metadata": {},
   "source": [
    "## Requirement 14"
   ]
  },
  {
   "cell_type": "code",
   "execution_count": 11,
   "metadata": {},
   "outputs": [
    {
     "name": "stdout",
     "output_type": "stream",
     "text": [
      "[('Hawkeye', 35, 'Waverly, Iowa', 'Master archer')\n",
      " ('Spider-Gwen', 16, 'Queens, New York City', 'Spidey Powers')\n",
      " ('Captain Marvel', 51, 'Boston, Massachusetts', 'Energy Blasts')\n",
      " ('Deadpool', 27, 'Vancouver, British Columbia, Canada', 'Regenerative Healing')\n",
      " ('Nova', 17, 'Earth', 'Super Human Abilities')]\n"
     ]
    }
   ],
   "source": [
    "# Create a structured array named super_heroes using:\n",
    "# 1. The dictionary method\n",
    "# 2. NumPy data types for the element names\n",
    "# 3. With the following element names:\n",
    "#   a. name\n",
    "#   b. age\n",
    "#   c. birthplace\n",
    "#   d. super_power\n",
    "\n",
    "super_heroes = np.zeros(5, dtype={'names':('name', 'age', 'birthplace', 'super_power'),\n",
    "                                   'formats':('U15', 'i4', 'U50', 'U50')})\n",
    "\n",
    "names = ['Hawkeye', 'Spider-Gwen', 'Captain Marvel', 'Deadpool', 'Nova']\n",
    "ages = [35, 16, 51, 27, 17]\n",
    "birthplaces = ['Waverly, Iowa', 'Queens, New York City', 'Boston, Massachusetts', 'Vancouver, British Columbia, Canada', 'Earth']\n",
    "super_powers = ['Master archer', 'Spidey Powers', 'Energy Blasts', 'Regenerative Healing', 'Super Human Abilities']\n",
    "\n",
    "super_heroes['name'] = names\n",
    "super_heroes['age'] = ages\n",
    "super_heroes['birthplace'] = birthplaces\n",
    "super_heroes['super_power'] = super_powers\n",
    "\n",
    "print(super_heroes)"
   ]
  },
  {
   "cell_type": "markdown",
   "metadata": {},
   "source": [
    "## Requirement 15\n",
    "\n",
    "I learned a lot on in this assignment. The flexibility that NumPy arrays have is fascinating. It really makes me interested to peek under the hood\n",
    "and see just how complicated the library really is. It has also made me even more interested in object operation optimization. Between this assignment and the last assignment,\n",
    "the speed difference between NumPy arrays and the operations done on them is staggering compared to normal Python arrays. I can't wait to see what else we do with NumPy and its\n",
    "powerful array manipulation."
   ]
  }
 ],
 "metadata": {
  "interpreter": {
   "hash": "9066c0a3eb76f092da25a941f0bb3289f7f87123e4b697e83143deb8c842e396"
  },
  "kernelspec": {
   "display_name": "Python 3.9.5 64-bit ('base': conda)",
   "name": "python3"
  },
  "language_info": {
   "codemirror_mode": {
    "name": "ipython",
    "version": 3
   },
   "file_extension": ".py",
   "mimetype": "text/x-python",
   "name": "python",
   "nbconvert_exporter": "python",
   "pygments_lexer": "ipython3",
   "version": "3.9.5"
  },
  "orig_nbformat": 4
 },
 "nbformat": 4,
 "nbformat_minor": 2
}
