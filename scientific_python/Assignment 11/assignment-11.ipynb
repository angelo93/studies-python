{
 "cells": [
  {
   "cell_type": "markdown",
   "metadata": {},
   "source": [
    "# This is Assignment 11 - Michael Navarro"
   ]
  },
  {
   "cell_type": "code",
   "execution_count": 1,
   "metadata": {},
   "outputs": [],
   "source": [
    "# Imports\n",
    "import numpy as np\n",
    "import pandas as pd"
   ]
  },
  {
   "cell_type": "markdown",
   "metadata": {},
   "source": [
    "## Requirement 03\n",
    "\n",
    "The commonalities between NumPy arrays and Pandas series are about the same as NumPy arrays and Python lists. That is, they both store data in list like format (with their respective limitations) to be used with each of their respective methods. You can do similar operations in both a NumPy array and a Pandas series however, this is where we can start to see a difference.\n",
    "\n",
    "NumPy Arrays are favored when having to do calculations, especially if those operations are repeated numerous times. NumPy arrays also tend to take less space then Pandas Series. Pandas Series however, are better suited for data modeling as they can use labels to organize their data and by using an index, multiple data series can become a data frame allowing for greater modeling methods."
   ]
  },
  {
   "cell_type": "markdown",
   "metadata": {},
   "source": [
    "## Requirement 04"
   ]
  },
  {
   "cell_type": "code",
   "execution_count": 2,
   "metadata": {},
   "outputs": [
    {
     "data": {
      "text/plain": [
       "1      Washington\n",
       "2       Jefferson\n",
       "5         Lincoln\n",
       "10       Hamilton\n",
       "20        Jackson\n",
       "50          Grant\n",
       "100      Franklin\n",
       "dtype: object"
      ]
     },
     "execution_count": 2,
     "metadata": {},
     "output_type": "execute_result"
    }
   ],
   "source": [
    "# Create a Pandas series named bill_names with American currency bill\n",
    "# denominations as indices (keys) and President last names as values. For\n",
    "# example: 1 – Washington, 2 – Jefferson, etc\n",
    "\n",
    "bill_names = pd.Series([\"Washington\", \"Jefferson\", \"Lincoln\", \"Hamilton\", \"Jackson\", \"Grant\", \"Franklin\"],\n",
    "index=[1, 2, 5, 10, 20, 50, 100])\n",
    "\n",
    "bill_names"
   ]
  },
  {
   "cell_type": "markdown",
   "metadata": {},
   "source": [
    "## Requirement 05"
   ]
  },
  {
   "cell_type": "code",
   "execution_count": 3,
   "metadata": {},
   "outputs": [
    {
     "name": "stdout",
     "output_type": "stream",
     "text": [
      "Fanta: Don't cha?\n",
      "Dr. Pepper: Thank you Dublin!\n",
      "Coke: Delicious\n",
      "Pepsi: Not coke :(\n"
     ]
    },
    {
     "data": {
      "text/plain": [
       "Coke       Delicious\n",
       "Pepsi    Not coke :(\n",
       "dtype: object"
      ]
     },
     "execution_count": 3,
     "metadata": {},
     "output_type": "execute_result"
    }
   ],
   "source": [
    "# Create a Pandas series-as-dictionary beverages_dict. Make the indices\n",
    "# beverage names and comments about the beverage as values. For example:\n",
    "# ‘Aquafina’: ‘This is my favorite bottled water!’. Demonstrate accessing:\n",
    "# • individual values via the keys\n",
    "# • multiple values via slicing\n",
    "\n",
    "beverages_dict = pd.Series({\n",
    "    'Fanta': \"Don't cha?\",\n",
    "    'Dr. Pepper': \"Thank you Dublin!\",\n",
    "    'Coke': \"Delicious\",\n",
    "    'Pepsi': \"Not coke :(\",\n",
    "})\n",
    "\n",
    "print(f'Fanta: {beverages_dict[\"Fanta\"]}')\n",
    "print(f'Dr. Pepper: {beverages_dict[\"Dr. Pepper\"]}')\n",
    "print(f'Coke: {beverages_dict[\"Coke\"]}')\n",
    "print(f'Pepsi: {beverages_dict[\"Pepsi\"]}')\n",
    "\n",
    "beverages_dict['Coke':'Pepsi']"
   ]
  },
  {
   "cell_type": "markdown",
   "metadata": {},
   "source": [
    "## Requirement 06"
   ]
  },
  {
   "cell_type": "code",
   "execution_count": 4,
   "metadata": {},
   "outputs": [
    {
     "data": {
      "text/plain": [
       "Chongquing      16382000\n",
       "Shanghai        27796000\n",
       "Tokyo          125920841\n",
       "Moscow          12593252\n",
       "Mexico City     21918936\n",
       "London           9425622\n",
       "New York         8230290\n",
       "dtype: int64"
      ]
     },
     "execution_count": 4,
     "metadata": {},
     "output_type": "execute_result"
    }
   ],
   "source": [
    "# Obtain the real city proper population data for the following cities:\n",
    "# Chongquing, Shanghai, Tokyo, Moscow, Mexico City, London, & New York.\n",
    "# Create a series-as-dictionary named population based on this information.\n",
    "\n",
    "population = pd.Series({\n",
    "    'Chongquing'    : 16382000,\n",
    "    'Shanghai'      : 27796000,\n",
    "    'Tokyo'         : 125920841,\n",
    "    'Moscow'        : 12593252,\n",
    "    'Mexico City'   : 21918936,\n",
    "    'London'        : 9425622,\n",
    "    'New York'      : 8230290,\n",
    "})\n",
    "\n",
    "population\n"
   ]
  },
  {
   "cell_type": "markdown",
   "metadata": {},
   "source": [
    "## Requirement 07"
   ]
  },
  {
   "cell_type": "code",
   "execution_count": 5,
   "metadata": {},
   "outputs": [
    {
     "data": {
      "text/plain": [
       "Chongquing      China\n",
       "Shanghai        China\n",
       "Tokyo           Japan\n",
       "Moscow         Russia\n",
       "Mexico City    Mexico\n",
       "London             UK\n",
       "New York          USA\n",
       "dtype: object"
      ]
     },
     "execution_count": 5,
     "metadata": {},
     "output_type": "execute_result"
    }
   ],
   "source": [
    "# Create a Pandas series-as-dictionary named city_country with the cities in\n",
    "# population and the countries for each city\n",
    "\n",
    "city_country = pd.Series({\n",
    "    'Chongquing'    : 'China',\n",
    "    'Shanghai'      : 'China',\n",
    "    'Tokyo'         : 'Japan',\n",
    "    'Moscow'        : 'Russia',\n",
    "    'Mexico City'   : 'Mexico',\n",
    "    'London'        : 'UK',\n",
    "    'New York'      : 'USA',\n",
    "})\n",
    "\n",
    "city_country"
   ]
  },
  {
   "cell_type": "markdown",
   "metadata": {},
   "source": [
    "## Requirement 08"
   ]
  },
  {
   "cell_type": "code",
   "execution_count": 6,
   "metadata": {},
   "outputs": [
    {
     "name": "stdout",
     "output_type": "stream",
     "text": [
      "             population city_country\n",
      "Chongquing     16382000        China\n",
      "Shanghai       27796000        China\n",
      "Tokyo         125920841        Japan\n",
      "Moscow         12593252       Russia\n",
      "Mexico City    21918936       Mexico\n",
      "London          9425622           UK\n",
      "New York        8230290          USA\n",
      "\n",
      "Index Access:\n",
      "Index(['Chongquing', 'Shanghai', 'Tokyo', 'Moscow', 'Mexico City', 'London',\n",
      "       'New York'],\n",
      "      dtype='object')\n",
      "\n",
      "Column Access:\n",
      "Index(['population', 'city_country'], dtype='object')\n",
      "\n",
      "Keys() Method:\n",
      "Index(['population', 'city_country'], dtype='object')\n"
     ]
    }
   ],
   "source": [
    "# Create a Pandas dataframe object named city_dataframe from a dictionary\n",
    "# of series objects using population and city_country. Show:\n",
    "# • the .index property\n",
    "# • the .columns property\n",
    "# • the .keys() method\n",
    "\n",
    "city_dataframe = pd.DataFrame({\n",
    "    'population':population,\n",
    "    'city_country': city_country,\n",
    "})\n",
    "\n",
    "print(f'{city_dataframe}\\n')\n",
    "print(f'Index Access:\\n{city_dataframe.index}\\n')\n",
    "print(f'Column Access:\\n{city_dataframe.columns}\\n')\n",
    "print(f'Keys() Method:\\n{city_dataframe.keys()}')"
   ]
  },
  {
   "cell_type": "markdown",
   "metadata": {},
   "source": [
    "## Requirement 09"
   ]
  },
  {
   "cell_type": "code",
   "execution_count": 7,
   "metadata": {},
   "outputs": [
    {
     "name": "stdout",
     "output_type": "stream",
     "text": [
      "Nintendo Entertainment System Release Date: 1980\n",
      "Correction: 1983\n",
      "\n",
      "Slicing by explicit index:\n",
      "Wii                2006\n",
      "Wii U              2012\n",
      "Nintendo Switch    2017\n",
      "dtype: int64\n",
      "\n",
      "Slicing by implicit integer index:\n",
      "Nintendo Entertainment System          1983\n",
      "Super Nintendo Entertainment System    1990\n",
      "Nintendo 64                            1996\n",
      "dtype: int64\n",
      "\n",
      "Masking:\n",
      "Super Nintendo Entertainment System    1990\n",
      "Nintendo 64                            1996\n",
      "dtype: int64\n",
      "\n",
      "Fancy Indexing:\n",
      "Nintendo Entertainment System    1983\n",
      "Nintendo Switch                  2017\n",
      "dtype: int64\n",
      "\n",
      "Loc[\"Nintendo Entertainment System\"]:\n",
      "1983\n",
      "\n",
      "Iloc[0]:\n",
      "1983\n"
     ]
    }
   ],
   "source": [
    "# Create a Pandas series object named my_pd_series from a collection of\n",
    "# string keys and collection of numeric values of your choosing. Demonstrate:\n",
    "# • modifying a value based on key\n",
    "# • slicing by explicit index\n",
    "# • slicing by implicit integer index\n",
    "# • masking\n",
    "# • fancy indexing\n",
    "# • loc[]\n",
    "# • iloc[]\n",
    "\n",
    "my_pd_series = pd.Series([1980, 1990, 1996, 2001, 2006, 2012, 2017], \n",
    "                    index=['Nintendo Entertainment System', 'Super Nintendo Entertainment System', 'Nintendo 64', 'Nintendo GameCube', 'Wii', 'Wii U', 'Nintendo Switch'])\n",
    "\n",
    "# my_pd_series = ({\n",
    "#     'Nintendo Entertainment System' : 1980,\n",
    "#     'Super Nintendo Entertainment System' : 1990,\n",
    "#     'Nintendo 64' : 1996,\n",
    "#     'Nintendo GameCube' : 2001,\n",
    "#     'Wii' : 2006,\n",
    "#     'Wii U' : 2012,\n",
    "#     'Nintendo Switch' : 2017,\n",
    "# })\n",
    "\n",
    "print(f'Nintendo Entertainment System Release Date: {my_pd_series[\"Nintendo Entertainment System\"]}')\n",
    "my_pd_series[\"Nintendo Entertainment System\"] = 1983\n",
    "print(f'Correction: {my_pd_series[\"Nintendo Entertainment System\"]}')\n",
    "\n",
    "print(f'\\nSlicing by explicit index:\\n{my_pd_series[\"Wii\" : \"Nintendo Switch\"]}')\n",
    "print(f'\\nSlicing by implicit integer index:\\n{my_pd_series[0:3]}')\n",
    "print(f'\\nMasking:\\n{my_pd_series[(my_pd_series >= 1990) & (my_pd_series <= 2000)]}')\n",
    "print(f'\\nFancy Indexing:\\n{my_pd_series[[\"Nintendo Entertainment System\", \"Nintendo Switch\"]]}')\n",
    "\n",
    "print(f'\\nLoc[\"Nintendo Entertainment System\"]:\\n{my_pd_series.loc[\"Nintendo Entertainment System\"]}')\n",
    "print(f'\\nIloc[0]:\\n{my_pd_series.iloc[0]}')"
   ]
  },
  {
   "cell_type": "markdown",
   "metadata": {},
   "source": [
    "## Requirement 10"
   ]
  },
  {
   "cell_type": "code",
   "execution_count": 8,
   "metadata": {},
   "outputs": [
    {
     "name": "stdout",
     "output_type": "stream",
     "text": [
      "Dictionary-style indexing of the column name \"Population\":\n",
      "Chongquing      16382000\n",
      "Shanghai        27796000\n",
      "Tokyo          125920841\n",
      "Moscow          12593252\n",
      "Mexico City     21918936\n",
      "London           9425622\n",
      "New York         8230290\n",
      "Name: population, dtype: int64\n",
      "\n",
      "Access column via column names that are strings \"city_country\":\n",
      "Chongquing      China\n",
      "Shanghai        China\n",
      "Tokyo           Japan\n",
      "Moscow         Russia\n",
      "Mexico City    Mexico\n",
      "London             UK\n",
      "New York          USA\n",
      "Name: city_country, dtype: object\n",
      "\n",
      "             population city_country  Population 2022\n",
      "Chongquing     16382000        China     1.720110e+07\n",
      "Shanghai       27796000        China     2.918580e+07\n",
      "Tokyo         125920841        Japan     1.322169e+08\n",
      "Moscow         12593252       Russia     1.322291e+07\n",
      "Mexico City    21918936       Mexico     2.301488e+07\n",
      "London          9425622           UK     9.896903e+06\n",
      "New York        8230290          USA     8.641804e+06\n"
     ]
    }
   ],
   "source": [
    "# Using city_dataframe, demonstrate:\n",
    "# • access column via dictionary-style indexing of the column name\n",
    "# • access column via column names that are strings\n",
    "# • add a new column to the city_dataframe named altitude.\n",
    "\n",
    "print(f'Dictionary-style indexing of the column name \"Population\":\\n{city_dataframe[\"population\"]}')\n",
    "print(f'\\nAccess column via column names that are strings \"city_country\":\\n{city_dataframe.city_country}')\n",
    "\n",
    "city_dataframe['Population 2022'] = city_dataframe['population'] * 1.05\n",
    "print()\n",
    "print(city_dataframe)"
   ]
  },
  {
   "cell_type": "markdown",
   "metadata": {},
   "source": [
    "## Requirement 11"
   ]
  },
  {
   "cell_type": "code",
   "execution_count": 9,
   "metadata": {},
   "outputs": [
    {
     "name": "stdout",
     "output_type": "stream",
     "text": [
      "Unfilled\n",
      "0     NaN\n",
      "0     NaN\n",
      "2     NaN\n",
      "4    18.0\n",
      "6     NaN\n",
      "dtype: float64\n",
      "\n",
      "Filled\n",
      "0     4.0\n",
      "0     8.0\n",
      "2     2.0\n",
      "4    18.0\n",
      "6    10.0\n",
      "dtype: float64\n"
     ]
    }
   ],
   "source": [
    "# Create two Pandas series that when added using ‘+’ produce some NaN\n",
    "# entries. Use the .add() method and a fill_value to replace the NaN entries\n",
    "\n",
    "X = pd.Series([4, 8, 12], index=[0, 0, 4])\n",
    "Y = pd.Series([2, 6, 10], index=[2, 4, 6])\n",
    "\n",
    "print('Unfilled')\n",
    "print(X + Y)\n",
    "print('\\nFilled')\n",
    "print(f'{X.add(Y, fill_value=0)}')"
   ]
  },
  {
   "cell_type": "markdown",
   "metadata": {},
   "source": [
    "## Requirement 12"
   ]
  },
  {
   "cell_type": "code",
   "execution_count": 10,
   "metadata": {},
   "outputs": [
    {
     "name": "stdout",
     "output_type": "stream",
     "text": [
      "Unfilled\n",
      "      A     B   C\n",
      "0   3.0  11.0 NaN\n",
      "1  12.0  14.0 NaN\n",
      "2   NaN   NaN NaN\n",
      "\n",
      "Filled\n",
      "       A      B      C\n",
      "0   3.00  11.00   9.25\n",
      "1  12.00  14.00   6.25\n",
      "2   8.25  12.25  12.25\n"
     ]
    }
   ],
   "source": [
    "# Create two Pandas dataframes that when added using ‘+’ produce some\n",
    "# NaN entries. Use the .add() method and a fill_value of the mean of one of\n",
    "# the dataframes to replace the NaN entries\n",
    "\n",
    "rng = np.random.RandomState(99)\n",
    "\n",
    "X = pd.DataFrame(rng.randint(0, 20, (2, 2)),\n",
    "    columns=list('AB'))\n",
    "Y = pd.DataFrame(rng.randint(0, 10, (3, 3)),\n",
    "    columns=list('BAC'))\n",
    "\n",
    "print('Unfilled')\n",
    "print(X + Y)\n",
    "print('\\nFilled')\n",
    "fill = X.stack().mean()\n",
    "print(f'{X.add(Y, fill_value=fill)}')"
   ]
  },
  {
   "cell_type": "markdown",
   "metadata": {},
   "source": [
    "## Requirement 13"
   ]
  },
  {
   "cell_type": "code",
   "execution_count": 11,
   "metadata": {},
   "outputs": [
    {
     "name": "stdout",
     "output_type": "stream",
     "text": [
      "Original\n",
      "[[6 6 5 8]\n",
      " [8 9 7 5]\n",
      " [9 5 5 9]\n",
      " [6 8 7 8]]\n",
      "\n",
      "Subtracting row 0 of A from A\n",
      "[[ 0  0  0  0]\n",
      " [ 2  3  2 -3]\n",
      " [ 3 -1  0  1]\n",
      " [ 0  2  2  0]]\n"
     ]
    }
   ],
   "source": [
    "# Create a two-dimensional NumPy array using:\n",
    "# A = rng.randint(5, 10, size=(4, 4))\n",
    "# Demonstrate: subtracting row 0 of A from A\n",
    "\n",
    "A = rng.randint(5, 10, size=(4, 4))\n",
    "\n",
    "print('Original')\n",
    "print(A)\n",
    "print('\\nSubtracting row 0 of A from A')\n",
    "print(A - A[0])"
   ]
  },
  {
   "cell_type": "markdown",
   "metadata": {},
   "source": [
    "## Requirement 14"
   ]
  },
  {
   "cell_type": "code",
   "execution_count": 12,
   "metadata": {},
   "outputs": [
    {
     "name": "stdout",
     "output_type": "stream",
     "text": [
      "Original\n",
      "   Q  R  S  T\n",
      "0  6  6  5  8\n",
      "1  8  9  7  5\n",
      "2  9  5  5  9\n",
      "3  6  8  7  8\n",
      "\n",
      "Subtracting row 1 of df from df using df.iloc[1]\n",
      "   Q  R  S  T\n",
      "0  0  0  0  0\n",
      "1  2  3  2 -3\n",
      "2  3 -1  0  1\n",
      "3  0  2  2  0\n"
     ]
    }
   ],
   "source": [
    "# Create a Pandas dataframe using:\n",
    "# df = pd.DataFrame(A, columns=list('QRST'))\n",
    "# Demonstrate: subtracting row 1 of df from df using df.iloc[1]\n",
    "\n",
    "df = pd.DataFrame(A, columns=list('QRST'))\n",
    "\n",
    "print('Original')\n",
    "print(df)\n",
    "print('\\nSubtracting row 1 of df from df using df.iloc[1]')\n",
    "print(df - df.iloc[0])"
   ]
  },
  {
   "cell_type": "markdown",
   "metadata": {},
   "source": [
    "## Requirement 15\n",
    "\n",
    "The two different sentinel values that Pandas uses are NaN (Not a number) and None. The key diference is how the two values can be used with arithmetic in regards to NumPy. None signifies an absence of data. NaN while not a number can still be manipulated like one under the hood. For Pandas, in general, Pandas can deal with both in just about the same way meaning that they can generally act the same way, for Pandas. Additionally, Pandas has some unqiue ways of manipulating NaN and None."
   ]
  },
  {
   "cell_type": "markdown",
   "metadata": {},
   "source": [
    "## Requirement 16"
   ]
  },
  {
   "cell_type": "code",
   "execution_count": 13,
   "metadata": {},
   "outputs": [
    {
     "name": "stdout",
     "output_type": "stream",
     "text": [
      "dtype = object\n",
      "3.98 ms ± 44.4 µs per loop (mean ± std. dev. of 7 runs, 100 loops each)\n",
      "\n",
      "dtype = int\n",
      "73.3 µs ± 477 ns per loop (mean ± std. dev. of 7 runs, 10000 loops each)\n",
      "\n"
     ]
    }
   ],
   "source": [
    "# Demonstrate the %timeit difference between operations using Python\n",
    "# objects and Python integers\n",
    "\n",
    "for dtype in ['object', 'int']:\n",
    "    print(\"dtype =\", dtype)\n",
    "    %timeit np.arange(1E5, dtype=dtype).sum()\n",
    "    print()\n",
    "# end for"
   ]
  },
  {
   "cell_type": "markdown",
   "metadata": {},
   "source": [
    "## Requirement 17"
   ]
  },
  {
   "cell_type": "code",
   "execution_count": 14,
   "metadata": {},
   "outputs": [
    {
     "name": "stdout",
     "output_type": "stream",
     "text": [
      "Values that are NULL\n"
     ]
    },
    {
     "data": {
      "text/plain": [
       "0     True\n",
       "1     True\n",
       "2    False\n",
       "3    False\n",
       "4    False\n",
       "dtype: bool"
      ]
     },
     "execution_count": 14,
     "metadata": {},
     "output_type": "execute_result"
    }
   ],
   "source": [
    "# Create a Pandas series containing null data. Use .isnull() to identify the\n",
    "# entries that are null.\n",
    "\n",
    "null_data = pd.Series([np.nan, None, 12, 23, 34])\n",
    "\n",
    "print('Values that are NULL')\n",
    "null_data.isnull()"
   ]
  },
  {
   "cell_type": "markdown",
   "metadata": {},
   "source": [
    "## Requirement 18"
   ]
  },
  {
   "cell_type": "code",
   "execution_count": 15,
   "metadata": {},
   "outputs": [
    {
     "name": "stdout",
     "output_type": "stream",
     "text": [
      "Original:\n",
      "     0   1    2\n",
      "0  NaN   0  NaN\n",
      "1  3.0  10  5.0\n",
      "2  NaN   4  NaN\n",
      "\n",
      "Drop all rows containing a null value:\n",
      "     0   1    2\n",
      "1  3.0  10  5.0\n",
      "\n",
      "Drop all columns containing a null value:\n",
      "    1\n",
      "0   0\n",
      "1  10\n",
      "2   4\n",
      "\n",
      "========== Dataframe Re-init ==========\n",
      "Original:\n",
      "     0     1    2\n",
      "0  NaN   NaN  NaN\n",
      "1  3.0  10.0  5.0\n",
      "2  NaN   4.0  NaN\n",
      "\n",
      "Drop only rows that contain all null values:\n",
      "     0     1    2\n",
      "1  3.0  10.0  5.0\n",
      "2  NaN   4.0  NaN\n",
      "\n",
      "========== Dataframe Re-init ==========\n",
      "Original:\n",
      "     0     1   2\n",
      "0  1.0   NaN NaN\n",
      "1  3.0  10.0 NaN\n",
      "2  NaN   4.0 NaN\n",
      "\n",
      "Drop only columns that contain all null values:\n",
      "     0     1\n",
      "0  1.0   NaN\n",
      "1  3.0  10.0\n",
      "2  NaN   4.0\n",
      "\n",
      "Replacing null with 0:\n",
      "     0     1    2\n",
      "0  1.0   0.0  0.0\n",
      "1  3.0  10.0  0.0\n",
      "2  0.0   4.0  0.0\n",
      "\n",
      "Forward fill:\n",
      "     0     1   2\n",
      "0  1.0   NaN NaN\n",
      "1  3.0  10.0 NaN\n",
      "2  3.0   4.0 NaN\n",
      "\n",
      "Backward fill:\n",
      "     0     1   2\n",
      "0  1.0  10.0 NaN\n",
      "1  3.0  10.0 NaN\n",
      "2  NaN   4.0 NaN\n"
     ]
    }
   ],
   "source": [
    "# Create a Pandas dataframe containing null values. Demonstrate\n",
    "# • drop all rows containing a null value\n",
    "# • drop all columns containing a null value\n",
    "# • drop only rows that contain all null values\n",
    "# • drop only columns that contain all null values\n",
    "# • replacing null with 0\n",
    "# • forward fill\n",
    "# • backward fill\n",
    "\n",
    "null_df = pd.DataFrame([[None,   0,      np.nan],\n",
    "                        [3,      10,     5],\n",
    "                        [np.nan, 4,      None]])\n",
    "\n",
    "print(f'Original:\\n{null_df}')\n",
    "print(f'\\nDrop all rows containing a null value:\\n{null_df.dropna()}')\n",
    "print(f'\\nDrop all columns containing a null value:\\n{null_df.dropna(axis=\"columns\")}')\n",
    "\n",
    "null_df = pd.DataFrame([[None,   np.nan, np.nan],\n",
    "                        [3,      10,     5],\n",
    "                        [np.nan, 4,      None]])\n",
    "print('\\n========== Dataframe Re-init ==========')\n",
    "print(f'Original:\\n{null_df}')                       \n",
    "print(f'\\nDrop only rows that contain all null values:\\n{null_df.dropna(axis=\"rows\", how=\"all\")}')\n",
    "\n",
    "null_df = pd.DataFrame([[1,   np.nan, np.nan],\n",
    "                        [3,      10,     None],\n",
    "                        [np.nan, 4,      None]])\n",
    "print('\\n========== Dataframe Re-init ==========')\n",
    "print(f'Original:\\n{null_df}')   \n",
    "print(f'\\nDrop only columns that contain all null values:\\n{null_df.dropna(axis=\"columns\", how=\"all\")}')\n",
    "\n",
    "print(f'\\nReplacing null with 0:\\n{null_df.fillna(0)}')\n",
    "print(f'\\nForward fill:\\n{null_df.fillna(method=\"ffill\")}')\n",
    "print(f'\\nBackward fill:\\n{null_df.fillna(method=\"bfill\")}')\n"
   ]
  },
  {
   "cell_type": "markdown",
   "metadata": {},
   "source": [
    "## Requirement 19"
   ]
  },
  {
   "cell_type": "code",
   "execution_count": 16,
   "metadata": {},
   "outputs": [
    {
     "name": "stdout",
     "output_type": "stream",
     "text": [
      "========= FROM_TUPLES() ==========\n",
      "Note: For some reason my output would not output the same as the book.\n",
      "MultiIndex([('California', 2000),\n",
      "            ('California', 2010),\n",
      "            (  'New York', 2000),\n",
      "            (  'New York', 2010),\n",
      "            (     'Texas', 2000),\n",
      "            (     'Texas', 2010)],\n",
      "           )\n",
      "\n",
      "========= REINDEX ==========\n",
      "California  2000    33871648\n",
      "            2010    37253956\n",
      "New York    2000    18976457\n",
      "            2010    19378102\n",
      "Texas       2000    20851820\n",
      "            2010    25145561\n",
      "dtype: int64\n",
      "\n",
      "========= UNSTACK ==========\n",
      "                2000      2010\n",
      "California  33871648  37253956\n",
      "New York    18976457  19378102\n",
      "Texas       20851820  25145561\n",
      "\n",
      "========= STACK ==========\n",
      "California  2000    33871648\n",
      "            2010    37253956\n",
      "New York    2000    18976457\n",
      "            2010    19378102\n",
      "Texas       2000    20851820\n",
      "            2010    25145561\n",
      "dtype: int64\n",
      "\n",
      "========= INDEXING ==========\n",
      "California\n",
      "2000    33871648\n",
      "2010    37253956\n",
      "dtype: int64\n",
      "\n",
      "========= SLICING ==========\n",
      "California    37253956\n",
      "New York      19378102\n",
      "Texas         25145561\n",
      "dtype: int64\n"
     ]
    }
   ],
   "source": [
    "# Demonstrate Pandas MultiIndex techniques (can use book examples):\n",
    "# • .from_tuples()\n",
    "# • .reindex()\n",
    "# • .unstack()\n",
    "# • .stack()\n",
    "# • indexing and slicing\n",
    "\n",
    "\n",
    "\n",
    "index = [('California', 2000), ('California', 2010),\n",
    "         ('New York', 2000), ('New York', 2010),\n",
    "         ('Texas', 2000), ('Texas', 2010)]\n",
    "populations = [33871648, 37253956,\n",
    "               18976457, 19378102,\n",
    "               20851820, 25145561]\n",
    "               \n",
    "pop = pd.Series(populations, index=index)\n",
    "index = pd.MultiIndex.from_tuples(index)\n",
    "\n",
    "print('========= FROM_TUPLES() ==========')\n",
    "print('Note: For some reason my output would not output the same as the book.')\n",
    "print(index)\n",
    "\n",
    "print('\\n========= REINDEX ==========')\n",
    "pop = pop.reindex(index)\n",
    "print(pop)\n",
    "\n",
    "print('\\n========= UNSTACK ==========')\n",
    "pop_df = pop.unstack()\n",
    "print(pop_df)\n",
    "\n",
    "print('\\n========= STACK ==========')\n",
    "print(pop_df.stack())\n",
    "\n",
    "print('\\n========= INDEXING ==========')\n",
    "print('California')\n",
    "print(pop['California'])\n",
    "\n",
    "print('\\n========= SLICING ==========')\n",
    "print(pop[:, 2010])"
   ]
  },
  {
   "cell_type": "markdown",
   "metadata": {},
   "source": [
    "## Requirement 20"
   ]
  },
  {
   "cell_type": "code",
   "execution_count": 17,
   "metadata": {},
   "outputs": [
    {
     "data": {
      "text/plain": [
       "1                 Honda Civic\n",
       "2                Mazda Mazda3\n",
       "3      Hyundai Elantra Hybrid\n",
       "4    Royal Enfield Meteor 350\n",
       "5         Triumph Trident 660\n",
       "6           Yamaha Tenere 700\n",
       "dtype: object"
      ]
     },
     "execution_count": 17,
     "metadata": {},
     "output_type": "execute_result"
    }
   ],
   "source": [
    "# Demonstrate concatenating two Pandas series. One series contains\n",
    "# automobile data. The other series contains motorcycle data\n",
    "\n",
    "cars = pd.Series(['Honda Civic', 'Mazda Mazda3', 'Hyundai Elantra Hybrid'], index=[1, 2, 3])\n",
    "bikes = pd.Series(['Royal Enfield Meteor 350', 'Triumph Trident 660', 'Yamaha Tenere 700'], index=[4, 5, 6])\n",
    "pd.concat([cars, bikes])"
   ]
  },
  {
   "cell_type": "markdown",
   "metadata": {},
   "source": [
    "## Requirement 21"
   ]
  },
  {
   "cell_type": "code",
   "execution_count": 18,
   "metadata": {},
   "outputs": [
    {
     "data": {
      "text/html": [
       "<div style=\"float: left; padding: 10px;\">\n",
       "    <p style='font-family:\"Courier New\", Courier, monospace'>df1</p><div>\n",
       "<style scoped>\n",
       "    .dataframe tbody tr th:only-of-type {\n",
       "        vertical-align: middle;\n",
       "    }\n",
       "\n",
       "    .dataframe tbody tr th {\n",
       "        vertical-align: top;\n",
       "    }\n",
       "\n",
       "    .dataframe thead th {\n",
       "        text-align: right;\n",
       "    }\n",
       "</style>\n",
       "<table border=\"1\" class=\"dataframe\">\n",
       "  <thead>\n",
       "    <tr style=\"text-align: right;\">\n",
       "      <th></th>\n",
       "      <th>X</th>\n",
       "      <th>Y</th>\n",
       "    </tr>\n",
       "  </thead>\n",
       "  <tbody>\n",
       "    <tr>\n",
       "      <th>1</th>\n",
       "      <td>X1</td>\n",
       "      <td>Y1</td>\n",
       "    </tr>\n",
       "    <tr>\n",
       "      <th>5</th>\n",
       "      <td>X5</td>\n",
       "      <td>Y5</td>\n",
       "    </tr>\n",
       "  </tbody>\n",
       "</table>\n",
       "</div>\n",
       "    </div>\n",
       "<div style=\"float: left; padding: 10px;\">\n",
       "    <p style='font-family:\"Courier New\", Courier, monospace'>df2</p><div>\n",
       "<style scoped>\n",
       "    .dataframe tbody tr th:only-of-type {\n",
       "        vertical-align: middle;\n",
       "    }\n",
       "\n",
       "    .dataframe tbody tr th {\n",
       "        vertical-align: top;\n",
       "    }\n",
       "\n",
       "    .dataframe thead th {\n",
       "        text-align: right;\n",
       "    }\n",
       "</style>\n",
       "<table border=\"1\" class=\"dataframe\">\n",
       "  <thead>\n",
       "    <tr style=\"text-align: right;\">\n",
       "      <th></th>\n",
       "      <th>X</th>\n",
       "      <th>Y</th>\n",
       "    </tr>\n",
       "  </thead>\n",
       "  <tbody>\n",
       "    <tr>\n",
       "      <th>3</th>\n",
       "      <td>X3</td>\n",
       "      <td>Y3</td>\n",
       "    </tr>\n",
       "    <tr>\n",
       "      <th>8</th>\n",
       "      <td>X8</td>\n",
       "      <td>Y8</td>\n",
       "    </tr>\n",
       "  </tbody>\n",
       "</table>\n",
       "</div>\n",
       "    </div>\n",
       "<div style=\"float: left; padding: 10px;\">\n",
       "    <p style='font-family:\"Courier New\", Courier, monospace'>df1.append(df2)</p><div>\n",
       "<style scoped>\n",
       "    .dataframe tbody tr th:only-of-type {\n",
       "        vertical-align: middle;\n",
       "    }\n",
       "\n",
       "    .dataframe tbody tr th {\n",
       "        vertical-align: top;\n",
       "    }\n",
       "\n",
       "    .dataframe thead th {\n",
       "        text-align: right;\n",
       "    }\n",
       "</style>\n",
       "<table border=\"1\" class=\"dataframe\">\n",
       "  <thead>\n",
       "    <tr style=\"text-align: right;\">\n",
       "      <th></th>\n",
       "      <th>X</th>\n",
       "      <th>Y</th>\n",
       "    </tr>\n",
       "  </thead>\n",
       "  <tbody>\n",
       "    <tr>\n",
       "      <th>1</th>\n",
       "      <td>X1</td>\n",
       "      <td>Y1</td>\n",
       "    </tr>\n",
       "    <tr>\n",
       "      <th>5</th>\n",
       "      <td>X5</td>\n",
       "      <td>Y5</td>\n",
       "    </tr>\n",
       "    <tr>\n",
       "      <th>3</th>\n",
       "      <td>X3</td>\n",
       "      <td>Y3</td>\n",
       "    </tr>\n",
       "    <tr>\n",
       "      <th>8</th>\n",
       "      <td>X8</td>\n",
       "      <td>Y8</td>\n",
       "    </tr>\n",
       "  </tbody>\n",
       "</table>\n",
       "</div>\n",
       "    </div>"
      ],
      "text/plain": [
       "df1\n",
       "    X   Y\n",
       "1  X1  Y1\n",
       "5  X5  Y5\n",
       "\n",
       "df2\n",
       "    X   Y\n",
       "3  X3  Y3\n",
       "8  X8  Y8\n",
       "\n",
       "df1.append(df2)\n",
       "    X   Y\n",
       "1  X1  Y1\n",
       "5  X5  Y5\n",
       "3  X3  Y3\n",
       "8  X8  Y8"
      ]
     },
     "execution_count": 18,
     "metadata": {},
     "output_type": "execute_result"
    }
   ],
   "source": [
    "# Demonstrate concatenating two Pandas dataframe using the .append()\n",
    "# method\n",
    "\n",
    "class display(object):\n",
    "    \"\"\"Display HTML representation of multiple objects\"\"\"\n",
    "    template = \"\"\"<div style=\"float: left; padding: 10px;\">\n",
    "    <p style='font-family:\"Courier New\", Courier, monospace'>{0}</p>{1}\n",
    "    </div>\"\"\"\n",
    "    def __init__(self, *args):\n",
    "        self.args = args\n",
    "        \n",
    "    def _repr_html_(self):\n",
    "        return '\\n'.join(self.template.format(a, eval(a)._repr_html_())\n",
    "                         for a in self.args)\n",
    "    \n",
    "    def __repr__(self):\n",
    "        return '\\n\\n'.join(a + '\\n' + repr(eval(a))\n",
    "                           for a in self.args)\n",
    "# end class display()\n",
    "\n",
    "def make_df(cols, ind):\n",
    "    \"\"\"Quickly make a DataFrame\"\"\"\n",
    "    data = {c: [str(c) + str(i) for i in ind]\n",
    "            for c in cols}\n",
    "    return pd.DataFrame(data, ind)\n",
    "# end make_df()\n",
    "\n",
    "df1 = make_df('XY', [1, 5])\n",
    "df2 = make_df('XY', [3, 8])\n",
    "\n",
    "display('df1', 'df2', 'df1.append(df2)')"
   ]
  },
  {
   "cell_type": "markdown",
   "metadata": {},
   "source": [
    "## Requirement 22"
   ]
  },
  {
   "cell_type": "code",
   "execution_count": 19,
   "metadata": {},
   "outputs": [
    {
     "name": "stdout",
     "output_type": "stream",
     "text": [
      "One-to-one\n"
     ]
    },
    {
     "data": {
      "text/html": [
       "<div>\n",
       "<style scoped>\n",
       "    .dataframe tbody tr th:only-of-type {\n",
       "        vertical-align: middle;\n",
       "    }\n",
       "\n",
       "    .dataframe tbody tr th {\n",
       "        vertical-align: top;\n",
       "    }\n",
       "\n",
       "    .dataframe thead th {\n",
       "        text-align: right;\n",
       "    }\n",
       "</style>\n",
       "<table border=\"1\" class=\"dataframe\">\n",
       "  <thead>\n",
       "    <tr style=\"text-align: right;\">\n",
       "      <th></th>\n",
       "      <th>game</th>\n",
       "      <th>console</th>\n",
       "      <th>release_date</th>\n",
       "    </tr>\n",
       "  </thead>\n",
       "  <tbody>\n",
       "    <tr>\n",
       "      <th>0</th>\n",
       "      <td>Radiant Historia</td>\n",
       "      <td>3DS</td>\n",
       "      <td>2010</td>\n",
       "    </tr>\n",
       "    <tr>\n",
       "      <th>1</th>\n",
       "      <td>Xenogears</td>\n",
       "      <td>PC</td>\n",
       "      <td>1998</td>\n",
       "    </tr>\n",
       "    <tr>\n",
       "      <th>2</th>\n",
       "      <td>Chrono Cross</td>\n",
       "      <td>PC</td>\n",
       "      <td>1999</td>\n",
       "    </tr>\n",
       "    <tr>\n",
       "      <th>3</th>\n",
       "      <td>Persona 5</td>\n",
       "      <td>Playstation 4</td>\n",
       "      <td>2016</td>\n",
       "    </tr>\n",
       "  </tbody>\n",
       "</table>\n",
       "</div>"
      ],
      "text/plain": [
       "               game        console  release_date\n",
       "0  Radiant Historia            3DS          2010\n",
       "1         Xenogears             PC          1998\n",
       "2      Chrono Cross             PC          1999\n",
       "3         Persona 5  Playstation 4          2016"
      ]
     },
     "execution_count": 19,
     "metadata": {},
     "output_type": "execute_result"
    }
   ],
   "source": [
    "# Using Pandas dataframes, demonstrate the following joins:\n",
    "# • one-to-one\n",
    "# • many-to-one\n",
    "# • many-to-many\n",
    "\n",
    "df1 = pd.DataFrame({'game': ['Radiant Historia', 'Xenogears', 'Chrono Cross', 'Persona 5'],\n",
    "                    'console': ['3DS', 'PC', 'PC', 'Playstation 4']})\n",
    "df2 = pd.DataFrame({'game': ['Chrono Cross', 'Radiant Historia', 'Xenogears', 'Persona 5'],\n",
    "                    'release_date': [1999, 2010, 1998, 2016]})\n",
    "\n",
    "df3 = pd.merge(df1, df2)\n",
    "print('One-to-one')\n",
    "df3\n"
   ]
  },
  {
   "cell_type": "code",
   "execution_count": 20,
   "metadata": {},
   "outputs": [
    {
     "name": "stdout",
     "output_type": "stream",
     "text": [
      "Many-to-one\n"
     ]
    },
    {
     "data": {
      "text/html": [
       "<div>\n",
       "<style scoped>\n",
       "    .dataframe tbody tr th:only-of-type {\n",
       "        vertical-align: middle;\n",
       "    }\n",
       "\n",
       "    .dataframe tbody tr th {\n",
       "        vertical-align: top;\n",
       "    }\n",
       "\n",
       "    .dataframe thead th {\n",
       "        text-align: right;\n",
       "    }\n",
       "</style>\n",
       "<table border=\"1\" class=\"dataframe\">\n",
       "  <thead>\n",
       "    <tr style=\"text-align: right;\">\n",
       "      <th></th>\n",
       "      <th>game</th>\n",
       "      <th>console</th>\n",
       "      <th>release_date</th>\n",
       "      <th>manufacturer</th>\n",
       "    </tr>\n",
       "  </thead>\n",
       "  <tbody>\n",
       "    <tr>\n",
       "      <th>0</th>\n",
       "      <td>Radiant Historia</td>\n",
       "      <td>3DS</td>\n",
       "      <td>2010</td>\n",
       "      <td>Nintendo</td>\n",
       "    </tr>\n",
       "    <tr>\n",
       "      <th>1</th>\n",
       "      <td>Xenogears</td>\n",
       "      <td>PC</td>\n",
       "      <td>1998</td>\n",
       "      <td>Windows</td>\n",
       "    </tr>\n",
       "    <tr>\n",
       "      <th>2</th>\n",
       "      <td>Chrono Cross</td>\n",
       "      <td>PC</td>\n",
       "      <td>1999</td>\n",
       "      <td>Windows</td>\n",
       "    </tr>\n",
       "    <tr>\n",
       "      <th>3</th>\n",
       "      <td>Persona 5</td>\n",
       "      <td>Playstation 4</td>\n",
       "      <td>2016</td>\n",
       "      <td>Sony</td>\n",
       "    </tr>\n",
       "  </tbody>\n",
       "</table>\n",
       "</div>"
      ],
      "text/plain": [
       "               game        console  release_date manufacturer\n",
       "0  Radiant Historia            3DS          2010     Nintendo\n",
       "1         Xenogears             PC          1998      Windows\n",
       "2      Chrono Cross             PC          1999      Windows\n",
       "3         Persona 5  Playstation 4          2016         Sony"
      ]
     },
     "execution_count": 20,
     "metadata": {},
     "output_type": "execute_result"
    }
   ],
   "source": [
    "df4 = pd.DataFrame({'console': ['3DS', 'PC', 'Playstation 4'],\n",
    "                    'manufacturer': ['Nintendo', 'Windows', 'Sony']})\n",
    "print('Many-to-one')\n",
    "pd.merge(df3, df4)"
   ]
  },
  {
   "cell_type": "code",
   "execution_count": 22,
   "metadata": {},
   "outputs": [
    {
     "name": "stdout",
     "output_type": "stream",
     "text": [
      "Many-to-many\n"
     ]
    },
    {
     "data": {
      "text/html": [
       "<div>\n",
       "<style scoped>\n",
       "    .dataframe tbody tr th:only-of-type {\n",
       "        vertical-align: middle;\n",
       "    }\n",
       "\n",
       "    .dataframe tbody tr th {\n",
       "        vertical-align: top;\n",
       "    }\n",
       "\n",
       "    .dataframe thead th {\n",
       "        text-align: right;\n",
       "    }\n",
       "</style>\n",
       "<table border=\"1\" class=\"dataframe\">\n",
       "  <thead>\n",
       "    <tr style=\"text-align: right;\">\n",
       "      <th></th>\n",
       "      <th>game</th>\n",
       "      <th>console</th>\n",
       "      <th>models</th>\n",
       "    </tr>\n",
       "  </thead>\n",
       "  <tbody>\n",
       "    <tr>\n",
       "      <th>0</th>\n",
       "      <td>Radiant Historia</td>\n",
       "      <td>3DS</td>\n",
       "      <td>Lite</td>\n",
       "    </tr>\n",
       "    <tr>\n",
       "      <th>1</th>\n",
       "      <td>Radiant Historia</td>\n",
       "      <td>3DS</td>\n",
       "      <td>XL</td>\n",
       "    </tr>\n",
       "    <tr>\n",
       "      <th>2</th>\n",
       "      <td>Xenogears</td>\n",
       "      <td>PC</td>\n",
       "      <td>Stock</td>\n",
       "    </tr>\n",
       "    <tr>\n",
       "      <th>3</th>\n",
       "      <td>Xenogears</td>\n",
       "      <td>PC</td>\n",
       "      <td>Custom</td>\n",
       "    </tr>\n",
       "    <tr>\n",
       "      <th>4</th>\n",
       "      <td>Chrono Cross</td>\n",
       "      <td>PC</td>\n",
       "      <td>Stock</td>\n",
       "    </tr>\n",
       "    <tr>\n",
       "      <th>5</th>\n",
       "      <td>Chrono Cross</td>\n",
       "      <td>PC</td>\n",
       "      <td>Custom</td>\n",
       "    </tr>\n",
       "    <tr>\n",
       "      <th>6</th>\n",
       "      <td>Persona 5</td>\n",
       "      <td>Playstation 4</td>\n",
       "      <td>Slim</td>\n",
       "    </tr>\n",
       "    <tr>\n",
       "      <th>7</th>\n",
       "      <td>Persona 5</td>\n",
       "      <td>Playstation 4</td>\n",
       "      <td>Pro</td>\n",
       "    </tr>\n",
       "  </tbody>\n",
       "</table>\n",
       "</div>"
      ],
      "text/plain": [
       "               game        console  models\n",
       "0  Radiant Historia            3DS    Lite\n",
       "1  Radiant Historia            3DS      XL\n",
       "2         Xenogears             PC   Stock\n",
       "3         Xenogears             PC  Custom\n",
       "4      Chrono Cross             PC   Stock\n",
       "5      Chrono Cross             PC  Custom\n",
       "6         Persona 5  Playstation 4    Slim\n",
       "7         Persona 5  Playstation 4     Pro"
      ]
     },
     "execution_count": 22,
     "metadata": {},
     "output_type": "execute_result"
    }
   ],
   "source": [
    "print('Many-to-many')\n",
    "df5 = pd.DataFrame({'console': ['3DS', '3DS',\n",
    "                              'PC', 'PC', 'Playstation 4', 'Playstation 4'],\n",
    "                    'models': ['Lite', 'XL', 'Stock', 'Custom',\n",
    "                               'Slim', 'Pro']})\n",
    "pd.merge(df1, df5)"
   ]
  },
  {
   "cell_type": "markdown",
   "metadata": {},
   "source": [
    "## Requirement 23"
   ]
  },
  {
   "cell_type": "code",
   "execution_count": 25,
   "metadata": {},
   "outputs": [
    {
     "data": {
      "text/html": [
       "<div style=\"float: left; padding: 10px;\">\n",
       "    <p style='font-family:\"Courier New\", Courier, monospace'>pd.merge(df1, df2, on='game')</p><div>\n",
       "<style scoped>\n",
       "    .dataframe tbody tr th:only-of-type {\n",
       "        vertical-align: middle;\n",
       "    }\n",
       "\n",
       "    .dataframe tbody tr th {\n",
       "        vertical-align: top;\n",
       "    }\n",
       "\n",
       "    .dataframe thead th {\n",
       "        text-align: right;\n",
       "    }\n",
       "</style>\n",
       "<table border=\"1\" class=\"dataframe\">\n",
       "  <thead>\n",
       "    <tr style=\"text-align: right;\">\n",
       "      <th></th>\n",
       "      <th>game</th>\n",
       "      <th>console</th>\n",
       "      <th>release_date</th>\n",
       "    </tr>\n",
       "  </thead>\n",
       "  <tbody>\n",
       "    <tr>\n",
       "      <th>0</th>\n",
       "      <td>Radiant Historia</td>\n",
       "      <td>3DS</td>\n",
       "      <td>2010</td>\n",
       "    </tr>\n",
       "    <tr>\n",
       "      <th>1</th>\n",
       "      <td>Xenogears</td>\n",
       "      <td>PC</td>\n",
       "      <td>1998</td>\n",
       "    </tr>\n",
       "    <tr>\n",
       "      <th>2</th>\n",
       "      <td>Chrono Cross</td>\n",
       "      <td>PC</td>\n",
       "      <td>1999</td>\n",
       "    </tr>\n",
       "    <tr>\n",
       "      <th>3</th>\n",
       "      <td>Persona 5</td>\n",
       "      <td>Playstation 4</td>\n",
       "      <td>2016</td>\n",
       "    </tr>\n",
       "  </tbody>\n",
       "</table>\n",
       "</div>\n",
       "    </div>"
      ],
      "text/plain": [
       "pd.merge(df1, df2, on='game')\n",
       "               game        console  release_date\n",
       "0  Radiant Historia            3DS          2010\n",
       "1         Xenogears             PC          1998\n",
       "2      Chrono Cross             PC          1999\n",
       "3         Persona 5  Playstation 4          2016"
      ]
     },
     "execution_count": 25,
     "metadata": {},
     "output_type": "execute_result"
    }
   ],
   "source": [
    "# Using Pandas dataframes, demonstrate merge with the following\n",
    "# keywords:\n",
    "# • on\n",
    "# • left_on and right_on\n",
    "# • left_index and right_index\n",
    "\n",
    "display(\"pd.merge(df1, df2, on='game')\")"
   ]
  },
  {
   "cell_type": "code",
   "execution_count": 26,
   "metadata": {},
   "outputs": [
    {
     "data": {
      "text/html": [
       "<div style=\"float: left; padding: 10px;\">\n",
       "    <p style='font-family:\"Courier New\", Courier, monospace'>pd.merge(df1, df3, left_on=\"game\", right_on=\"video_game\")</p><div>\n",
       "<style scoped>\n",
       "    .dataframe tbody tr th:only-of-type {\n",
       "        vertical-align: middle;\n",
       "    }\n",
       "\n",
       "    .dataframe tbody tr th {\n",
       "        vertical-align: top;\n",
       "    }\n",
       "\n",
       "    .dataframe thead th {\n",
       "        text-align: right;\n",
       "    }\n",
       "</style>\n",
       "<table border=\"1\" class=\"dataframe\">\n",
       "  <thead>\n",
       "    <tr style=\"text-align: right;\">\n",
       "      <th></th>\n",
       "      <th>game</th>\n",
       "      <th>console</th>\n",
       "      <th>video_game</th>\n",
       "      <th>sales</th>\n",
       "    </tr>\n",
       "  </thead>\n",
       "  <tbody>\n",
       "    <tr>\n",
       "      <th>0</th>\n",
       "      <td>Radiant Historia</td>\n",
       "      <td>3DS</td>\n",
       "      <td>Radiant Historia</td>\n",
       "      <td>32800</td>\n",
       "    </tr>\n",
       "    <tr>\n",
       "      <th>1</th>\n",
       "      <td>Xenogears</td>\n",
       "      <td>PC</td>\n",
       "      <td>Xenogears</td>\n",
       "      <td>890000</td>\n",
       "    </tr>\n",
       "    <tr>\n",
       "      <th>2</th>\n",
       "      <td>Chrono Cross</td>\n",
       "      <td>PC</td>\n",
       "      <td>Chrono Cross</td>\n",
       "      <td>1500000</td>\n",
       "    </tr>\n",
       "    <tr>\n",
       "      <th>3</th>\n",
       "      <td>Persona 5</td>\n",
       "      <td>Playstation 4</td>\n",
       "      <td>Persona 5</td>\n",
       "      <td>1800000</td>\n",
       "    </tr>\n",
       "  </tbody>\n",
       "</table>\n",
       "</div>\n",
       "    </div>"
      ],
      "text/plain": [
       "pd.merge(df1, df3, left_on=\"game\", right_on=\"video_game\")\n",
       "               game        console        video_game    sales\n",
       "0  Radiant Historia            3DS  Radiant Historia    32800\n",
       "1         Xenogears             PC         Xenogears   890000\n",
       "2      Chrono Cross             PC      Chrono Cross  1500000\n",
       "3         Persona 5  Playstation 4         Persona 5  1800000"
      ]
     },
     "execution_count": 26,
     "metadata": {},
     "output_type": "execute_result"
    }
   ],
   "source": [
    "df3 = pd.DataFrame({'video_game': ['Radiant Historia', 'Xenogears', 'Chrono Cross', 'Persona 5'],\n",
    "                    'sales': [32800, 890000, 1500000, 1800000]})\n",
    "\n",
    "display('pd.merge(df1, df3, left_on=\"game\", right_on=\"video_game\")')"
   ]
  },
  {
   "cell_type": "code",
   "execution_count": 29,
   "metadata": {},
   "outputs": [
    {
     "data": {
      "text/html": [
       "<div style=\"float: left; padding: 10px;\">\n",
       "    <p style='font-family:\"Courier New\", Courier, monospace'>pd.merge(df1a, df2a, left_index=True, right_index=True)</p><div>\n",
       "<style scoped>\n",
       "    .dataframe tbody tr th:only-of-type {\n",
       "        vertical-align: middle;\n",
       "    }\n",
       "\n",
       "    .dataframe tbody tr th {\n",
       "        vertical-align: top;\n",
       "    }\n",
       "\n",
       "    .dataframe thead th {\n",
       "        text-align: right;\n",
       "    }\n",
       "</style>\n",
       "<table border=\"1\" class=\"dataframe\">\n",
       "  <thead>\n",
       "    <tr style=\"text-align: right;\">\n",
       "      <th></th>\n",
       "      <th>console</th>\n",
       "      <th>release_date</th>\n",
       "    </tr>\n",
       "    <tr>\n",
       "      <th>game</th>\n",
       "      <th></th>\n",
       "      <th></th>\n",
       "    </tr>\n",
       "  </thead>\n",
       "  <tbody>\n",
       "    <tr>\n",
       "      <th>Radiant Historia</th>\n",
       "      <td>3DS</td>\n",
       "      <td>2010</td>\n",
       "    </tr>\n",
       "    <tr>\n",
       "      <th>Xenogears</th>\n",
       "      <td>PC</td>\n",
       "      <td>1998</td>\n",
       "    </tr>\n",
       "    <tr>\n",
       "      <th>Chrono Cross</th>\n",
       "      <td>PC</td>\n",
       "      <td>1999</td>\n",
       "    </tr>\n",
       "    <tr>\n",
       "      <th>Persona 5</th>\n",
       "      <td>Playstation 4</td>\n",
       "      <td>2016</td>\n",
       "    </tr>\n",
       "  </tbody>\n",
       "</table>\n",
       "</div>\n",
       "    </div>"
      ],
      "text/plain": [
       "pd.merge(df1a, df2a, left_index=True, right_index=True)\n",
       "                        console  release_date\n",
       "game                                         \n",
       "Radiant Historia            3DS          2010\n",
       "Xenogears                    PC          1998\n",
       "Chrono Cross                 PC          1999\n",
       "Persona 5         Playstation 4          2016"
      ]
     },
     "execution_count": 29,
     "metadata": {},
     "output_type": "execute_result"
    }
   ],
   "source": [
    "df1a = df1.set_index('game')\n",
    "df2a = df2.set_index('game')\n",
    "display(\"pd.merge(df1a, df2a, left_index=True, right_index=True)\")"
   ]
  },
  {
   "cell_type": "markdown",
   "metadata": {},
   "source": [
    "## Requirement 24\n",
    "\n",
    "I had an absolute blast and learned a lot with this assignment. I had a slight display issue in one of the requirements, but I'm not sure if its because of my environment setup. The proceeding requirement had the desired output so the requirement with a display issue did at least function correctly. I really enjoyed that I was able to come up with my own series and dataframes to see if I could recreate them in a different way, but still be able to accomplish the desired functionality. All in all, my favorite assignment, hands down."
   ]
  }
 ],
 "metadata": {
  "interpreter": {
   "hash": "9066c0a3eb76f092da25a941f0bb3289f7f87123e4b697e83143deb8c842e396"
  },
  "kernelspec": {
   "display_name": "Python 3.9.5 64-bit ('base': conda)",
   "language": "python",
   "name": "python3"
  },
  "language_info": {
   "codemirror_mode": {
    "name": "ipython",
    "version": 3
   },
   "file_extension": ".py",
   "mimetype": "text/x-python",
   "name": "python",
   "nbconvert_exporter": "python",
   "pygments_lexer": "ipython3",
   "version": "3.9.5"
  },
  "orig_nbformat": 4
 },
 "nbformat": 4,
 "nbformat_minor": 2
}
