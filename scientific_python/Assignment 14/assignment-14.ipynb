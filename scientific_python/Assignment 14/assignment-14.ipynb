{
 "cells": [
  {
   "cell_type": "markdown",
   "metadata": {},
   "source": [
    "# This is Assignment 14 - Michael Navarro"
   ]
  }
 ],
 "metadata": {
  "interpreter": {
   "hash": "9066c0a3eb76f092da25a941f0bb3289f7f87123e4b697e83143deb8c842e396"
  },
  "kernelspec": {
   "display_name": "Python 3.9.5 64-bit ('base': conda)",
   "language": "python",
   "name": "python3"
  },
  "language_info": {
   "name": "python",
   "version": "3.9.5"
  },
  "orig_nbformat": 4
 },
 "nbformat": 4,
 "nbformat_minor": 2
}
