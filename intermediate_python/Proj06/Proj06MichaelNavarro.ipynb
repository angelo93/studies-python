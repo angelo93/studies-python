{
 "cells": [
  {
   "cell_type": "markdown",
   "metadata": {},
   "source": [
    "# Certification\n",
    "\n",
    "I certify that this project is my own work and is not the work of others. I agree not to share my solution with others. - Michael Navarro."
   ]
  },
  {
   "cell_type": "markdown",
   "metadata": {},
   "source": [
    "# Solving a system of equations\n",
    "\n",
    "The objective of this notebook is to demonstrate how to solve a system of equations using SciPy such as the one below:\n",
    "\n",
    "$\n",
    "\\begin{aligned}\n",
    " 16v +17w +12x  +66y +45z &= 156 \\\\\n",
    " 29v -18w -15x  +73y +70z &= 139 \\\\\n",
    "-14v +46w -27x  +58y +91z &= 154 \\\\\n",
    " 33v +37w +24x -123y +54z &=  25 \\\\\n",
    " 20v -27w +18x  +19y -56z &= -26\n",
    "\\end{aligned}\n",
    "$"
   ]
  },
  {
   "cell_type": "markdown",
   "metadata": {},
   "source": [
    "## Imports"
   ]
  },
  {
   "cell_type": "markdown",
   "metadata": {},
   "source": [
    "First we must import the libraries we will use. The ones needed are SciPy and Numpy"
   ]
  },
  {
   "cell_type": "code",
   "execution_count": 8,
   "metadata": {},
   "outputs": [],
   "source": [
    "# Imports\n",
    "import numpy as np\n",
    "from scipy import linalg"
   ]
  },
  {
   "cell_type": "markdown",
   "metadata": {},
   "source": [
    "## Introduction"
   ]
  },
  {
   "cell_type": "markdown",
   "metadata": {},
   "source": [
    "In order to use SciPy to solve the system of equations we have to convert the equations ito Numpy matrices. This is done by taking the coefficients of the left hand side and storing them into one multidimensional array and storing the respective solutions to the equations into another multidimensional array."
   ]
  },
  {
   "cell_type": "markdown",
   "metadata": {},
   "source": [
    "Below is an example of how the matrix is created when solving by hand. Each row will be a separate array in the Numpy array.\n",
    "\n",
    "$\n",
    "\\begin{equation*}\n",
    "\\begin{vmatrix}\n",
    "\\mathbf{v} \\\\\n",
    "\\mathbf{w} \\\\\n",
    "\\mathbf{x} \\\\\n",
    "\\mathbf{y} \\\\\n",
    "\\mathbf{z}\n",
    "\\end{vmatrix} =\n",
    "\\begin{vmatrix}\n",
    "\\mathbf{16}  & \\mathbf{17}  & \\mathbf{12}  & \\mathbf{66}   & \\mathbf{45} \\\\\n",
    "\\mathbf{29}  & \\mathbf{-18} & \\mathbf{-15} & \\mathbf{73}   & \\mathbf{70} \\\\\n",
    "\\mathbf{-14} & \\mathbf{46}  & \\mathbf{-27} & \\mathbf{58}   & \\mathbf{91} \\\\\n",
    "\\mathbf{33}  & \\mathbf{37}  & \\mathbf{24}  & \\mathbf{-123} & \\mathbf{54} \\\\\n",
    "\\mathbf{20}  & \\mathbf{-27} & \\mathbf{18}  & \\mathbf{19}   & \\mathbf{-56} \\\\\n",
    "\\end{vmatrix}\n",
    "\\begin{vmatrix}\n",
    "\\mathbf{156} \\\\\n",
    "\\mathbf{139} \\\\\n",
    "\\mathbf{154} \\\\\n",
    "\\mathbf{25} \\\\\n",
    "\\mathbf{-26}\n",
    "\\end{vmatrix}\n",
    "\\end{equation*}\n",
    "$"
   ]
  },
  {
   "cell_type": "markdown",
   "metadata": {},
   "source": [
    "## Step 01: Create Numpy Arrays"
   ]
  },
  {
   "cell_type": "markdown",
   "metadata": {},
   "source": [
    "The first step is to take the coefficients for each row and insert them into a Numpy array as their own array."
   ]
  },
  {
   "cell_type": "code",
   "execution_count": 9,
   "metadata": {},
   "outputs": [
    {
     "name": "stdout",
     "output_type": "stream",
     "text": [
      "Array of arrays representing the left hand side of the equations.\n",
      "[[  16   17   12   66   45]\n",
      " [  29  -18  -15   73   70]\n",
      " [ -14   46  -27   58   91]\n",
      " [  33   37   24 -123   54]\n",
      " [  20  -27   18   19  -56]]\n"
     ]
    }
   ],
   "source": [
    "A = np.array([\n",
    "    [16, 17, 12, 66, 45],\n",
    "    [29,-18,-15, 73, 70],\n",
    "    [-14,46,-27, 58, 91],\n",
    "    [33, 37, 24,-123,54],\n",
    "    [20,-27, 18, 19,-56]\n",
    "])\n",
    "\n",
    "print('Array of arrays representing the left hand side of the equations.')\n",
    "print(A)"
   ]
  },
  {
   "cell_type": "markdown",
   "metadata": {},
   "source": [
    "Now we will do the same for the solutions to the equations. It is important that they follow the same ordering and each value is stored in its own arrary as well."
   ]
  },
  {
   "cell_type": "code",
   "execution_count": 10,
   "metadata": {},
   "outputs": [
    {
     "name": "stdout",
     "output_type": "stream",
     "text": [
      "Array of arrays representing the solution for each equation.\n",
      "[[156]\n",
      " [139]\n",
      " [154]\n",
      " [ 25]\n",
      " [-26]]\n"
     ]
    }
   ],
   "source": [
    "b = np.array([\n",
    "    [156],\n",
    "    [139],\n",
    "    [154],\n",
    "    [25],\n",
    "    [-26]\n",
    "])\n",
    "\n",
    "print('Array of arrays representing the solution for each equation.')\n",
    "print(b)"
   ]
  },
  {
   "cell_type": "markdown",
   "metadata": {},
   "source": [
    "## Step 02: Solve Using SciPy"
   ]
  },
  {
   "cell_type": "markdown",
   "metadata": {},
   "source": [
    "In order to solve using SciPy we will be using the linalg() method imported. We will supply the array we created for the coefficients of the equations (A) as the first parameter and the array of solutions (b) as the second parameter.\n",
    "\n",
    "The result will be stored in a new variable called vwxyz after the variables we are solving for. Really, you can call it whatever you would like."
   ]
  },
  {
   "cell_type": "code",
   "execution_count": 11,
   "metadata": {},
   "outputs": [
    {
     "name": "stdout",
     "output_type": "stream",
     "text": [
      "The solution for the system of equations is:\n",
      "[[1.]\n",
      " [1.]\n",
      " [1.]\n",
      " [1.]\n",
      " [1.]]\n"
     ]
    }
   ],
   "source": [
    "vwxyz = np.linalg.solve(A, b)\n",
    "\n",
    "print('The solution for the system of equations is:')\n",
    "print(vwxyz)"
   ]
  },
  {
   "cell_type": "markdown",
   "metadata": {},
   "source": [
    "## Step 03: Check Answer"
   ]
  },
  {
   "cell_type": "markdown",
   "metadata": {},
   "source": [
    "The final step is to double check our answer. Luckily, there is an easy way to do this by using the dot() method. For this method the only parameter we need to pass in is the variable we saved the result of the linalg() method we called earlier. The dot() method computes the dot product using the linalg() result and the original array 'A'. We can then compare the result of the dot() method wth array 'b' to see if they are the same."
   ]
  },
  {
   "cell_type": "code",
   "execution_count": 12,
   "metadata": {},
   "outputs": [
    {
     "name": "stdout",
     "output_type": "stream",
     "text": [
      "156  =  156\n",
      "139  =  139\n",
      "154  =  154\n",
      "25   =  25\n",
      "-26  =  -26\n"
     ]
    }
   ],
   "source": [
    "idx = 0\n",
    "\n",
    "# Iterate throught the array from the result of dot() method.\n",
    "# Compare each entry with those of array 'b'.\n",
    "for arr in A.dot(vwxyz):\n",
    "    print(f'{arr[0]: <4.0f} =  {b[idx][0]}')\n",
    "    idx += 1 \n",
    "# end for"
   ]
  },
  {
   "cell_type": "markdown",
   "metadata": {},
   "source": [
    "Using the dot() method we can see that the solution returned from the linalg() method is indeed correct since it matches the array 'b' which stored the solutions to the orignal equations. Therefore, our solution is:\n",
    "\n",
    "$\n",
    "\\begin{aligned}\n",
    "v &= 1 \\\\\n",
    "w &= 1 \\\\\n",
    "x &= 1 \\\\\n",
    "y &= 1 \\\\\n",
    "z &= 1 \n",
    "\\end{aligned}\n",
    "$"
   ]
  }
 ],
 "metadata": {
  "interpreter": {
   "hash": "c451ed2f77d441a31caa2f86daceb226a6012afcb6002e09022b66dc5235f0e7"
  },
  "kernelspec": {
   "display_name": "Python 3 (ipykernel)",
   "language": "python",
   "name": "python3"
  },
  "language_info": {
   "codemirror_mode": {
    "name": "ipython",
    "version": 3
   },
   "file_extension": ".py",
   "mimetype": "text/x-python",
   "name": "python",
   "nbconvert_exporter": "python",
   "pygments_lexer": "ipython3",
   "version": "3.9.7"
  }
 },
 "nbformat": 4,
 "nbformat_minor": 2
}
