{
 "cells": [
  {
   "cell_type": "markdown",
   "metadata": {},
   "source": [
    "# Certification"
   ]
  },
  {
   "cell_type": "markdown",
   "metadata": {},
   "source": [
    "I certify that this project is my own work and is not the work of others. I agree not to share my solution with others. - Michael Navarro."
   ]
  },
  {
   "cell_type": "markdown",
   "metadata": {},
   "source": [
    "# Solving a system of equations"
   ]
  },
  {
   "cell_type": "markdown",
   "metadata": {},
   "source": [
    "The objective of this notebook is to demonstrate how to solve a system of equations using eliminiation and substitution such as the one shown below:\n",
    "\n",
    "$\n",
    "\\begin{aligned}\n",
    "3x + 4y  + 3z  &= 10  \\\\\n",
    "9x - 10y - 10z &= -11 \\\\\n",
    "4x + 15y + 18z &= 37\n",
    "\\end{aligned}\n",
    "$"
   ]
  },
  {
   "cell_type": "markdown",
   "metadata": {},
   "source": [
    "## Step 01\n",
    "\n",
    "At a quick glance, it is apparent that multiplying the first equation by a factor of 3 and subtracting it from the second equation.\n",
    "\n",
    "#### Multiply\n",
    "\n",
    "$$\n",
    "\\begin{aligned}\n",
    "3x + 4y  + 3z  &= 10  &=>  \\hspace{1.5em} 9x + 12y + 9z  &= 30   \\\\\n",
    "9x - 10y - 10z &= -11 &=>  \\hspace{1em} 9x - 10y - 10z &= -11  \\\\\n",
    "\\end{aligned}\n",
    "$$\n",
    "\n",
    "#### Subtract\n",
    "\n",
    "$$\n",
    "\\begin{aligned}\n",
    "9x + 12y + 9z  &= 30   \\\\\n",
    "9x - 10y - 10z &= -11  &=> \\hspace{1em} -22y - 19z &= -41\n",
    "\\end{aligned}\n",
    "$$\n",
    "\n",
    "#### Substitute\n",
    "Now we must substitute the resulting equation and the first equation multiplied by 3 back into our system\n",
    "\n",
    "$$\n",
    "\\begin{aligned}\n",
    "9x + 12y + 9z  &= 30  \\\\\n",
    "   - 22y - 19z &= -41 \\\\\n",
    "4x + 15y + 18z &= 37\n",
    "\\end{aligned}\n",
    "$$\n"
   ]
  },
  {
   "cell_type": "markdown",
   "metadata": {},
   "source": [
    "## Step 02\n",
    "\n",
    "Now will eliminate the 'x' variable from the third equation by multiplying the first equation doing similar steps. This time we will multiply the first equation by a factor of 4 and the third equation by a factor of 9 and then subtract the first equation from the third equation.\n",
    "\n",
    "#### Multiply\n",
    "\n",
    "$$\n",
    "\\begin{aligned}\n",
    "36x + 48y  + 36z  &= 120 \\\\ \n",
    "36x + 135y + 162z &= 333\n",
    "\\end{aligned}\n",
    "$$\n",
    "\n",
    "#### Subtract\n",
    "\n",
    "$$\n",
    "\\begin{aligned}\n",
    "36x + 48y  + 36z  &= 120 \\\\ \n",
    "36x + 135y + 162z &= 333 &=> \\hspace{1em} 87y + 126z &= 213 \n",
    "\\end{aligned}\n",
    "$$\n",
    "\n",
    "#### Substitute\n",
    "\n",
    "$$\n",
    "\\begin{aligned}\n",
    "36x + 48y + 36z  &= 120 \\\\ \n",
    "    - 22y - 19z  &= -41 \\\\\n",
    "      87y + 126z &= 213\n",
    "\\end{aligned}\n",
    "$$"
   ]
  },
  {
   "cell_type": "markdown",
   "metadata": {},
   "source": [
    "## Step 03\n",
    "\n",
    "Now we can eliminate 'y' from equations 2 and 3 using the same approach as the previous steps. We will multiply the second equation by 87 and the third equation by 22.\n",
    "\n",
    "#### Multiply \n",
    "\n",
    "$$\n",
    "\\begin{aligned}\n",
    "-1914y - 1653z &= -3567 \\\\ \n",
    "1914y  + 2772z &= 4686\n",
    "\\end{aligned}\n",
    "$$\n",
    "\n",
    "#### Subtract\n",
    "\n",
    "$$\n",
    "\\begin{aligned}\n",
    "-1914y - 1653z &= -3567 \\\\ \n",
    "1914y  + 2772z &= 4686  &=> \\hspace{1em} 1119z &= 1119\n",
    "\\end{aligned}\n",
    "$$\n",
    "\n",
    "#### Substitute\n",
    "$$\n",
    "\\begin{aligned}\n",
    "36x + 48y  + 36z   &= 120 \\\\ \n",
    "    -1914y - 1653z &= -3567 \\\\\n",
    "             1119z &= 1119\n",
    "\\end{aligned}\n",
    "$$\n",
    "\n"
   ]
  },
  {
   "cell_type": "markdown",
   "metadata": {},
   "source": [
    "## Step 04\n",
    "\n",
    "At this point we can now solve for 'z' and then work our way back up substituting the variables as we solve them.\n",
    "\n",
    "#### Solve for 'z'\n",
    "\n",
    "$$\n",
    "\\begin{aligned}\n",
    "1119z &= 1119 &=> \\hspace{1em} z &= 1\n",
    "\\end{aligned}\n",
    "$$\n",
    "\n",
    "#### Solve for 'y'\n",
    "\n",
    "$$\n",
    "\\begin{aligned}\n",
    "-1914y - 1653(1) &= -3567 &=> \\hspace{1em} -1914y - 1653(1) &= -3567 \\\\\n",
    "-1914y - 1653 &= -3567 &=> \\hspace{5em} -1914y &= -1914 \\\\\n",
    "-1(-1914y) &= -1(-1914) &=> \\hspace{5.5em} 1914y &= 1914 \\\\\n",
    "1914y &= 1914 &=> \\hspace{5.5em} y = 1\n",
    "\\end{aligned}\n",
    "$$\n",
    "\n",
    "\n",
    "#### Solve for 'x'\n",
    "\n",
    "$$\n",
    "\\begin{aligned}\n",
    "36x + 48(1) + 36(1) &= 120 &=> \\hspace{1em} 36x + 48y + 36z &= 120 \\\\ \n",
    "36x + 48 + 36 &= 120 &=> \\hspace{5.5em} 36x &= 36 \\\\\n",
    "36x &= 36 &=> \\hspace{6.5em} x &= 1\n",
    "\\end{aligned}\n",
    "$$"
   ]
  },
  {
   "cell_type": "markdown",
   "metadata": {},
   "source": [
    "## Step 05\n",
    "\n",
    "Now that we have solved for all the vairables, we need to double check our answers. We can simply substitute the variables with their value.\n",
    "\n",
    "#### Substitute\n",
    "\n",
    "$$\n",
    "\\begin{aligned}\n",
    "3(1) + 4(1)  + 3(1)  &= 10  \\\\\n",
    "9(1) - 10(1) - 10(1) &= -11 \\\\\n",
    "4(1) + 15(1) + 18(1) &= 37\n",
    "\\end{aligned}\n",
    "$$\n",
    "\n",
    "#### Solve\n",
    "\n",
    "$$\n",
    "\\begin{aligned}\n",
    "3 + 4  + 3  &= 10   &=> \\hspace{3.5em} 10  &= 10  \\\\\n",
    "9 - 10 - 10 &= -11  &=> \\hspace{3em} -11 &= -11 \\\\\n",
    "4 + 15 + 18 &= 37   &=> \\hspace{3.5em} 37  &= 37\n",
    "\\end{aligned}\n",
    "$$"
   ]
  },
  {
   "cell_type": "markdown",
   "metadata": {},
   "source": [
    "## Solution\n",
    "\n",
    "Now the we have double checked that the value for each variable do in fact work as a solution for the system of equations, we can state the answer to the system of equations is:\n",
    "\n",
    "x = 1  \n",
    "\n",
    "y = 1  \n",
    "\n",
    "z = 1  "
   ]
  }
 ],
 "metadata": {
  "interpreter": {
   "hash": "c451ed2f77d441a31caa2f86daceb226a6012afcb6002e09022b66dc5235f0e7"
  },
  "kernelspec": {
   "display_name": "Python 3 (ipykernel)",
   "language": "python",
   "name": "python3"
  },
  "language_info": {
   "codemirror_mode": {
    "name": "ipython",
    "version": 3
   },
   "file_extension": ".py",
   "mimetype": "text/x-python",
   "name": "python",
   "nbconvert_exporter": "python",
   "pygments_lexer": "ipython3",
   "version": "3.9.7"
  }
 },
 "nbformat": 4,
 "nbformat_minor": 2
}
