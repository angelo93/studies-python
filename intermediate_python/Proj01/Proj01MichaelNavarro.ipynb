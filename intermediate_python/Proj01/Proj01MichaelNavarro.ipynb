{
 "cells": [
  {
   "cell_type": "markdown",
   "metadata": {},
   "source": [
    "Your program must successfully jump to the header associated with each of the following hyperlinks. Note in particular the requirement to successfully handle the hyperlink to a duplicated header."
   ]
  },
  {
   "cell_type": "markdown",
   "metadata": {},
   "source": [
    "* [Certification](#certification)\n",
    "* [This is a header](#this_is_a_header)\n",
    " * [This is a header](#header_ex1)\n",
    " * [This is another header](#header_ex2)\n",
    "* [Link to an external website](#external_link)\n",
    "* [Link to an internal anchor](#internal_link)\n",
    "* [Escape characters and inline monospace](#escape_chars)"
   ]
  },
  {
   "cell_type": "markdown",
   "metadata": {},
   "source": [
    "# <a id=\"certification\"></a>Certification\n",
    "\n",
    "Your output file must contain the following certification:\n",
    "\n",
    "I certify that this project is my own work and is not the work of others. I agree not to share my solution with others. - Michael Navarro."
   ]
  },
  {
   "cell_type": "markdown",
   "metadata": {},
   "source": [
    "# <a id=\"this_is_a_header\"></a>This is a header\n",
    "\n",
    "A blockquote is created by inserting a right angle bracket, >, and a space at the left end of the text to be included in the blockquote. If you don't understand this, please ask your instructor for assistance.\n",
    "\n",
    "Create a blockquote containing the following text solely for the purpose of inserting space between the headers.\n",
    "\n",
    "> You learned in your study of online Jupyter Notebook tutorials that the notebook has Code cells and Markdown cells. Since you knew how to program in Python before enrolling in this course, entering Python code into Code cells is straightforward. You simply enter the code much as you would when writing Python code into a text editor or an IDE."
   ]
  },
  {
   "cell_type": "markdown",
   "metadata": {},
   "source": [
    "<!-- I tried to get a color as close as possible, but between using a color picker and converting to html, the color ended up being different. -->\n",
    "## <a id=\"header_ex1\"></a><span style='color:rgb(0, 134, 179)'>This is a header</span>\n",
    "\n",
    "Create a <a id=\"bq1\"></a>_**blockquote**_ containing the following text solely for the purpose of inserting space between the headers.\n",
    "\n",
    "> You learned in your study of online Jupyter Notebook tutorials that the notebook has Code cells and Markdown cells. Since you knew how to program in Python before enrolling in this course, entering Python code into Code cells is straightforward. You simply enter the code much as you would when writing Python code into a text editor or an IDE."
   ]
  },
  {
   "cell_type": "markdown",
   "metadata": {},
   "source": [
    "## <a id=\"header_ex2\"></a>This is another header\n",
    "\n",
    "Create a blockquote containing the following text solely for the purpose of inserting space between the headers.\n",
    "\n",
    "> You learned in your study of online Jupyter Notebook tutorials that the notebook has Code cells and Markdown cells. Since you knew how to program in Python before enrolling in this course, entering Python code into Code cells is straightforward. You simply enter the code much as you would when writing Python code into a text editor or an IDE.\n"
   ]
  },
  {
   "cell_type": "markdown",
   "metadata": {},
   "source": [
    "# <a id=\"external_link\"></a>Link to an external website\n",
    "\n",
    "Click **[here](https://www.austincc.edu)** to jump to the main ACC website."
   ]
  },
  {
   "cell_type": "markdown",
   "metadata": {},
   "source": [
    "# <a id=\"internal_link\"></a>Link to an internal anchor\n",
    "\n",
    "Click [here](#bq1) to jump to the word **blockquote** following the second instance of the header that reads **This is a header**."
   ]
  },
  {
   "cell_type": "markdown",
   "metadata": {},
   "source": [
    "# <a id=\"escape_chars\"></a>Escape characters and inline monospace\n",
    "\n",
    "Duplicate the following two lines.\n",
    "\n",
    "I love the asterisk, \\*, character.\n",
    "\n",
    "`I love the asterisk, *, character.`\n",
    "<!-- The following is another way of achieving an effect closest to the output.html file. However, I chose to use the backtick \"`\" method because that is what was discussed in the study guide. -->\n",
    "<!-- <code style='background:none'>I love the asterisk, *, character.</code> -->\n",
    "\n",
    "<!-- If enabled, this break is used to get the extra space, otherwise when the notebook is compiled into html the newlines are scrunched. Unfortunately, even with this hack, the exact spacing is not correct. It seems there maybe some padding in the output.html file. -->\n",
    "<!-- <br> -->"
   ]
  },
  {
   "cell_type": "markdown",
   "metadata": {},
   "source": [
    "\\# The End #\n",
    "\n",
    "Create a blockquote containing the following text solely for adding length to the page.\n",
    "\n",
    "> Markdown allows you to create headers of varying sizes much like you would typically see on an HTML web page. In fact, the word Headers that you see above this paragraph is a header. It is easy to create a header. Just type one or more hashtag # characters and a space at the beginning of a line before a word or group of words. Then terminate the header by advancing to a new line. The more hashtag characters you type, the smaller will be the header. A single hashtag produces the largest possible header. Examples of several headers are shown below. Note that once you reach five hashtag characters, the size of the text doesn't seem to change much but the font automatically changes to Italic. Also note that the limit is six levels of headings. Once you reach seven hashtag characters, the text is no longer rendered as a header. Instead, it is rendered as plain text with seven hashtag characters in the Jupyter Notebook display. (When the notebook is downloaded as HTML and opened in Firefox or Chrome, it is rendered as plain text with a single hashtag character showing.) Markdown allows you to create headers of varying sizes much like you would typically see on an HTML web page. In fact, the word Headers that you see above this paragraph is a header. It is easy to create a header. Just type one or more hashtag # characters and a space at the beginning of a line before a word or group of words. Then terminate the header by advancing to a new line. The more hashtag characters you type, the smaller will be the header. A single hashtag produces the largest possible header. Examples of several headers are shown below. Note that once you reach five hashtag characters, the size of the text doesn't seem to change much but the font automatically changes to Italic. Also note that the limit is six levels of headings. Once you reach seven hashtag characters, the text is no longer rendered as a header. Instead, it is rendered as plain text with seven hashtag characters in the Jupyter Notebook display. (When the notebook is downloaded as HTML and opened in Firefox or Chrome, it is rendered as plain text with a single hashtag character showing.)"
   ]
  }
 ],
 "metadata": {
  "kernelspec": {
   "display_name": "Python 3 (ipykernel)",
   "language": "python",
   "name": "python3"
  },
  "language_info": {
   "codemirror_mode": {
    "name": "ipython",
    "version": 3
   },
   "file_extension": ".py",
   "mimetype": "text/x-python",
   "name": "python",
   "nbconvert_exporter": "python",
   "pygments_lexer": "ipython3",
   "version": "3.9.7"
  }
 },
 "nbformat": 4,
 "nbformat_minor": 2
}
