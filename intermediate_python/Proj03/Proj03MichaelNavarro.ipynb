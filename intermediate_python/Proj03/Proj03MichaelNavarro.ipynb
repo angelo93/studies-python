{
 "cells": [
  {
   "cell_type": "markdown",
   "metadata": {},
   "source": [
    "# Table of contents"
   ]
  },
  {
   "cell_type": "markdown",
   "metadata": {},
   "source": [
    "* [Certification](#certification)\n",
    "* [Lists](#lists)\n",
    "    * [Unordered lists](#ul_ex)\n",
    "    * [Ordered lists](#ol_ex)\n",
    "* [Tables](#tbls)"
   ]
  },
  {
   "cell_type": "markdown",
   "metadata": {},
   "source": [
    "# <a id=\"certification\"></a><span style='color:rgb(51,122,183)'>Certification</span>\n",
    "\n",
    "Your output file must contain the following certification:\n",
    "\n",
    "> I certify that this project is my own work and is not the work of others. I agree not to share my solution with others. - Michael Navarro"
   ]
  },
  {
   "cell_type": "markdown",
   "metadata": {},
   "source": [
    "# <a id=\"lists\"></a><span style='color:rgb(51,122,183)'>Lists</span>"
   ]
  },
  {
   "cell_type": "markdown",
   "metadata": {},
   "source": [
    "## <a id=\"ul_ex\"></a><span style='color:rgb(51,122,183)'>Unordered lists</span>"
   ]
  },
  {
   "cell_type": "markdown",
   "metadata": {},
   "source": [
    "Make your notebook replicate the following unordered list.\n",
    "\n",
    "- Large\n",
    "    - Bear\n",
    "    - Elephant\n",
    "    - Horse\n",
    "- Small\n",
    "    - Dog\n",
    "    - Tiny\n",
    "        - Mosquito\n",
    "        - Ant\n",
    "    - Cat\n",
    "    - Goat"
   ]
  },
  {
   "cell_type": "markdown",
   "metadata": {},
   "source": [
    "## <a id=\"ol_ex\"></a><span style='color:rgb(51,122,183)'>Ordered lists</span>"
   ]
  },
  {
   "cell_type": "markdown",
   "metadata": {},
   "source": [
    "Make your notebook replicate the following ordered list.\n",
    "\n",
    "1. Large\n",
    "    1. Bear\n",
    "    2. Elephant\n",
    "    3. Horse\n",
    "2. Small\n",
    "    1. Dog\n",
    "    2. Tiny\n",
    "        1. Mosquito\n",
    "        2. Ant\n",
    "    3. Cat\n",
    "    4. Goat"
   ]
  },
  {
   "cell_type": "markdown",
   "metadata": {},
   "source": [
    "## <a id=\"tbls\"></a><span style='color:rgb(51,122,183)'>Tables</span>"
   ]
  },
  {
   "cell_type": "markdown",
   "metadata": {},
   "source": [
    "Make yournotebook replicate the following table.\n",
    "\n",
    "Row      | Column 1 | Column 2 | Column 3\n",
    "-------- | -------- | -------- | --------\n",
    "A        | A1       | A2       | A3\n",
    "B        | B1       | B2       | B3\n",
    "C        | C1       |C2        | C3"
   ]
  },
  {
   "cell_type": "markdown",
   "metadata": {},
   "source": [
    "`## The End ##`"
   ]
  }
 ],
 "metadata": {
  "kernelspec": {
   "display_name": "Python 3 (ipykernel)",
   "language": "python",
   "name": "python3"
  },
  "language_info": {
   "codemirror_mode": {
    "name": "ipython",
    "version": 3
   },
   "file_extension": ".py",
   "mimetype": "text/x-python",
   "name": "python",
   "nbconvert_exporter": "python",
   "pygments_lexer": "ipython3",
   "version": "3.9.7"
  }
 },
 "nbformat": 4,
 "nbformat_minor": 2
}
